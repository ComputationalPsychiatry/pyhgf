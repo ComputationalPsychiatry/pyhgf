{
 "cells": [
  {
   "cell_type": "markdown",
   "id": "3e3c1dd7",
   "metadata": {},
   "source": [
    "(theory)=\n",
    "# The Hierarchical Gaussian Filter\n",
    "In this notebook, we introduce the main concepts on which the Hierarchical Gaussian Filter (HGF) is based. We describe the main equations and illustrate the examples with Python code. \n",
    "\n",
    "This part of the documentation is work in progress. For now, please refer to the following publications for the theory behind the models implemented in this toolbox:\n",
    "\n",
    "* Introducing the generative model for volatility coupling and the corresponding belief update equations: <cite>[Mathys et al. 2011][1]</cite> and <cite>[Mathys et al. 2014][2]</cite>\n",
    "* Introducing the generative model for value coupling and the corresponding belief update equations, as well as the conceptualisation of the belief updates as a network of interacting (belief) nodes: chapter 4 in <cite>[Weber 2020][3]</cite>\n",
    "\n",
    "[1]: https://doi.org/10.3389/fnhum.2011.00039\n",
    "[2]: https://doi.org/10.3389/fnhum.2014.00825\n",
    "[3]: https://doi.org/10.3929/ethz-b-000476505\n",
    "\n"
   ]
  },
  {
   "cell_type": "code",
   "execution_count": null,
   "id": "920cf53b",
   "metadata": {},
   "outputs": [],
   "source": []
  }
 ],
 "metadata": {
  "jupytext": {
   "formats": "ipynb,md:myst"
  },
  "kernelspec": {
   "display_name": "Python 3 (Spyder)",
   "language": "python3",
   "name": "python3"
  },
  "language_info": {
   "codemirror_mode": {
    "name": "ipython",
    "version": 3
   },
   "file_extension": ".py",
   "mimetype": "text/x-python",
   "name": "python",
   "nbconvert_exporter": "python",
   "pygments_lexer": "ipython3",
   "version": "3.10.6"
  }
 },
 "nbformat": 4,
 "nbformat_minor": 5
}
