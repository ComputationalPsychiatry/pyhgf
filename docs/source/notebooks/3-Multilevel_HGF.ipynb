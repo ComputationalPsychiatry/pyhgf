{
 "cells": [
  {
   "cell_type": "markdown",
   "id": "3d531da8-f5e7-4979-9c95-a2dd12c8298e",
   "metadata": {
    "editable": true,
    "slideshow": {
     "slide_type": ""
    },
    "tags": []
   },
   "source": [
    "(multilevel_hgf)=\n",
    "# Embeding Hierarchical Gaussian Filters in a multilevel Bayesian model"
   ]
  },
  {
   "cell_type": "markdown",
   "id": "ab7fa0a5-7fc9-47b8-96da-4ff5820a8f70",
   "metadata": {
    "editable": true,
    "execution": {
     "iopub.execute_input": "2023-11-06T08:59:25.111871Z",
     "iopub.status.busy": "2023-11-06T08:59:25.110906Z",
     "iopub.status.idle": "2023-11-06T08:59:25.122657Z",
     "shell.execute_reply": "2023-11-06T08:59:25.121477Z"
    },
    "slideshow": {
     "slide_type": ""
    },
    "tags": []
   },
   "source": [
    "[![Open In Colab](https://colab.research.google.com/assets/colab-badge.svg)](https://colab.research.google.com/github/ilabcode/pyhgf/blob/master/docs/source/notebooks/3-Multilevel_HGF.ipynb)"
   ]
  },
  {
   "cell_type": "code",
   "execution_count": 1,
   "id": "ba34f2ab-bca8-499d-bfd5-f2c022409b50",
   "metadata": {
    "editable": true,
    "slideshow": {
     "slide_type": ""
    },
    "tags": [
     "hide-cell"
    ]
   },
   "outputs": [],
   "source": [
    "%%capture\n",
    "import sys\n",
    "\n",
    "if 'google.colab' in sys.modules:\n",
    "    !pip install pyhgf watermark"
   ]
  },
  {
   "cell_type": "code",
   "execution_count": 2,
   "id": "b2718c0d-5a41-4f56-89be-80318f9ab728",
   "metadata": {
    "editable": true,
    "slideshow": {
     "slide_type": ""
    },
    "tags": [
     "hide-cell"
    ]
   },
   "outputs": [],
   "source": [
    "import arviz as az\n",
    "import jax.numpy as jnp\n",
    "import matplotlib.pyplot as plt\n",
    "import numpy as np\n",
    "import pymc as pm\n",
    "from numpy import loadtxt\n",
    "from pyhgf import load_data\n",
    "from pyhgf.distribution import HGFDistribution, hgf_logp\n",
    "from pyhgf.model import HGF\n",
    "from pyhgf.response import binary_softmax_inverse_temperature\n",
    "import pytensor.tensor as tt"
   ]
  },
  {
   "cell_type": "code",
   "execution_count": 3,
   "id": "20aba0ed-e8c6-4276-8778-496528d41232",
   "metadata": {},
   "outputs": [],
   "source": [
    "np.random.seed(123)"
   ]
  },
  {
   "cell_type": "markdown",
   "id": "dbef25ef-44e0-4d35-bfa4-5be3bb3a393e",
   "metadata": {},
   "source": [
    "In the previous tutorials, we discussed using binary, categorical and continuous Hierarchical Gaussian Filters (HGF) with different levels of volatility. By creating HGF networks this way, we were simulating computations occurring at the agent level (i.e. both the observations and actions were made by one agent, and we estimated the posterior density distribution of parameters for that agent). However, many situations in experimental neuroscience and computational psychiatry will require us to go one step further and to make inferences at the population level, therefore fitting many models at the same time and estimating the density distribution of hyper-priors (see for example case studies from {cite:p}`2014:lee`). \n",
    "\n",
    "Luckily, we already have all the components in place to do that. We already used Bayesian networks in the previous sections when we were inferring the distribution of some parameters. Here, we only had one agent (i.e. one participant), and therefore did not need any hyperprior. We need to extend this approach a bit, and explicitly state that we want to fit many models (participants) simultaneously, and draw the values of some parameters from a hyper-prior (i.e. the group-level distribution).\n",
    "\n",
    "But before we move forward, maybe it is worth clarifying some of the terminology we use, especially as, starting from now, many things are called **networks** but are pointing to different parts of the workflow. We can indeed distinguish two kinds:\n",
    "1. The predictive coding neural networks. This is the kind of network that [pyhgf](https://github.com/ilabcode/pyhgf) is designed to handle (see {ref}`#probabilistic_networks`). Every HGF model is an instance of such a network.\n",
    "2. The Bayesian (multilevel) network is the computational graph that is created with tools like [pymc](https://www.pymc.io/welcome.html). This graph will represent the dependencies between our variables and the way they are transformed.\n",
    "\n",
    "In this notebook, we are going to create the second type of network and incorporate many networks of the first type in it as custom distribution."
   ]
  },
  {
   "cell_type": "markdown",
   "id": "53466426-074d-4f49-b006-5086fb77a597",
   "metadata": {},
   "source": [
    "## Simulate a dataset\n",
    "We start by simulating a dataset that would containt the decisions from a group of participants undergoing a standard one-armed bandit task. We use the same binary time series as reference than from the previous tutorials. This would represent the association between the stimuli and the outcome, this is controlled by the experimenter and here we assume all participants are presented with the same sequence of association."
   ]
  },
  {
   "cell_type": "code",
   "execution_count": 4,
   "id": "14bd6de6-10d1-4440-861b-f6af6fe940c9",
   "metadata": {},
   "outputs": [],
   "source": [
    "u, _ = load_data(\"binary\")"
   ]
  },
  {
   "cell_type": "markdown",
   "id": "38710a5d-57d8-48b7-9257-862fd2c9236c",
   "metadata": {},
   "source": [
    "Using the same reasoning as in the previous tutorial {ref}`#custom_response_functions`, we simulate the trajectories of beliefs from participants being presented with this sequence of observation. Here, we vary one parameter in the perceptual model, we assume that the tonic volatility from the second level is sampled from a population distribution such as: \n",
    "\n",
    "$$\n",
    "\\omega_{2_i} \\sim \\mathcal{N}(-4.0, 1.0)\n",
    "$$\n",
    "\n",
    "This produces belief trajectories that can be used to infer propensity for decision at each time point. Moreover, we will assume that the decision function incorporates the possibility of a bias in the link between the belief and the decision in the form of the inverse temperature parameter, such as:\n",
    "\n",
    "$$\n",
    "P(A|\\hat{\\mu}_1^{(k)}, t) = \\frac{1}{1+e^{-t\\hat{\\mu}_1^{(k)}}}\n",
    "$$\n",
    "\n",
    "Where $A$ is a positive association between the stimulus and the outcome and $t$ is the temperature parameter."
   ]
  },
  {
   "cell_type": "code",
   "execution_count": 5,
   "id": "e590009e-89c1-410a-a05b-8a2c34e10b65",
   "metadata": {},
   "outputs": [],
   "source": [
    "def sigmoid(x, temperature):\n",
    "    \"\"\"The sigmoid response function with inverse temperature parameter.\"\"\"\n",
    "    return 1 / (1 + np.exp(-temperature * x))"
   ]
  },
  {
   "cell_type": "code",
   "execution_count": 6,
   "id": "81e72352-779b-4ed0-9bf4-e593a7c55c90",
   "metadata": {},
   "outputs": [
    {
     "name": "stderr",
     "output_type": "stream",
     "text": [
      "An NVIDIA GPU may be present on this machine, but a CUDA-enabled jaxlib is not installed. Falling back to cpu.\n"
     ]
    }
   ],
   "source": [
    "N = 10  # number of agents/participants in the study\n",
    "\n",
    "# create just one default network - we will simply change the values of interest before fitting to save time\n",
    "agent = HGF(\n",
    "    n_levels=2,\n",
    "    verbose=False,\n",
    "    model_type=\"binary\",\n",
    "    initial_mean={\"1\": 0.0, \"2\": 0.0},\n",
    "    initial_precision={\"1\": 0.0, \"2\": 1e1},\n",
    "    tonic_volatility={\"2\": -4.0},\n",
    ")\n",
    "\n",
    "# observations (always the same), simulated decisions, samples values for temperature and volatility\n",
    "inputs, responses, temperatures, volatilities = [], [], [], []\n",
    "for i in range(N):\n",
    "    # sample one new value of the tonic volatility at the second level and fit to observations\n",
    "    volatility = np.random.normal(-4.0, 1.0)\n",
    "    agent.attributes[2][\"tonic_volatility\"] = volatility\n",
    "    agent.input_data(input_data=u)\n",
    "\n",
    "    # sample one value for the inverse temperature (here in log space) and simulate responses\n",
    "    temperature = np.exp(np.random.normal(.5, .5))\n",
    "    p = sigmoid(x=agent.node_trajectories[1][\"expected_mean\"], temperature=temperature)\n",
    "\n",
    "    # store observations and decisions separately\n",
    "    inputs.append(u)\n",
    "    responses.append(np.random.binomial(p=p, n=1))"
   ]
  },
  {
   "cell_type": "markdown",
   "id": "6e283a78-329c-470c-8f62-7fb12b5b5861",
   "metadata": {
    "tags": []
   },
   "source": [
    "## A multilevel binary HGF\n",
    "In this part, we start embedding the HGF in a multilevel model using PyMC. We use the same core distribution (the [HGFDistribution class](pyhgf.distribution.HGFDistribution)) and leverage the possibility of automatic broadcasting (see below) to apply the same procedure to multiple HGF models in parallel. Note that the list of observations and decisions from all participants is provided and stored when we create the [PyTensor](https://pytensor.readthedocs.io) Op instance so it is not necessary to provide it thereafter."
   ]
  },
  {
   "cell_type": "markdown",
   "id": "48020213-7f26-4201-b4b9-f072231bc225",
   "metadata": {},
   "source": [
    "```{hint} Using automatic broadcasting\n",
    "To estimate group-level parameters, we will have to fit multiple models at the same time, either on different input data, on the same data with different parameters or on different datasets with different parameters. This step is handled natively both by the [log probability function](pyhgf.distribution.hgf_logp) and the [HGFDistribution class](pyhgf.distribution.HGFDistribution) using a pseudo [broadcasting](https://numpy.org/doc/stable/user/basics.broadcasting.html) approach. When a list of *n* input time series is provided, the function will automatically apply *n* models using the provided parameters. If for some parameters an array of length *n* is provided, each model will use the n-th value as a parameter. Here, we are going to rely on this feature to compute the log probability of *n* model, using *n* time series as input and *n* different parameters to test.\n",
    "```"
   ]
  },
  {
   "cell_type": "code",
   "execution_count": 7,
   "id": "e3cb9a9e-951f-4048-b04b-c985028dba2d",
   "metadata": {},
   "outputs": [],
   "source": [
    "hgf_logp_op = HGFDistribution(\n",
    "    n_levels=2,\n",
    "    model_type=\"binary\",\n",
    "    input_data=inputs,\n",
    "    response_function=binary_softmax_inverse_temperature,\n",
    "    response_function_inputs=responses,\n",
    ")"
   ]
  },
  {
   "cell_type": "code",
   "execution_count": 13,
   "id": "b7d84b8a-b398-4c10-b001-d3743a38de16",
   "metadata": {},
   "outputs": [],
   "source": [
    "with pm.Model() as two_levels_binary_hgf:\n",
    "\n",
    "    # tonic volatility\n",
    "    mu_volatility = pm.Normal(\"mu_volatility\", -5, 5)\n",
    "    sigma_volatility = pm.HalfNormal(\"sigma_volatility\", 10)\n",
    "    volatility = pm.Normal(\"volatility\", mu=mu_volatility, sigma=sigma_volatility, shape=N)\n",
    "\n",
    "    # inverse temperature\n",
    "    mu_temperature = pm.Normal(\"mu_temperature\", 0, 2)\n",
    "    sigma_temperature = pm.HalfNormal(\"sigma_temperature\", 2)\n",
    "    inverse_temperature = pm.LogNormal(\"inverse_temperature\", mu=mu_temperature, sigma=sigma_temperature, shape=N)\n",
    "\n",
    "    # The multi-HGF distribution\n",
    "    # --------------------------\n",
    "    pm.Potential(\"hgf_loglike\", \n",
    "             hgf_logp_op(\n",
    "                 tonic_volatility_2=volatility,\n",
    "                 response_function_parameters=inverse_temperature\n",
    "             )\n",
    "        )"
   ]
  },
  {
   "cell_type": "markdown",
   "id": "7d0e01e8-b6d2-43e7-b4ac-0476439156cd",
   "metadata": {},
   "source": [
    "## Plot the computational graph\n",
    "The multilevel model includes hyperpriors over the mean and standard deviation of both the inverse temperature and the tonic volatility of the second level.\n",
    "\n",
    "```{note}\n",
    "We are sampling the inverse temperature in log space to ensure it will always be higher than 0, while being able to use normal hyper-priors at the group level.\n",
    "```"
   ]
  },
  {
   "cell_type": "code",
   "execution_count": 14,
   "id": "2627d47c-4aa6-4f8e-b073-f2d2a1f5be95",
   "metadata": {},
   "outputs": [
    {
     "data": {
      "image/svg+xml": [
       "<?xml version=\"1.0\" encoding=\"UTF-8\" standalone=\"no\"?>\n",
       "<!DOCTYPE svg PUBLIC \"-//W3C//DTD SVG 1.1//EN\"\n",
       " \"http://www.w3.org/Graphics/SVG/1.1/DTD/svg11.dtd\">\n",
       "<!-- Generated by graphviz version 8.0.5 (20230506.1012)\n",
       " -->\n",
       "<!-- Pages: 1 -->\n",
       "<svg width=\"808pt\" height=\"346pt\"\n",
       " viewBox=\"0.00 0.00 807.82 345.71\" xmlns=\"http://www.w3.org/2000/svg\" xmlns:xlink=\"http://www.w3.org/1999/xlink\">\n",
       "<g id=\"graph0\" class=\"graph\" transform=\"scale(1 1) rotate(0) translate(4 341.71)\">\n",
       "<polygon fill=\"white\" stroke=\"none\" points=\"-4,4 -4,-341.71 803.82,-341.71 803.82,4 -4,4\"/>\n",
       "<g id=\"clust1\" class=\"cluster\">\n",
       "<title>cluster10</title>\n",
       "<path fill=\"none\" stroke=\"black\" d=\"M222.86,-99.46C222.86,-99.46 578.86,-99.46 578.86,-99.46 584.86,-99.46 590.86,-105.46 590.86,-111.46 590.86,-111.46 590.86,-213.21 590.86,-213.21 590.86,-219.21 584.86,-225.21 578.86,-225.21 578.86,-225.21 222.86,-225.21 222.86,-225.21 216.86,-225.21 210.86,-219.21 210.86,-213.21 210.86,-213.21 210.86,-111.46 210.86,-111.46 210.86,-105.46 216.86,-99.46 222.86,-99.46\"/>\n",
       "<text text-anchor=\"middle\" x=\"573.86\" y=\"-107.41\" font-family=\"Times,serif\" font-size=\"14.00\">10</text>\n",
       "</g>\n",
       "<!-- sigma_volatility -->\n",
       "<g id=\"node1\" class=\"node\">\n",
       "<title>sigma_volatility</title>\n",
       "<ellipse fill=\"none\" stroke=\"black\" cx=\"90.86\" cy=\"-295.46\" rx=\"90.86\" ry=\"42.25\"/>\n",
       "<text text-anchor=\"middle\" x=\"90.86\" y=\"-308.04\" font-family=\"Times,serif\" font-size=\"14.00\">sigma_volatility</text>\n",
       "<text text-anchor=\"middle\" x=\"90.86\" y=\"-290.79\" font-family=\"Times,serif\" font-size=\"14.00\">~</text>\n",
       "<text text-anchor=\"middle\" x=\"90.86\" y=\"-273.54\" font-family=\"Times,serif\" font-size=\"14.00\">HalfNormal</text>\n",
       "</g>\n",
       "<!-- volatility -->\n",
       "<g id=\"node6\" class=\"node\">\n",
       "<title>volatility</title>\n",
       "<ellipse fill=\"none\" stroke=\"black\" cx=\"274.86\" cy=\"-174.96\" rx=\"55.86\" ry=\"42.25\"/>\n",
       "<text text-anchor=\"middle\" x=\"274.86\" y=\"-187.54\" font-family=\"Times,serif\" font-size=\"14.00\">volatility</text>\n",
       "<text text-anchor=\"middle\" x=\"274.86\" y=\"-170.29\" font-family=\"Times,serif\" font-size=\"14.00\">~</text>\n",
       "<text text-anchor=\"middle\" x=\"274.86\" y=\"-153.04\" font-family=\"Times,serif\" font-size=\"14.00\">Normal</text>\n",
       "</g>\n",
       "<!-- sigma_volatility&#45;&gt;volatility -->\n",
       "<g id=\"edge2\" class=\"edge\">\n",
       "<title>sigma_volatility&#45;&gt;volatility</title>\n",
       "<path fill=\"none\" stroke=\"black\" d=\"M143.1,-260.82C168.36,-244.55 198.58,-225.09 223.7,-208.91\"/>\n",
       "<polygon fill=\"black\" stroke=\"black\" points=\"225.2,-211.46 231.71,-203.11 221.41,-205.58 225.2,-211.46\"/>\n",
       "</g>\n",
       "<!-- mu_volatility -->\n",
       "<g id=\"node2\" class=\"node\">\n",
       "<title>mu_volatility</title>\n",
       "<ellipse fill=\"none\" stroke=\"black\" cx=\"275.86\" cy=\"-295.46\" rx=\"76.54\" ry=\"42.25\"/>\n",
       "<text text-anchor=\"middle\" x=\"275.86\" y=\"-308.04\" font-family=\"Times,serif\" font-size=\"14.00\">mu_volatility</text>\n",
       "<text text-anchor=\"middle\" x=\"275.86\" y=\"-290.79\" font-family=\"Times,serif\" font-size=\"14.00\">~</text>\n",
       "<text text-anchor=\"middle\" x=\"275.86\" y=\"-273.54\" font-family=\"Times,serif\" font-size=\"14.00\">Normal</text>\n",
       "</g>\n",
       "<!-- mu_volatility&#45;&gt;volatility -->\n",
       "<g id=\"edge1\" class=\"edge\">\n",
       "<title>mu_volatility&#45;&gt;volatility</title>\n",
       "<path fill=\"none\" stroke=\"black\" d=\"M275.51,-253.01C275.45,-245.12 275.38,-236.77 275.31,-228.58\"/>\n",
       "<polygon fill=\"black\" stroke=\"black\" points=\"278.8,-228.55 275.21,-218.58 271.8,-228.61 278.8,-228.55\"/>\n",
       "</g>\n",
       "<!-- mu_temperature -->\n",
       "<g id=\"node3\" class=\"node\">\n",
       "<title>mu_temperature</title>\n",
       "<ellipse fill=\"none\" stroke=\"black\" cx=\"465.86\" cy=\"-295.46\" rx=\"95.64\" ry=\"42.25\"/>\n",
       "<text text-anchor=\"middle\" x=\"465.86\" y=\"-308.04\" font-family=\"Times,serif\" font-size=\"14.00\">mu_temperature</text>\n",
       "<text text-anchor=\"middle\" x=\"465.86\" y=\"-290.79\" font-family=\"Times,serif\" font-size=\"14.00\">~</text>\n",
       "<text text-anchor=\"middle\" x=\"465.86\" y=\"-273.54\" font-family=\"Times,serif\" font-size=\"14.00\">Normal</text>\n",
       "</g>\n",
       "<!-- inverse_temperature -->\n",
       "<g id=\"node7\" class=\"node\">\n",
       "<title>inverse_temperature</title>\n",
       "<ellipse fill=\"none\" stroke=\"black\" cx=\"465.86\" cy=\"-174.96\" rx=\"116.85\" ry=\"42.25\"/>\n",
       "<text text-anchor=\"middle\" x=\"465.86\" y=\"-187.54\" font-family=\"Times,serif\" font-size=\"14.00\">inverse_temperature</text>\n",
       "<text text-anchor=\"middle\" x=\"465.86\" y=\"-170.29\" font-family=\"Times,serif\" font-size=\"14.00\">~</text>\n",
       "<text text-anchor=\"middle\" x=\"465.86\" y=\"-153.04\" font-family=\"Times,serif\" font-size=\"14.00\">LogNormal</text>\n",
       "</g>\n",
       "<!-- mu_temperature&#45;&gt;inverse_temperature -->\n",
       "<g id=\"edge3\" class=\"edge\">\n",
       "<title>mu_temperature&#45;&gt;inverse_temperature</title>\n",
       "<path fill=\"none\" stroke=\"black\" d=\"M465.86,-253.01C465.86,-245.12 465.86,-236.77 465.86,-228.58\"/>\n",
       "<polygon fill=\"black\" stroke=\"black\" points=\"469.36,-228.58 465.86,-218.58 462.36,-228.58 469.36,-228.58\"/>\n",
       "</g>\n",
       "<!-- sigma_temperature -->\n",
       "<g id=\"node4\" class=\"node\">\n",
       "<title>sigma_temperature</title>\n",
       "<ellipse fill=\"none\" stroke=\"black\" cx=\"689.86\" cy=\"-295.46\" rx=\"109.96\" ry=\"42.25\"/>\n",
       "<text text-anchor=\"middle\" x=\"689.86\" y=\"-308.04\" font-family=\"Times,serif\" font-size=\"14.00\">sigma_temperature</text>\n",
       "<text text-anchor=\"middle\" x=\"689.86\" y=\"-290.79\" font-family=\"Times,serif\" font-size=\"14.00\">~</text>\n",
       "<text text-anchor=\"middle\" x=\"689.86\" y=\"-273.54\" font-family=\"Times,serif\" font-size=\"14.00\">HalfNormal</text>\n",
       "</g>\n",
       "<!-- sigma_temperature&#45;&gt;inverse_temperature -->\n",
       "<g id=\"edge4\" class=\"edge\">\n",
       "<title>sigma_temperature&#45;&gt;inverse_temperature</title>\n",
       "<path fill=\"none\" stroke=\"black\" d=\"M625.97,-260.66C599.37,-246.59 568.29,-230.15 540.63,-215.52\"/>\n",
       "<polygon fill=\"black\" stroke=\"black\" points=\"542.48,-212 532,-210.42 539.21,-218.19 542.48,-212\"/>\n",
       "</g>\n",
       "<!-- hgf_loglike -->\n",
       "<g id=\"node5\" class=\"node\">\n",
       "<title>hgf_loglike</title>\n",
       "<polygon fill=\"lightgrey\" stroke=\"black\" points=\"441.23,-26.79 441.23,-64.67 399.43,-91.46 340.3,-91.46 298.49,-64.67 298.49,-26.79 340.3,0 399.43,0 441.23,-26.79\"/>\n",
       "<text text-anchor=\"middle\" x=\"369.86\" y=\"-58.31\" font-family=\"Times,serif\" font-size=\"14.00\">hgf_loglike</text>\n",
       "<text text-anchor=\"middle\" x=\"369.86\" y=\"-41.06\" font-family=\"Times,serif\" font-size=\"14.00\">~</text>\n",
       "<text text-anchor=\"middle\" x=\"369.86\" y=\"-23.81\" font-family=\"Times,serif\" font-size=\"14.00\">Potential</text>\n",
       "</g>\n",
       "<!-- volatility&#45;&gt;hgf_loglike -->\n",
       "<g id=\"edge5\" class=\"edge\">\n",
       "<title>volatility&#45;&gt;hgf_loglike</title>\n",
       "<path fill=\"none\" stroke=\"black\" d=\"M301.83,-137.84C310.92,-125.67 321.25,-111.83 331.07,-98.68\"/>\n",
       "<polygon fill=\"black\" stroke=\"black\" points=\"334.25,-101.27 337.43,-91.17 328.64,-97.08 334.25,-101.27\"/>\n",
       "</g>\n",
       "<!-- inverse_temperature&#45;&gt;hgf_loglike -->\n",
       "<g id=\"edge6\" class=\"edge\">\n",
       "<title>inverse_temperature&#45;&gt;hgf_loglike</title>\n",
       "<path fill=\"none\" stroke=\"black\" d=\"M435.49,-133.7C427,-122.46 417.66,-110.08 408.75,-98.27\"/>\n",
       "<polygon fill=\"black\" stroke=\"black\" points=\"411.18,-96.68 402.36,-90.81 405.59,-100.9 411.18,-96.68\"/>\n",
       "</g>\n",
       "</g>\n",
       "</svg>\n"
      ],
      "text/plain": [
       "<graphviz.graphs.Digraph at 0x7fa720c8a250>"
      ]
     },
     "execution_count": 14,
     "metadata": {},
     "output_type": "execute_result"
    }
   ],
   "source": [
    "pm.model_to_graphviz(two_levels_binary_hgf)"
   ]
  },
  {
   "cell_type": "markdown",
   "id": "1ee804ce-aae3-4228-aa16-aaa07b337c5c",
   "metadata": {},
   "source": [
    "## Sampling"
   ]
  },
  {
   "cell_type": "code",
   "execution_count": 15,
   "id": "3e98e263-093d-45cd-afea-e3cd316a2591",
   "metadata": {},
   "outputs": [
    {
     "name": "stderr",
     "output_type": "stream",
     "text": [
      "Auto-assigning NUTS sampler...\n",
      "Initializing NUTS using jitter+adapt_diag...\n",
      "Sequential sampling (2 chains in 1 job)\n",
      "NUTS: [mu_volatility, sigma_volatility, volatility, mu_temperature, sigma_temperature, inverse_temperature]\n"
     ]
    },
    {
     "data": {
      "text/html": [
       "\n",
       "<style>\n",
       "    /* Turns off some styling */\n",
       "    progress {\n",
       "        /* gets rid of default border in Firefox and Opera. */\n",
       "        border: none;\n",
       "        /* Needs to be in here for Safari polyfill so background images work as expected. */\n",
       "        background-size: auto;\n",
       "    }\n",
       "    progress:not([value]), progress:not([value])::-webkit-progress-bar {\n",
       "        background: repeating-linear-gradient(45deg, #7e7e7e, #7e7e7e 10px, #5c5c5c 10px, #5c5c5c 20px);\n",
       "    }\n",
       "    .progress-bar-interrupted, .progress-bar-interrupted::-webkit-progress-bar {\n",
       "        background: #F44336;\n",
       "    }\n",
       "</style>\n"
      ],
      "text/plain": [
       "<IPython.core.display.HTML object>"
      ]
     },
     "metadata": {},
     "output_type": "display_data"
    },
    {
     "data": {
      "text/html": [
       "\n",
       "    <div>\n",
       "      <progress value='2000' class='' max='2000' style='width:300px; height:20px; vertical-align: middle;'></progress>\n",
       "      100.00% [2000/2000 00:27&lt;00:00 Sampling chain 0, 59 divergences]\n",
       "    </div>\n",
       "    "
      ],
      "text/plain": [
       "<IPython.core.display.HTML object>"
      ]
     },
     "metadata": {},
     "output_type": "display_data"
    },
    {
     "data": {
      "text/html": [
       "\n",
       "<style>\n",
       "    /* Turns off some styling */\n",
       "    progress {\n",
       "        /* gets rid of default border in Firefox and Opera. */\n",
       "        border: none;\n",
       "        /* Needs to be in here for Safari polyfill so background images work as expected. */\n",
       "        background-size: auto;\n",
       "    }\n",
       "    progress:not([value]), progress:not([value])::-webkit-progress-bar {\n",
       "        background: repeating-linear-gradient(45deg, #7e7e7e, #7e7e7e 10px, #5c5c5c 10px, #5c5c5c 20px);\n",
       "    }\n",
       "    .progress-bar-interrupted, .progress-bar-interrupted::-webkit-progress-bar {\n",
       "        background: #F44336;\n",
       "    }\n",
       "</style>\n"
      ],
      "text/plain": [
       "<IPython.core.display.HTML object>"
      ]
     },
     "metadata": {},
     "output_type": "display_data"
    },
    {
     "data": {
      "text/html": [
       "\n",
       "    <div>\n",
       "      <progress value='2000' class='' max='2000' style='width:300px; height:20px; vertical-align: middle;'></progress>\n",
       "      100.00% [2000/2000 00:27&lt;00:00 Sampling chain 1, 41 divergences]\n",
       "    </div>\n",
       "    "
      ],
      "text/plain": [
       "<IPython.core.display.HTML object>"
      ]
     },
     "metadata": {},
     "output_type": "display_data"
    },
    {
     "name": "stderr",
     "output_type": "stream",
     "text": [
      "Sampling 2 chains for 1_000 tune and 1_000 draw iterations (2_000 + 2_000 draws total) took 55 seconds.\n",
      "We recommend running at least 4 chains for robust computation of convergence diagnostics\n"
     ]
    }
   ],
   "source": [
    "with two_levels_binary_hgf:\n",
    "    two_level_hgf_idata = pm.sample(chains=2, cores=1)"
   ]
  },
  {
   "cell_type": "markdown",
   "id": "c7305635-b420-4d54-8015-72c0f3a03748",
   "metadata": {},
   "source": [
    "## Visualization of the posterior distributions"
   ]
  },
  {
   "cell_type": "code",
   "execution_count": 16,
   "id": "506039b8-80a4-40d5-97e5-31f425535b5e",
   "metadata": {},
   "outputs": [
    {
     "data": {
      "image/png": "[encoded data removed]",
      "text/plain": [
       "<Figure size 1472x552 with 2 Axes>"
      ]
     },
     "metadata": {},
     "output_type": "display_data"
    }
   ],
   "source": [
    "az.plot_posterior(two_level_hgf_idata, var_names=[\"mu_temperature\", \"mu_volatility\"], ref_val=[.5, -4.0])\n",
    "plt.tight_layout()"
   ]
  },
  {
   "cell_type": "markdown",
   "id": "ffe250ba-d679-4c9c-ab48-d9d4f8fd3eaa",
   "metadata": {},
   "source": [
    "# System configuration"
   ]
  },
  {
   "cell_type": "code",
   "execution_count": 12,
   "id": "bb873616-fc3d-4e97-aa8c-1498dcb00952",
   "metadata": {},
   "outputs": [
    {
     "name": "stdout",
     "output_type": "stream",
     "text": [
      "Last updated: Fri Mar 15 2024\n",
      "\n",
      "Python implementation: CPython\n",
      "Python version       : 3.9.16\n",
      "IPython version      : 8.14.0\n",
      "\n",
      "pyhgf : 0.0.15\n",
      "jax   : 0.4.19\n",
      "jaxlib: 0.4.19\n",
      "\n",
      "matplotlib: 3.7.1\n",
      "sys       : 3.9.16 | packaged by conda-forge | (main, Feb  1 2023, 21:39:03) \n",
      "[GCC 11.3.0]\n",
      "pytensor  : 2.18.6\n",
      "pymc      : 5.10.3\n",
      "jax       : 0.4.19\n",
      "numpy     : 1.22.0\n",
      "arviz     : 0.16.1\n",
      "\n",
      "Watermark: 2.4.3\n",
      "\n"
     ]
    }
   ],
   "source": [
    "%load_ext watermark\n",
    "%watermark -n -u -v -iv -w -p pyhgf,jax,jaxlib"
   ]
  },
  {
   "cell_type": "code",
   "execution_count": null,
   "id": "2b9faf02-8164-48b1-8080-ee287bb93ebe",
   "metadata": {},
   "outputs": [],
   "source": []
  }
 ],
 "metadata": {
  "interpreter": {
   "hash": "40d3a090f54c6569ab1632332b64b2c03c39dcf918b08424e98f38b5ae0af88f"
  },
  "jupytext": {
   "formats": "ipynb,md:myst"
  },
  "kernelspec": {
   "display_name": "Python 3 (ipykernel)",
   "language": "python",
   "name": "python3"
  },
  "language_info": {
   "codemirror_mode": {
    "name": "ipython",
    "version": 3
   },
   "file_extension": ".py",
   "mimetype": "text/x-python",
   "name": "python",
   "nbconvert_exporter": "python",
   "pygments_lexer": "ipython3",
   "version": "3.9.16"
  }
 },
 "nbformat": 4,
 "nbformat_minor": 5
}
