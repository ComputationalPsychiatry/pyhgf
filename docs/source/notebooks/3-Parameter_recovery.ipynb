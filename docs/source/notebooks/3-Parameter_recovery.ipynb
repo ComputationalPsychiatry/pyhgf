{
 "cells": [
  {
   "cell_type": "markdown",
   "id": "3d531da8-f5e7-4979-9c95-a2dd12c8298e",
   "metadata": {},
   "source": [
    "(parameters_recovery)=\n",
    "# Parameters recovery, prior predictive and posterior predictive sampling"
   ]
  },
  {
   "cell_type": "code",
   "execution_count": null,
   "id": "4bc4fb2a-0224-4374-b046-76ab5904e757",
   "metadata": {},
   "outputs": [],
   "source": [
    "%%capture\n",
    "import sys\n",
    "if 'google.colab' in sys.modules:\n",
    "    ! pip install pyhgf"
   ]
  },
  {
   "cell_type": "code",
   "execution_count": null,
   "id": "20aba0ed-e8c6-4276-8778-496528d41232",
   "metadata": {},
   "outputs": [],
   "source": [
    "from numpy import loadtxt\n",
    "import numpy as np\n",
    "from pyhgf.distribution import hgf_logp, HGFDistribution\n",
    "from pyhgf import load_data\n",
    "from pyhgf.response import total_binary_surprise\n",
    "import jax.numpy as jnp\n",
    "import numpy as np\n",
    "import pymc as pm\n",
    "import arviz as az\n",
    "import matplotlib.pyplot as plt\n",
    "\n",
    "np.random.seed(123)"
   ]
  },
  {
   "cell_type": "markdown",
   "id": "dbef25ef-44e0-4d35-bfa4-5be3bb3a393e",
   "metadata": {},
   "source": [
    "In this tutorial, we are going to demonstrate some forms of parameters recovery, prior predictive and posterior predictive sampling that can be a way to assess the strength of the model fitting."
   ]
  },
  {
   "cell_type": "markdown",
   "id": "a3a79141-eeda-47fa-bff1-eecd6bf035ee",
   "metadata": {},
   "source": [
    "## Continuous HGF\n",
    "### Simulate a dataset"
   ]
  },
  {
   "cell_type": "code",
   "execution_count": null,
   "id": "70400fe9-3277-4674-97de-d17543d42054",
   "metadata": {},
   "outputs": [],
   "source": [
    "n_data = 6\n",
    "dataset = []\n",
    "for participant in range(n_data):\n",
    "    input_data = []\n",
    "    kappa_1 = 1.0\n",
    "    omega_1 = -10.0\n",
    "    omega_2 = -10.0\n",
    "    mu_1 = 0.0\n",
    "    mu_2 = 0.0\n",
    "    pi_1 = 1e4\n",
    "    pi_2 = 1e1\n",
    "    \n",
    "    # two-level hierarchical gaussian random walk\n",
    "    for i in range(1000):\n",
    "        \n",
    "        # x2\n",
    "        pi_2 = np.exp(omega_2)\n",
    "        mu_2 = np.random.normal(mu_2, pi_2**.5)\n",
    "\n",
    "        # x1\n",
    "        pi_1 = np.exp(kappa_1 * mu_2 + omega_1)\n",
    "        mu_1 = np.random.normal(mu_1, pi_1**.5)\n",
    "        \n",
    "        # input node\n",
    "        u = np.random.normal(mu_1, 1e-4**.5)\n",
    "        input_data.append(u)\n",
    "\n",
    "    dataset.append(input_data)"
   ]
  },
  {
   "cell_type": "code",
   "execution_count": null,
   "id": "05113abe-28f8-4dce-916a-7ec7610ab080",
   "metadata": {},
   "outputs": [],
   "source": [
    "for rw in dataset:\n",
    "    plt.plot(rw)"
   ]
  },
  {
   "cell_type": "markdown",
   "id": "004f7cf5-9be4-4a07-ad6d-1fdfda83d39a",
   "metadata": {
    "tags": []
   },
   "source": [
    "## Embedding a serie of HGFs in a graphical model"
   ]
  },
  {
   "cell_type": "markdown",
   "id": "0edda7e6-6cae-4fd3-841b-16b985b7635e",
   "metadata": {},
   "source": [
    "Here, we are goingin to estimate the parameter $omega_{1}$ from the time series created by the hierarchical random walks. All the time series were generated using $omega_{1} = -10.0$ and we want to see how the Bayesian inference can retrieve these values."
   ]
  },
  {
   "cell_type": "code",
   "execution_count": null,
   "id": "70824c5b-3800-48f6-b8f6-f2f2a2bf1307",
   "metadata": {},
   "outputs": [],
   "source": [
    "hgf_logp_op = HGFDistribution(\n",
    "    n_levels=2,\n",
    "    model_type=\"continuous\",\n",
    "    input_data=dataset,\n",
    ")"
   ]
  },
  {
   "cell_type": "code",
   "execution_count": null,
   "id": "0c79400e-fadf-485e-a5e8-52fe86db13b5",
   "metadata": {},
   "outputs": [],
   "source": [
    "with pm.Model() as model:\n",
    "    \n",
    "    # Priors\n",
    "    #-------\n",
    "    omega_1 = pm.Normal(\"omega_1\", mu=0.0, sigma=2.0, shape=n_data)\n",
    "\n",
    "    pm.Potential(\n",
    "        \"hgf_loglike\",\n",
    "        hgf_logp_op(\n",
    "            omega_1=omega_1,\n",
    "            omega_2=-10.0,\n",
    "            omega_input=np.log(1e-4),\n",
    "            rho_1=0.0,\n",
    "            rho_2=0.0,\n",
    "            pi_1=1e4,\n",
    "            pi_2=1e1,\n",
    "            mu_1=0.0,\n",
    "            mu_2=0.0,\n",
    "            kappa_1=1.0,\n",
    "            omega_3=jnp.nan,\n",
    "            rho_3=jnp.nan,\n",
    "            pi_3=jnp.nan,\n",
    "            mu_3=jnp.nan,\n",
    "            kappa_2=jnp.nan\n",
    "        ),\n",
    "    )"
   ]
  },
  {
   "cell_type": "code",
   "execution_count": null,
   "id": "eebbe283-a0e0-4a1a-a760-2181f54e9e72",
   "metadata": {},
   "outputs": [],
   "source": [
    "pm.model_to_graphviz(model)"
   ]
  },
  {
   "cell_type": "code",
   "execution_count": null,
   "id": "58f804e8-e559-4a46-a637-64f13d295677",
   "metadata": {},
   "outputs": [],
   "source": [
    "with model:\n",
    "    idata = pm.sample(chains=4, cores=4, tune=1000)"
   ]
  },
  {
   "cell_type": "code",
   "execution_count": null,
   "id": "3173a74b-5503-413c-b830-8e68db5cc0ab",
   "metadata": {},
   "outputs": [],
   "source": [
    "az.plot_trace(idata);\n",
    "plt.tight_layout()"
   ]
  },
  {
   "cell_type": "code",
   "execution_count": null,
   "id": "45f3fcb8-a371-49e7-b1dd-76b229cc716e",
   "metadata": {},
   "outputs": [],
   "source": [
    "az.summary(idata)"
   ]
  }
 ],
 "metadata": {
  "interpreter": {
   "hash": "40d3a090f54c6569ab1632332b64b2c03c39dcf918b08424e98f38b5ae0af88f"
  },
  "jupytext": {
   "formats": "ipynb,md:myst"
  },
  "kernelspec": {
   "display_name": "Python 3 (ipykernel)",
   "language": "python",
   "name": "python3"
  },
  "language_info": {
   "codemirror_mode": {
    "name": "ipython",
    "version": 3
   },
   "file_extension": ".py",
   "mimetype": "text/x-python",
   "name": "python",
   "nbconvert_exporter": "python",
   "pygments_lexer": "ipython3",
   "version": "3.8.8"
  }
 },
 "nbformat": 4,
 "nbformat_minor": 5
}
