{
 "cells": [
  {
   "cell_type": "markdown",
   "id": "b0a4b50b-cf3d-4680-9010-9ea86064b2b7",
   "metadata": {},
   "source": [
    "(probabilistic_networks)=\n",
    "# Creating and manipulating networks of probabilistic nodes\n",
    "\n",
    "[pyhgf](https://ilabcode.github.io/pyhgf/index.html#) is designed with inspiration from graph neural network libraries that manipulates networks of probabilistic nodes and performs beliefs propagation using dedicated variational message passing. In this notebook, we detail the necessary variables that are required to define such networks and demonstrate how to create arbitrary structures and how to update them under new observations."
   ]
  },
  {
   "cell_type": "markdown",
   "id": "28cd1f24-4402-47a3-b2e2-d26728cdb1ca",
   "metadata": {},
   "source": [
    "## Creating a network of probabilistic nodes\n",
    "\n",
    "Any form of generalized Hierarchical Gaussian Filter can be fully determined by the following variables. Let \n",
    "\n",
    "$$\\mathcal{HGF}_{k} = \\{\\theta, \\xi, \\mathcal{F}, \\Sigma \\}$$ \n",
    "\n",
    "be the HGF model with $K$ probabilistic nodes with \n",
    "\n",
    "$$\\theta = \\{\\theta_1, ..., \\theta_{k}\\}$$ \n",
    "\n",
    "a set of parameters. Nodes' parameters can be used to register sufficient statistics of the distributions as well as various coupling weights. The *shape* of the hierarchical structure is defined by the [adjacency list](https://en.wikipedia.org/wiki/Adjacency_list)\n",
    "\n",
    "$$\\xi = \\{\\xi_1, ..., \\xi_{k} \\}$$\n",
    "\n",
    "where every edge $\\xi_k$ contains $m$ sets of node indexes, $m$ being the adjacency dimension (here we only consider value and volatility coupling, therefore $m=2$). The propagation of precision-weighted prediction error under new observations (or other generic belief propagation dynamics) are defined by the set of $n$ update functions\n",
    "\n",
    "$$\\mathcal{F} = \\{f_1, ..., f_n\\}$$\n",
    "\n",
    "Each update function is parametrized by a node index $n \\in 1, ..., k$ and the current state of the HGF model at time $t$. The most standard uses of the HGF only require continuous and/or binary update functions for input and states node. The propagation dynamics (the direction of the information flow) are controlled by the ordered update sequence\n",
    "\n",
    "$$\\Sigma = [f_1(n_1), ..., f_i(n_j), f \\in \\mathcal{F}, n \\in 1, ..., k ]$$,\n",
    "\n",
    "Each item of this sequence pairs a node index with an update function as previously defined.\n",
    "\n",
    "![graph_networks](../images/graph_networks.svg)\n",
    "\n",
    "## Implementation details\n",
    "\n",
    "Networks are represented by two variables and two sets of functions:\n",
    "\n",
    "1. a dictionary `parameter_structure` that registers the nodes' parameters.\n",
    "2. a named tuple `node_structure` that encodes the [adjacency list](https://en.wikipedia.org/wiki/Adjacency_list) (see the [Indexes](#pyhgf.typing.Indexes)).\n",
    "2. updates functions (see e.g. the {ref}`pyhgf.continuous` and {ref}`pyhgf.continuous` modules)\n",
    "4. an update sequence as a tuple of function/index pairs.\n",
    "\n",
    "```{tip}\n",
    "The update function should treat `node_structure` as a static arguments and `parameter_structure` as a dynamic variable to comply with JAX JIT compilation (see [the documattion](https://jax.readthedocs.io/en/latest/notebooks/thinking_in_jax.html#jit-mechanics-tracing-and-static-variables) on that point).\n",
    "```"
   ]
  },
  {
   "cell_type": "markdown",
   "id": "29dbc72b-aad7-410a-8234-9d8e38798bb2",
   "metadata": {},
   "source": [
    "## Creating nodes"
   ]
  },
  {
   "cell_type": "code",
   "execution_count": 1,
   "id": "f5c9289d-d9f4-4193-9e96-cde19a3c5b5a",
   "metadata": {},
   "outputs": [],
   "source": [
    "from pyhgf.typing import Indexes\n",
    "parameters = {\"mu\": 0.0, \"pi\": 1.0}\n",
    "\n",
    "parameters_structure = (parameters, parameters, parameters)\n",
    "node_structure = (\n",
    "    Indexes((1,), None, None, None),\n",
    "    Indexes(None, (2,), (0,), None),\n",
    "    Indexes(None, None, None, (1,)),\n",
    ")"
   ]
  },
  {
   "cell_type": "markdown",
   "id": "54c60f31-3554-48d5-906f-484f7b209545",
   "metadata": {},
   "source": [
    "The code above illustrate the creation of a probabilistic network of 3 nodes with simple parameters sets $(\\mu=0.0, \\pi=1.0)$. Node 2 is the value parent of node 1. Node 3 is the value parent of node 2 and has no parents."
   ]
  },
  {
   "cell_type": "markdown",
   "id": "31eae467-c722-47eb-85a8-169759a86fd5",
   "metadata": {},
   "source": [
    "## Visualizing the network"
   ]
  },
  {
   "cell_type": "code",
   "execution_count": 2,
   "id": "62559699-5b19-4c89-aad3-4f91097caf3c",
   "metadata": {},
   "outputs": [
    {
     "name": "stdout",
     "output_type": "stream",
     "text": [
      "Creating a continuous Hierarchical Gaussian Filter with 3 levels.\n"
     ]
    },
    {
     "data": {
      "image/svg+xml": [
       "<?xml version=\"1.0\" encoding=\"UTF-8\" standalone=\"no\"?>\n",
       "<!DOCTYPE svg PUBLIC \"-//W3C//DTD SVG 1.1//EN\"\n",
       " \"http://www.w3.org/Graphics/SVG/1.1/DTD/svg11.dtd\">\n",
       "<!-- Generated by graphviz version 2.50.0 (0)\n",
       " -->\n",
       "<!-- Title: hgf&#45;nodes Pages: 1 -->\n",
       "<svg width=\"85pt\" height=\"260pt\"\n",
       " viewBox=\"0.00 0.00 85.38 260.00\" xmlns=\"http://www.w3.org/2000/svg\" xmlns:xlink=\"http://www.w3.org/1999/xlink\">\n",
       "<g id=\"graph0\" class=\"graph\" transform=\"scale(1 1) rotate(0) translate(4 256)\">\n",
       "<title>hgf&#45;nodes</title>\n",
       "<polygon fill=\"white\" stroke=\"transparent\" points=\"-4,4 -4,-256 81.38,-256 81.38,4 -4,4\"/>\n",
       "<!-- x_0 -->\n",
       "<g id=\"node1\" class=\"node\">\n",
       "<title>x_0</title>\n",
       "<polygon fill=\"lightgrey\" stroke=\"black\" points=\"77.58,-10.54 77.58,-25.46 54.8,-36 22.59,-36 -0.19,-25.46 -0.19,-10.54 22.59,0 54.8,0 77.58,-10.54\"/>\n",
       "<text text-anchor=\"middle\" x=\"38.69\" y=\"-14.3\" font-family=\"Times,serif\" font-size=\"14.00\">CI &#45; 0</text>\n",
       "</g>\n",
       "<!-- x_1 -->\n",
       "<g id=\"node2\" class=\"node\">\n",
       "<title>x_1</title>\n",
       "<ellipse fill=\"none\" stroke=\"black\" cx=\"38.69\" cy=\"-90\" rx=\"18\" ry=\"18\"/>\n",
       "<text text-anchor=\"middle\" x=\"38.69\" y=\"-86.3\" font-family=\"Times,serif\" font-size=\"14.00\">1</text>\n",
       "</g>\n",
       "<!-- x_1&#45;&gt;x_0 -->\n",
       "<g id=\"edge1\" class=\"edge\">\n",
       "<title>x_1&#45;&gt;x_0</title>\n",
       "<path fill=\"none\" stroke=\"black\" d=\"M38.69,-71.7C38.69,-63.98 38.69,-54.71 38.69,-46.11\"/>\n",
       "<polygon fill=\"black\" stroke=\"black\" points=\"42.19,-46.1 38.69,-36.1 35.19,-46.1 42.19,-46.1\"/>\n",
       "</g>\n",
       "<!-- x_2 -->\n",
       "<g id=\"node3\" class=\"node\">\n",
       "<title>x_2</title>\n",
       "<ellipse fill=\"none\" stroke=\"black\" cx=\"38.69\" cy=\"-162\" rx=\"18\" ry=\"18\"/>\n",
       "<text text-anchor=\"middle\" x=\"38.69\" y=\"-158.3\" font-family=\"Times,serif\" font-size=\"14.00\">2</text>\n",
       "</g>\n",
       "<!-- x_2&#45;&gt;x_1 -->\n",
       "<g id=\"edge2\" class=\"edge\">\n",
       "<title>x_2&#45;&gt;x_1</title>\n",
       "<path fill=\"none\" stroke=\"gray\" stroke-dasharray=\"5,2\" d=\"M38.69,-143.7C38.69,-135.39 38.69,-125.28 38.69,-116.14\"/>\n",
       "<ellipse fill=\"gray\" stroke=\"gray\" cx=\"38.69\" cy=\"-112.1\" rx=\"4\" ry=\"4\"/>\n",
       "</g>\n",
       "<!-- x_3 -->\n",
       "<g id=\"node4\" class=\"node\">\n",
       "<title>x_3</title>\n",
       "<ellipse fill=\"none\" stroke=\"black\" cx=\"38.69\" cy=\"-234\" rx=\"18\" ry=\"18\"/>\n",
       "<text text-anchor=\"middle\" x=\"38.69\" y=\"-230.3\" font-family=\"Times,serif\" font-size=\"14.00\">3</text>\n",
       "</g>\n",
       "<!-- x_3&#45;&gt;x_2 -->\n",
       "<g id=\"edge3\" class=\"edge\">\n",
       "<title>x_3&#45;&gt;x_2</title>\n",
       "<path fill=\"none\" stroke=\"gray\" stroke-dasharray=\"5,2\" d=\"M38.69,-215.7C38.69,-207.39 38.69,-197.28 38.69,-188.14\"/>\n",
       "<ellipse fill=\"gray\" stroke=\"gray\" cx=\"38.69\" cy=\"-184.1\" rx=\"4\" ry=\"4\"/>\n",
       "</g>\n",
       "</g>\n",
       "</svg>\n"
      ],
      "text/plain": [
       "<graphviz.sources.Source at 0x7f8aec4ebfd0>"
      ]
     },
     "execution_count": 2,
     "metadata": {},
     "output_type": "execute_result"
    }
   ],
   "source": [
    "from pyhgf.model import HGF\n",
    "\n",
    "# create a three-level HGF using default parameters\n",
    "hgf = HGF(n_levels=3, model_type=\"continuous\")\n",
    "hgf.plot_network()"
   ]
  },
  {
   "cell_type": "markdown",
   "id": "4318ae79-289a-45a8-9d43-05cb6287f31b",
   "metadata": {},
   "source": [
    "## Building a custom node structure\n",
    "The two and three-level continuous and binary HGF are special cases of probabilistic networks that can be manipulated by pyhgf. We can indeed build probabilistic networks with arbitrary structure. Notably,\n",
    "- one node can have multiple parents and/or children, both in the value and volatility domains.\n",
    "- the network can have multiple input node, binary and/or continuous.\n",
    "\n",
    "For example, the following network is a valid HGF structure:"
   ]
  },
  {
   "cell_type": "code",
   "execution_count": 3,
   "id": "d9ee76b0-bf82-4cc2-882f-f55a82dc0c01",
   "metadata": {},
   "outputs": [
    {
     "data": {
      "image/svg+xml": [
       "<?xml version=\"1.0\" encoding=\"UTF-8\" standalone=\"no\"?>\n",
       "<!DOCTYPE svg PUBLIC \"-//W3C//DTD SVG 1.1//EN\"\n",
       " \"http://www.w3.org/Graphics/SVG/1.1/DTD/svg11.dtd\">\n",
       "<!-- Generated by graphviz version 2.50.0 (0)\n",
       " -->\n",
       "<!-- Title: hgf&#45;nodes Pages: 1 -->\n",
       "<svg width=\"152pt\" height=\"332pt\"\n",
       " viewBox=\"0.00 0.00 152.00 332.00\" xmlns=\"http://www.w3.org/2000/svg\" xmlns:xlink=\"http://www.w3.org/1999/xlink\">\n",
       "<g id=\"graph0\" class=\"graph\" transform=\"scale(1 1) rotate(0) translate(4 328)\">\n",
       "<title>hgf&#45;nodes</title>\n",
       "<polygon fill=\"white\" stroke=\"transparent\" points=\"-4,4 -4,-328 148,-328 148,4 -4,4\"/>\n",
       "<!-- x_0 -->\n",
       "<g id=\"node1\" class=\"node\">\n",
       "<title>x_0</title>\n",
       "<polygon fill=\"lightgrey\" stroke=\"black\" points=\"110.89,-10.54 110.89,-25.46 88.11,-36 55.89,-36 33.11,-25.46 33.11,-10.54 55.89,0 88.11,0 110.89,-10.54\"/>\n",
       "<text text-anchor=\"middle\" x=\"72\" y=\"-14.3\" font-family=\"Times,serif\" font-size=\"14.00\">CI &#45; 0</text>\n",
       "</g>\n",
       "<!-- x_1 -->\n",
       "<g id=\"node2\" class=\"node\">\n",
       "<title>x_1</title>\n",
       "<ellipse fill=\"none\" stroke=\"black\" cx=\"72\" cy=\"-90\" rx=\"18\" ry=\"18\"/>\n",
       "<text text-anchor=\"middle\" x=\"72\" y=\"-86.3\" font-family=\"Times,serif\" font-size=\"14.00\">1</text>\n",
       "</g>\n",
       "<!-- x_1&#45;&gt;x_0 -->\n",
       "<g id=\"edge1\" class=\"edge\">\n",
       "<title>x_1&#45;&gt;x_0</title>\n",
       "<path fill=\"none\" stroke=\"black\" d=\"M72,-71.7C72,-63.98 72,-54.71 72,-46.11\"/>\n",
       "<polygon fill=\"black\" stroke=\"black\" points=\"75.5,-46.1 72,-36.1 68.5,-46.1 75.5,-46.1\"/>\n",
       "</g>\n",
       "<!-- x_2 -->\n",
       "<g id=\"node3\" class=\"node\">\n",
       "<title>x_2</title>\n",
       "<ellipse fill=\"none\" stroke=\"black\" cx=\"18\" cy=\"-162\" rx=\"18\" ry=\"18\"/>\n",
       "<text text-anchor=\"middle\" x=\"18\" y=\"-158.3\" font-family=\"Times,serif\" font-size=\"14.00\">2</text>\n",
       "</g>\n",
       "<!-- x_2&#45;&gt;x_1 -->\n",
       "<g id=\"edge2\" class=\"edge\">\n",
       "<title>x_2&#45;&gt;x_1</title>\n",
       "<path fill=\"none\" stroke=\"black\" d=\"M28.67,-147.17C36.21,-137.39 46.48,-124.08 55.13,-112.87\"/>\n",
       "<polygon fill=\"black\" stroke=\"black\" points=\"58.02,-114.86 61.35,-104.8 52.47,-110.58 58.02,-114.86\"/>\n",
       "</g>\n",
       "<!-- x_3 -->\n",
       "<g id=\"node4\" class=\"node\">\n",
       "<title>x_3</title>\n",
       "<ellipse fill=\"none\" stroke=\"black\" cx=\"72\" cy=\"-162\" rx=\"18\" ry=\"18\"/>\n",
       "<text text-anchor=\"middle\" x=\"72\" y=\"-158.3\" font-family=\"Times,serif\" font-size=\"14.00\">3</text>\n",
       "</g>\n",
       "<!-- x_3&#45;&gt;x_1 -->\n",
       "<g id=\"edge3\" class=\"edge\">\n",
       "<title>x_3&#45;&gt;x_1</title>\n",
       "<path fill=\"none\" stroke=\"black\" d=\"M72,-143.7C72,-135.98 72,-126.71 72,-118.11\"/>\n",
       "<polygon fill=\"black\" stroke=\"black\" points=\"75.5,-118.1 72,-108.1 68.5,-118.1 75.5,-118.1\"/>\n",
       "</g>\n",
       "<!-- x_4 -->\n",
       "<g id=\"node5\" class=\"node\">\n",
       "<title>x_4</title>\n",
       "<ellipse fill=\"none\" stroke=\"black\" cx=\"126\" cy=\"-162\" rx=\"18\" ry=\"18\"/>\n",
       "<text text-anchor=\"middle\" x=\"126\" y=\"-158.3\" font-family=\"Times,serif\" font-size=\"14.00\">4</text>\n",
       "</g>\n",
       "<!-- x_4&#45;&gt;x_1 -->\n",
       "<g id=\"edge4\" class=\"edge\">\n",
       "<title>x_4&#45;&gt;x_1</title>\n",
       "<path fill=\"none\" stroke=\"black\" d=\"M115.33,-147.17C107.79,-137.39 97.52,-124.08 88.87,-112.87\"/>\n",
       "<polygon fill=\"black\" stroke=\"black\" points=\"91.53,-110.58 82.65,-104.8 85.98,-114.86 91.53,-110.58\"/>\n",
       "</g>\n",
       "<!-- x_5 -->\n",
       "<g id=\"node6\" class=\"node\">\n",
       "<title>x_5</title>\n",
       "<ellipse fill=\"none\" stroke=\"black\" cx=\"72\" cy=\"-234\" rx=\"18\" ry=\"18\"/>\n",
       "<text text-anchor=\"middle\" x=\"72\" y=\"-230.3\" font-family=\"Times,serif\" font-size=\"14.00\">5</text>\n",
       "</g>\n",
       "<!-- x_5&#45;&gt;x_2 -->\n",
       "<g id=\"edge5\" class=\"edge\">\n",
       "<title>x_5&#45;&gt;x_2</title>\n",
       "<path fill=\"none\" stroke=\"gray\" stroke-dasharray=\"5,2\" d=\"M61.33,-219.17C53.42,-208.91 42.51,-194.77 33.61,-183.24\"/>\n",
       "<ellipse fill=\"gray\" stroke=\"gray\" cx=\"31.09\" cy=\"-179.97\" rx=\"4\" ry=\"4\"/>\n",
       "</g>\n",
       "<!-- x_5&#45;&gt;x_3 -->\n",
       "<g id=\"edge6\" class=\"edge\">\n",
       "<title>x_5&#45;&gt;x_3</title>\n",
       "<path fill=\"none\" stroke=\"gray\" stroke-dasharray=\"5,2\" d=\"M72,-215.7C72,-207.39 72,-197.28 72,-188.14\"/>\n",
       "<ellipse fill=\"gray\" stroke=\"gray\" cx=\"72\" cy=\"-184.1\" rx=\"4\" ry=\"4\"/>\n",
       "</g>\n",
       "<!-- x_6 -->\n",
       "<g id=\"node7\" class=\"node\">\n",
       "<title>x_6</title>\n",
       "<ellipse fill=\"none\" stroke=\"black\" cx=\"126\" cy=\"-234\" rx=\"18\" ry=\"18\"/>\n",
       "<text text-anchor=\"middle\" x=\"126\" y=\"-230.3\" font-family=\"Times,serif\" font-size=\"14.00\">6</text>\n",
       "</g>\n",
       "<!-- x_6&#45;&gt;x_4 -->\n",
       "<g id=\"edge7\" class=\"edge\">\n",
       "<title>x_6&#45;&gt;x_4</title>\n",
       "<path fill=\"none\" stroke=\"gray\" stroke-dasharray=\"5,2\" d=\"M126,-215.7C126,-207.39 126,-197.28 126,-188.14\"/>\n",
       "<ellipse fill=\"gray\" stroke=\"gray\" cx=\"126\" cy=\"-184.1\" rx=\"4\" ry=\"4\"/>\n",
       "</g>\n",
       "<!-- x_7 -->\n",
       "<g id=\"node8\" class=\"node\">\n",
       "<title>x_7</title>\n",
       "<ellipse fill=\"none\" stroke=\"black\" cx=\"99\" cy=\"-306\" rx=\"18\" ry=\"18\"/>\n",
       "<text text-anchor=\"middle\" x=\"99\" y=\"-302.3\" font-family=\"Times,serif\" font-size=\"14.00\">7</text>\n",
       "</g>\n",
       "<!-- x_7&#45;&gt;x_5 -->\n",
       "<g id=\"edge8\" class=\"edge\">\n",
       "<title>x_7&#45;&gt;x_5</title>\n",
       "<path fill=\"none\" stroke=\"black\" d=\"M92.74,-288.76C89.5,-280.37 85.47,-269.93 81.83,-260.5\"/>\n",
       "<polygon fill=\"black\" stroke=\"black\" points=\"85.09,-259.22 78.23,-251.15 78.56,-261.74 85.09,-259.22\"/>\n",
       "</g>\n",
       "<!-- x_7&#45;&gt;x_6 -->\n",
       "<g id=\"edge9\" class=\"edge\">\n",
       "<title>x_7&#45;&gt;x_6</title>\n",
       "<path fill=\"none\" stroke=\"black\" d=\"M105.26,-288.76C108.5,-280.37 112.53,-269.93 116.17,-260.5\"/>\n",
       "<polygon fill=\"black\" stroke=\"black\" points=\"119.44,-261.74 119.77,-251.15 112.91,-259.22 119.44,-261.74\"/>\n",
       "</g>\n",
       "</g>\n",
       "</svg>\n"
      ],
      "text/plain": [
       "<graphviz.sources.Source at 0x7f8b3375cd00>"
      ]
     },
     "execution_count": 3,
     "metadata": {},
     "output_type": "execute_result"
    }
   ],
   "source": [
    "custom_hgf = (\n",
    "    HGF(model_type=None)\n",
    "    .add_input_node(kind=\"continuous\")\n",
    "    .add_value_parent(children_idxs=[0])\n",
    "    .add_value_parent(children_idxs=[1])\n",
    "    .add_value_parent(children_idxs=[1])\n",
    "    .add_value_parent(children_idxs=[1])\n",
    "    .add_volatility_parent(children_idxs=[2, 3])\n",
    "    .add_volatility_parent(children_idxs=[4])\n",
    "    .add_value_parent(children_idxs=[5, 6])\n",
    ")\n",
    "custom_hgf.plot_network()"
   ]
  },
  {
   "cell_type": "markdown",
   "id": "d0299f43-a9c4-43a7-a46a-d9d9d26eb934",
   "metadata": {},
   "source": [
    "It is also possible to work with multiple input:"
   ]
  },
  {
   "cell_type": "code",
   "execution_count": 4,
   "id": "0288572e-7ea0-4bbe-838e-eb04280bc5a2",
   "metadata": {},
   "outputs": [
    {
     "data": {
      "image/svg+xml": [
       "<?xml version=\"1.0\" encoding=\"UTF-8\" standalone=\"no\"?>\n",
       "<!DOCTYPE svg PUBLIC \"-//W3C//DTD SVG 1.1//EN\"\n",
       " \"http://www.w3.org/Graphics/SVG/1.1/DTD/svg11.dtd\">\n",
       "<!-- Generated by graphviz version 2.50.0 (0)\n",
       " -->\n",
       "<!-- Title: hgf&#45;nodes Pages: 1 -->\n",
       "<svg width=\"275pt\" height=\"116pt\"\n",
       " viewBox=\"0.00 0.00 275.38 116.00\" xmlns=\"http://www.w3.org/2000/svg\" xmlns:xlink=\"http://www.w3.org/1999/xlink\">\n",
       "<g id=\"graph0\" class=\"graph\" transform=\"scale(1 1) rotate(0) translate(4 112)\">\n",
       "<title>hgf&#45;nodes</title>\n",
       "<polygon fill=\"white\" stroke=\"transparent\" points=\"-4,4 -4,-112 271.38,-112 271.38,4 -4,4\"/>\n",
       "<!-- x_0 -->\n",
       "<g id=\"node1\" class=\"node\">\n",
       "<title>x_0</title>\n",
       "<polygon fill=\"lightgrey\" stroke=\"black\" points=\"77.58,-10.54 77.58,-25.46 54.8,-36 22.59,-36 -0.19,-25.46 -0.19,-10.54 22.59,0 54.8,0 77.58,-10.54\"/>\n",
       "<text text-anchor=\"middle\" x=\"38.69\" y=\"-14.3\" font-family=\"Times,serif\" font-size=\"14.00\">CI &#45; 0</text>\n",
       "</g>\n",
       "<!-- x_1 -->\n",
       "<g id=\"node2\" class=\"node\">\n",
       "<title>x_1</title>\n",
       "<polygon fill=\"lightgrey\" stroke=\"black\" points=\"172.58,-10.54 172.58,-25.46 149.8,-36 117.59,-36 94.81,-25.46 94.81,-10.54 117.59,0 149.8,0 172.58,-10.54\"/>\n",
       "<text text-anchor=\"middle\" x=\"133.69\" y=\"-14.3\" font-family=\"Times,serif\" font-size=\"14.00\">CI &#45; 1</text>\n",
       "</g>\n",
       "<!-- x_2 -->\n",
       "<g id=\"node3\" class=\"node\">\n",
       "<title>x_2</title>\n",
       "<polygon fill=\"lightgrey\" stroke=\"black\" points=\"267.58,-10.54 267.58,-25.46 244.8,-36 212.59,-36 189.81,-25.46 189.81,-10.54 212.59,0 244.8,0 267.58,-10.54\"/>\n",
       "<text text-anchor=\"middle\" x=\"228.69\" y=\"-14.3\" font-family=\"Times,serif\" font-size=\"14.00\">CI &#45; 2</text>\n",
       "</g>\n",
       "<!-- x_3 -->\n",
       "<g id=\"node4\" class=\"node\">\n",
       "<title>x_3</title>\n",
       "<ellipse fill=\"none\" stroke=\"black\" cx=\"38.69\" cy=\"-90\" rx=\"18\" ry=\"18\"/>\n",
       "<text text-anchor=\"middle\" x=\"38.69\" y=\"-86.3\" font-family=\"Times,serif\" font-size=\"14.00\">3</text>\n",
       "</g>\n",
       "<!-- x_3&#45;&gt;x_0 -->\n",
       "<g id=\"edge1\" class=\"edge\">\n",
       "<title>x_3&#45;&gt;x_0</title>\n",
       "<path fill=\"none\" stroke=\"black\" d=\"M38.69,-71.7C38.69,-63.98 38.69,-54.71 38.69,-46.11\"/>\n",
       "<polygon fill=\"black\" stroke=\"black\" points=\"42.19,-46.1 38.69,-36.1 35.19,-46.1 42.19,-46.1\"/>\n",
       "</g>\n",
       "<!-- x_4 -->\n",
       "<g id=\"node5\" class=\"node\">\n",
       "<title>x_4</title>\n",
       "<ellipse fill=\"none\" stroke=\"black\" cx=\"160.69\" cy=\"-90\" rx=\"18\" ry=\"18\"/>\n",
       "<text text-anchor=\"middle\" x=\"160.69\" y=\"-86.3\" font-family=\"Times,serif\" font-size=\"14.00\">4</text>\n",
       "</g>\n",
       "<!-- x_4&#45;&gt;x_1 -->\n",
       "<g id=\"edge2\" class=\"edge\">\n",
       "<title>x_4&#45;&gt;x_1</title>\n",
       "<path fill=\"none\" stroke=\"black\" d=\"M154.43,-72.76C151.32,-64.7 147.48,-54.74 143.95,-45.6\"/>\n",
       "<polygon fill=\"black\" stroke=\"black\" points=\"147.16,-44.19 140.3,-36.12 140.63,-46.71 147.16,-44.19\"/>\n",
       "</g>\n",
       "<!-- x_5 -->\n",
       "<g id=\"node6\" class=\"node\">\n",
       "<title>x_5</title>\n",
       "<ellipse fill=\"none\" stroke=\"black\" cx=\"228.69\" cy=\"-90\" rx=\"18\" ry=\"18\"/>\n",
       "<text text-anchor=\"middle\" x=\"228.69\" y=\"-86.3\" font-family=\"Times,serif\" font-size=\"14.00\">5</text>\n",
       "</g>\n",
       "<!-- x_5&#45;&gt;x_2 -->\n",
       "<g id=\"edge3\" class=\"edge\">\n",
       "<title>x_5&#45;&gt;x_2</title>\n",
       "<path fill=\"none\" stroke=\"black\" d=\"M228.69,-71.7C228.69,-63.98 228.69,-54.71 228.69,-46.11\"/>\n",
       "<polygon fill=\"black\" stroke=\"black\" points=\"232.19,-46.1 228.69,-36.1 225.19,-46.1 232.19,-46.1\"/>\n",
       "</g>\n",
       "<!-- x_6 -->\n",
       "<g id=\"node7\" class=\"node\">\n",
       "<title>x_6</title>\n",
       "<ellipse fill=\"none\" stroke=\"black\" cx=\"106.69\" cy=\"-90\" rx=\"18\" ry=\"18\"/>\n",
       "<text text-anchor=\"middle\" x=\"106.69\" y=\"-86.3\" font-family=\"Times,serif\" font-size=\"14.00\">6</text>\n",
       "</g>\n",
       "<!-- x_6&#45;&gt;x_0 -->\n",
       "<g id=\"edge4\" class=\"edge\">\n",
       "<title>x_6&#45;&gt;x_0</title>\n",
       "<path fill=\"none\" stroke=\"gray\" stroke-dasharray=\"5,2\" d=\"M94.54,-76.49C85.17,-66.84 71.96,-53.25 60.74,-41.7\"/>\n",
       "<ellipse fill=\"gray\" stroke=\"gray\" cx=\"57.88\" cy=\"-38.75\" rx=\"4\" ry=\"4\"/>\n",
       "</g>\n",
       "<!-- x_6&#45;&gt;x_1 -->\n",
       "<g id=\"edge5\" class=\"edge\">\n",
       "<title>x_6&#45;&gt;x_1</title>\n",
       "<path fill=\"none\" stroke=\"gray\" stroke-dasharray=\"5,2\" d=\"M112.95,-72.76C116.26,-64.18 120.4,-53.46 124.1,-43.86\"/>\n",
       "<ellipse fill=\"gray\" stroke=\"gray\" cx=\"125.65\" cy=\"-39.86\" rx=\"4\" ry=\"4\"/>\n",
       "</g>\n",
       "<!-- x_6&#45;&gt;x_2 -->\n",
       "<g id=\"edge6\" class=\"edge\">\n",
       "<title>x_6&#45;&gt;x_2</title>\n",
       "<path fill=\"none\" stroke=\"gray\" stroke-dasharray=\"5,2\" d=\"M121.46,-79.5C125.41,-77.02 129.69,-74.37 133.69,-72 154.48,-59.67 178.24,-46.41 196.79,-36.25\"/>\n",
       "<ellipse fill=\"gray\" stroke=\"gray\" cx=\"200.37\" cy=\"-34.29\" rx=\"4\" ry=\"4\"/>\n",
       "</g>\n",
       "</g>\n",
       "</svg>\n"
      ],
      "text/plain": [
       "<graphviz.sources.Source at 0x7f8b33731160>"
      ]
     },
     "execution_count": 4,
     "metadata": {},
     "output_type": "execute_result"
    }
   ],
   "source": [
    "custom_hgf = (\n",
    "    HGF(model_type=None)\n",
    "    .add_input_node(kind=\"continuous\", input_idx=0)\n",
    "    .add_input_node(kind=\"continuous\", input_idx=1)\n",
    "    .add_input_node(kind=\"continuous\", input_idx=2)\n",
    "    .add_value_parent(children_idxs=[0])\n",
    "    .add_value_parent(children_idxs=[1])\n",
    "    .add_value_parent(children_idxs=[2])\n",
    "    .add_volatility_parent(children_idxs=[0, 1, 2])\n",
    ")\n",
    "custom_hgf.plot_network()"
   ]
  },
  {
   "cell_type": "markdown",
   "id": "927a3427-8410-47f7-804b-817bc6fc2349",
   "metadata": {},
   "source": [
    "```{note}\n",
    "Hierarchical Gaussian Filters have often been described in terms of levels. For example, the two-level and three-level HGFs are specific instances of  node structures designed to track the volatility and meta-volatility of binary or continuous processes, respectively. While such models can easily be implemented in this framework, the notion of level itself is now less informative. This is a consequence of the multivariate control and influence properties, which can result in structures in which some nodes have a position in the hierarchy that cannot be clearly disambiguated.\n",
    "```"
   ]
  },
  {
   "cell_type": "markdown",
   "id": "ad39ecf5-483e-418d-8b87-2a38a49a9339",
   "metadata": {},
   "source": [
    "The parameters structure and node structures are embedded in the HGF class anc can be retrieved with:"
   ]
  },
  {
   "cell_type": "code",
   "execution_count": 5,
   "id": "bc163819-2524-45e9-bce4-fea98e868e2b",
   "metadata": {},
   "outputs": [
    {
     "data": {
      "text/plain": [
       "{'kappas': (1.0,),\n",
       " 'omega': -9.210340371976182,\n",
       " 'time_step': nan,\n",
       " 'value': nan,\n",
       " 'psis': (1.0,)}"
      ]
     },
     "execution_count": 5,
     "metadata": {},
     "output_type": "execute_result"
    }
   ],
   "source": [
    "# paramter values from the first node\n",
    "custom_hgf.parameters_structure[0]"
   ]
  },
  {
   "cell_type": "code",
   "execution_count": 6,
   "id": "c44221d2-6870-4c30-8845-0978bc5ce213",
   "metadata": {},
   "outputs": [
    {
     "data": {
      "text/plain": [
       "(Indexes(value_parents=(3,), volatility_parents=(6,), value_children=None, volatility_children=None),\n",
       " Indexes(value_parents=(4,), volatility_parents=(6,), value_children=None, volatility_children=None),\n",
       " Indexes(value_parents=(5,), volatility_parents=(6,), value_children=None, volatility_children=None),\n",
       " Indexes(value_parents=None, volatility_parents=None, value_children=(0,), volatility_children=None),\n",
       " Indexes(value_parents=None, volatility_parents=None, value_children=(1,), volatility_children=None),\n",
       " Indexes(value_parents=None, volatility_parents=None, value_children=(2,), volatility_children=None),\n",
       " Indexes(value_parents=None, volatility_parents=None, value_children=None, volatility_children=(0, 1, 2)))"
      ]
     },
     "execution_count": 6,
     "metadata": {},
     "output_type": "execute_result"
    }
   ],
   "source": [
    "# the node structure\n",
    "custom_hgf.node_structure"
   ]
  },
  {
   "cell_type": "markdown",
   "id": "ca9de6a9-985e-4d23-9509-6c8f2a56231b",
   "metadata": {},
   "source": [
    "## Building custom update functions and sequences\n",
    "\n",
    "Models that are created with parameter structures and node structures only represent static configuration of the HGF, they are not yet filtering new observation or acting in response to specific input. To add a dynamic and responsive layer, we need two additional components:\n",
    "\n",
    "- update functions $\\mathcal{F} = \\{f_1, ..., f_n\\}$\n",
    "- update sequences $\\Sigma = [f_1(n_1), ..., f_i(n_j), f \\in \\mathcal{F}, n \\in 1, ..., k ]$,\n",
    "\n",
    "\n",
    "### Update functions\n",
    "\n",
    "Update functions are the heart of the HGF filtering procedure, these functions implement the message passing and parameters updating steps between node. An update function in its simplier form is a fuction defined as\n",
    "\n",
    "```python\n",
    "parameters_structure = update_fn(node_idx, parameters_structure, node_structure)\n",
    "```\n",
    "\n",
    "In other words, it is updating the parameters structure by applying certain transformation using the node $i$ as reference. This usually means that an observation has reached node $i$ and we want to send prediction-error to the parent nodes and update their sufficient statistics. The function has acess to the entire parameters and nodes structure, which mean that it can retrive parameters from parents, children, grand-parents etc... But in practice, pessage passing updates only use information found in the [Markov blanket](https://en.wikipedia.org/wiki/Markov_blanket) of the given node.\n",
    "\n",
    "### Update sequeces\n",
    "\n",
    "Update sequences define the dynamcis of beliefs propagation through the probabilistic network. In its simplier form, and update sequence is a sequence of update function pointing to a node index such as:\n",
    "\n",
    "```python\n",
    "update_sequence = (\n",
    "    (update_fn1, 0),\n",
    "    (update_fn2, 1),\n",
    ")\n",
    "```\n",
    "\n",
    "The HGF class include a bluit-in {ref}`pyhgf.modeal.HGF.get_update_sequence` method to automatically generate the update sequence from the network structure, assuming that we want to propagate the beliefs from the lower part of the tree (the input nodes) to its upper part (nodes that do not have parents)."
   ]
  },
  {
   "cell_type": "code",
   "execution_count": null,
   "id": "ea99e296-d520-47a3-bea7-864ae59e4a46",
   "metadata": {},
   "outputs": [],
   "source": []
  }
 ],
 "metadata": {
  "jupytext": {
   "formats": "ipynb,md:myst"
  },
  "kernelspec": {
   "display_name": "Python 3 (ipykernel)",
   "language": "python",
   "name": "python3"
  },
  "language_info": {
   "codemirror_mode": {
    "name": "ipython",
    "version": 3
   },
   "file_extension": ".py",
   "mimetype": "text/x-python",
   "name": "python",
   "nbconvert_exporter": "python",
   "pygments_lexer": "ipython3",
   "version": "3.9.13"
  }
 },
 "nbformat": 4,
 "nbformat_minor": 5
}
