{
 "cells": [
  {
   "cell_type": "markdown",
   "id": "b0a4b50b-cf3d-4680-9010-9ea86064b2b7",
   "metadata": {},
   "source": [
    "(probabilistic_networks)=\n",
    "# Creating and manipulating networks of probabilistic nodes\n",
    "\n",
    "[pyhgf](https://ilabcode.github.io/pyhgf/index.html#) is designed with inspiration from graph neural network libraries that can support message-passing schemes and performs beliefs propagation through network nodes. Here, this principle is applied to predictive processing modelisation and focuses on networks that are structured as rooted trees and perform variational message passing to update beliefs about the state of the environment, inferred from the observations that are provided at the root of the tree. While this library is well-suited and optimized to implement the standard two-level and three-level HGF, it can also be applied to much larger use cases and the main idea is to generalize belief propagation as it has been described so far to larger and more complex networks that will capture greater variety of environmental structure. Therefore, the library is also designed to facilitate the creation and manipulation of such probabilistic networks. The main idea is that a network can be fully described by the following variables:\n",
    "1. the network parameters\n",
    "2. the network structure\n",
    "3. the update function(s)\n",
    "4. the update sequence(s)\n",
    "Splitting the networks this way makes the components easily compatible with JAX main transformations, and dynamically accessible during the inference processes, allowing the creation of agents that can manipulate these components to minimize surprise. \n",
    "\n",
    "In this notebook, we dive into the details of creating such networks and illustrate their modularity by the manipulation of the four main variables."
   ]
  },
  {
   "cell_type": "markdown",
   "id": "28cd1f24-4402-47a3-b2e2-d26728cdb1ca",
   "metadata": {},
   "source": [
    "## Theory and implementation details\n",
    "\n",
    "Any probabilistic network can be fully described by the following variables. Let \n",
    "\n",
    "$$\\mathcal{HGF}_{k} = \\{\\theta, \\xi, \\mathcal{F}, \\Sigma \\}$$ \n",
    "\n",
    "be a probabilistic network that contains $K$ probabilistic nodes. The variable \n",
    "\n",
    "$$\\theta = \\{\\theta_1, ..., \\theta_{k}\\}$$ \n",
    "\n",
    "is the set of parameters, and each parameter is a set of values. Nodes' parameters can be used to register sufficient statistics of the distributions as well as various coupling weights. This component is registered as the `parameters_structure` dictionary.\n",
    "\n",
    "The *shape* of the hierarchical structure is defined by its [adjacency list](https://en.wikipedia.org/wiki/Adjacency_list), which register the connections between a node and other nodes from the network.\n",
    "\n",
    "$$\\xi = \\{\\xi_1, ..., \\xi_{k} \\}$$\n",
    "\n",
    "where every edge $\\xi_k$ contains $m$ sets of node indexes, $m$ being the adjacency dimension (here we only consider value and volatility coupling, therefore $m=2$). \n",
    "\n",
    "The way beliefs are being updated, or the type of generic computation that is performed by the nodes are defined by the set of $n$ update functions\n",
    "\n",
    "$$\\mathcal{F} = \\{f_1, ..., f_n\\}$$\n",
    "\n",
    "In this set, each update function is linked to a node from the node indexes $n \\in 1, ..., k$ to which the function should apply. The most standard uses of the HGF only require continuous and/or binary update functions for input and states node that can be found in the {ref}`pyhgf.continuous` and {ref}`pyhgf.binary` sub-modules.\n",
    "\n",
    "The dynamic of belief propagation dynamics (which part of the network should be updated and in which order) are controlled by the ordered update sequence\n",
    "\n",
    "$$\\Sigma = [f_1(n_1), ..., f_i(n_j), f \\in \\mathcal{F}, n \\in 1, ..., k ]$$,\n",
    "\n",
    "This list describes the sequence of function-to-nodes instructions that are executed during the inference and update processes.\n",
    "\n",
    "![graph_networks](../images/graph_networks.svg)\n",
    "\n",
    "```{tip} Compatibility with JAX transformations\n",
    "One of the advantages of reasoning this way is that it dissociates variables that are transparent to the JAX framework and can be expressed as \"PyTress\" from variables that should be filtered before transformations. The variable `parameters_structure` ($\\theta$) is typically expressed as a PyTree while the other variables that contain parametrized functions are filtered. See [the documattion](https://jax.readthedocs.io/en/latest/notebooks/thinking_in_jax.html#jit-mechanics-tracing-and-static-variables) for further details on JAX transformations.\n",
    "```"
   ]
  },
  {
   "cell_type": "markdown",
   "id": "29dbc72b-aad7-410a-8234-9d8e38798bb2",
   "metadata": {},
   "source": [
    "### Creating probabilistic nodes"
   ]
  },
  {
   "cell_type": "code",
   "execution_count": 1,
   "id": "f5c9289d-d9f4-4193-9e96-cde19a3c5b5a",
   "metadata": {},
   "outputs": [],
   "source": [
    "from pyhgf.typing import Indexes\n",
    "parameters = {\"mu\": 0.0, \"pi\": 1.0}\n",
    "\n",
    "parameters_structure = (parameters, parameters, parameters)\n",
    "node_structure = (\n",
    "    Indexes((1,), None, None, None),\n",
    "    Indexes(None, (2,), (0,), None),\n",
    "    Indexes(None, None, None, (1,)),\n",
    ")"
   ]
  },
  {
   "cell_type": "markdown",
   "id": "54c60f31-3554-48d5-906f-484f7b209545",
   "metadata": {},
   "source": [
    "The code above illustrate the creation of a probabilistic network of 3 nodes with simple parameters sets $(\\mu=0.0, \\pi=1.0)$. Node 2 is the value parent of node 1. Node 3 is the value parent of node 2 and has no parents."
   ]
  },
  {
   "cell_type": "markdown",
   "id": "31eae467-c722-47eb-85a8-169759a86fd5",
   "metadata": {},
   "source": [
    "### Visualizing probabilistic network"
   ]
  },
  {
   "cell_type": "code",
   "execution_count": 2,
   "id": "62559699-5b19-4c89-aad3-4f91097caf3c",
   "metadata": {},
   "outputs": [
    {
     "name": "stdout",
     "output_type": "stream",
     "text": [
      "Creating a continuous Hierarchical Gaussian Filter with 3 levels.\n"
     ]
    },
    {
     "data": {
      "image/svg+xml": [
       "<?xml version=\"1.0\" encoding=\"UTF-8\" standalone=\"no\"?>\n",
       "<!DOCTYPE svg PUBLIC \"-//W3C//DTD SVG 1.1//EN\"\n",
       " \"http://www.w3.org/Graphics/SVG/1.1/DTD/svg11.dtd\">\n",
       "<!-- Generated by graphviz version 8.0.5 (20230506.1012)\n",
       " -->\n",
       "<!-- Title: hgf&#45;nodes Pages: 1 -->\n",
       "<svg width=\"90pt\" height=\"260pt\"\n",
       " viewBox=\"0.00 0.00 90.38 260.00\" xmlns=\"http://www.w3.org/2000/svg\" xmlns:xlink=\"http://www.w3.org/1999/xlink\">\n",
       "<g id=\"graph0\" class=\"graph\" transform=\"scale(1 1) rotate(0) translate(4 256)\">\n",
       "<title>hgf&#45;nodes</title>\n",
       "<polygon fill=\"white\" stroke=\"none\" points=\"-4,4 -4,-256 86.38,-256 86.38,4 -4,4\"/>\n",
       "<!-- x_0 -->\n",
       "<g id=\"node1\" class=\"node\">\n",
       "<title>x_0</title>\n",
       "<polygon fill=\"lightgrey\" stroke=\"black\" points=\"82.38,-10.54 82.38,-25.46 58.25,-36 24.13,-36 0,-25.46 0,-10.54 24.13,0 58.25,0 82.38,-10.54\"/>\n",
       "<text text-anchor=\"middle\" x=\"41.19\" y=\"-13.32\" font-family=\"Times,serif\" font-size=\"14.00\">CI &#45; 0</text>\n",
       "</g>\n",
       "<!-- x_1 -->\n",
       "<g id=\"node2\" class=\"node\">\n",
       "<title>x_1</title>\n",
       "<ellipse fill=\"none\" stroke=\"black\" cx=\"41.19\" cy=\"-90\" rx=\"18\" ry=\"18\"/>\n",
       "<text text-anchor=\"middle\" x=\"41.19\" y=\"-85.33\" font-family=\"Times,serif\" font-size=\"14.00\">1</text>\n",
       "</g>\n",
       "<!-- x_1&#45;&gt;x_0 -->\n",
       "<g id=\"edge1\" class=\"edge\">\n",
       "<title>x_1&#45;&gt;x_0</title>\n",
       "<path fill=\"none\" stroke=\"black\" d=\"M41.19,-71.7C41.19,-64.24 41.19,-55.32 41.19,-46.97\"/>\n",
       "<polygon fill=\"black\" stroke=\"black\" points=\"44.69,-47.1 41.19,-37.1 37.69,-47.1 44.69,-47.1\"/>\n",
       "</g>\n",
       "<!-- x_2 -->\n",
       "<g id=\"node3\" class=\"node\">\n",
       "<title>x_2</title>\n",
       "<ellipse fill=\"none\" stroke=\"black\" cx=\"41.19\" cy=\"-162\" rx=\"18\" ry=\"18\"/>\n",
       "<text text-anchor=\"middle\" x=\"41.19\" y=\"-157.32\" font-family=\"Times,serif\" font-size=\"14.00\">2</text>\n",
       "</g>\n",
       "<!-- x_2&#45;&gt;x_1 -->\n",
       "<g id=\"edge2\" class=\"edge\">\n",
       "<title>x_2&#45;&gt;x_1</title>\n",
       "<path fill=\"none\" stroke=\"gray\" stroke-dasharray=\"5,2\" d=\"M41.19,-143.7C41.19,-135.64 41.19,-125.89 41.19,-116.98\"/>\n",
       "<ellipse fill=\"gray\" stroke=\"gray\" cx=\"41.19\" cy=\"-112.6\" rx=\"4\" ry=\"4\"/>\n",
       "</g>\n",
       "<!-- x_3 -->\n",
       "<g id=\"node4\" class=\"node\">\n",
       "<title>x_3</title>\n",
       "<ellipse fill=\"none\" stroke=\"black\" cx=\"41.19\" cy=\"-234\" rx=\"18\" ry=\"18\"/>\n",
       "<text text-anchor=\"middle\" x=\"41.19\" y=\"-229.32\" font-family=\"Times,serif\" font-size=\"14.00\">3</text>\n",
       "</g>\n",
       "<!-- x_3&#45;&gt;x_2 -->\n",
       "<g id=\"edge3\" class=\"edge\">\n",
       "<title>x_3&#45;&gt;x_2</title>\n",
       "<path fill=\"none\" stroke=\"gray\" stroke-dasharray=\"5,2\" d=\"M41.19,-215.7C41.19,-207.64 41.19,-197.89 41.19,-188.98\"/>\n",
       "<ellipse fill=\"gray\" stroke=\"gray\" cx=\"41.19\" cy=\"-184.6\" rx=\"4\" ry=\"4\"/>\n",
       "</g>\n",
       "</g>\n",
       "</svg>\n"
      ],
      "text/plain": [
       "<graphviz.sources.Source at 0x7f097c365bb0>"
      ]
     },
     "execution_count": 2,
     "metadata": {},
     "output_type": "execute_result"
    }
   ],
   "source": [
    "from pyhgf.model import HGF\n",
    "\n",
    "# create a three-level HGF using default parameters\n",
    "hgf = HGF(n_levels=3, model_type=\"continuous\")\n",
    "hgf.plot_network()"
   ]
  },
  {
   "cell_type": "markdown",
   "id": "5798bf33-6314-45a7-b03b-a78c88ed9d2e",
   "metadata": {},
   "source": [
    "## Modifying the parameter structure\n",
    "\n",
    "The simpler change we can make on a network is to change the values of some of its parameters. The parameters are stored in the `parameters_structure` variable as a dictionary where the key (integers) are node indexes. Therefore, modifying the expected precision of the third node in the previous example is as simple as:"
   ]
  },
  {
   "cell_type": "code",
   "execution_count": 3,
   "id": "4722da4f-4dc0-49aa-9d91-5ec0b514b861",
   "metadata": {},
   "outputs": [],
   "source": [
    "hgf.parameters_structure[3][\"pi\"] = 5.0"
   ]
  },
  {
   "cell_type": "markdown",
   "id": "d512316c-50c5-4ce5-a22e-4f3d82f6c4e8",
   "metadata": {},
   "source": [
    "However, modifying parameters values *manually* should not be that common as this is something we want the model to perform dynamically as we present new observations, but this can be used for example to generate prior predictive by sampling some parameter values from a distribution. \n",
    "\n",
    "```{note} What is a valid parameter/value?\n",
    "A probabilistic node can store an arbitrary number of parameters. Parameter values should be valid JAX types, therefore a node cannot contain strings. You can provide additional parameters by using the `additional_parameters` arguments in {py:meth}`pyhgf.model.add_input_node`, {py:meth}`pyhgf.model.add_value_parent` and {py:meth}`pyhgf.model.add_volatility_parent`. Most of the nodes that are being used in the HGF use Gaussian distribution, therefore they contain the current mean and precision (`mu` and `pi`) as well as the expected mean and precision (`muhat` and `pihat`).\n",
    "```"
   ]
  },
  {
   "cell_type": "markdown",
   "id": "4318ae79-289a-45a8-9d43-05cb6287f31b",
   "metadata": {},
   "source": [
    "## Modifying the network structure\n",
    "\n",
    "The second way we can modify a probabilistic network is by modifying its structure (i.e. the number of nodes, the type of nodes and the way they are connected with each other). Because nodes and connections are modular, a large variety of network structures can be declared. The only restrictions are that the network should be **acyclic** and **rooted** (the roots being input nodes).\n",
    "\n",
    "For example, the following networks are valid HGF structures:"
   ]
  },
  {
   "cell_type": "code",
   "execution_count": 4,
   "id": "d9ee76b0-bf82-4cc2-882f-f55a82dc0c01",
   "metadata": {},
   "outputs": [
    {
     "data": {
      "image/svg+xml": [
       "<?xml version=\"1.0\" encoding=\"UTF-8\" standalone=\"no\"?>\n",
       "<!DOCTYPE svg PUBLIC \"-//W3C//DTD SVG 1.1//EN\"\n",
       " \"http://www.w3.org/Graphics/SVG/1.1/DTD/svg11.dtd\">\n",
       "<!-- Generated by graphviz version 8.0.5 (20230506.1012)\n",
       " -->\n",
       "<!-- Title: hgf&#45;nodes Pages: 1 -->\n",
       "<svg width=\"152pt\" height=\"332pt\"\n",
       " viewBox=\"0.00 0.00 152.00 332.00\" xmlns=\"http://www.w3.org/2000/svg\" xmlns:xlink=\"http://www.w3.org/1999/xlink\">\n",
       "<g id=\"graph0\" class=\"graph\" transform=\"scale(1 1) rotate(0) translate(4 328)\">\n",
       "<title>hgf&#45;nodes</title>\n",
       "<polygon fill=\"white\" stroke=\"none\" points=\"-4,4 -4,-328 148,-328 148,4 -4,4\"/>\n",
       "<!-- x_0 -->\n",
       "<g id=\"node1\" class=\"node\">\n",
       "<title>x_0</title>\n",
       "<polygon fill=\"lightgrey\" stroke=\"black\" points=\"113.19,-10.54 113.19,-25.46 89.06,-36 54.94,-36 30.81,-25.46 30.81,-10.54 54.94,0 89.06,0 113.19,-10.54\"/>\n",
       "<text text-anchor=\"middle\" x=\"72\" y=\"-13.32\" font-family=\"Times,serif\" font-size=\"14.00\">CI &#45; 0</text>\n",
       "</g>\n",
       "<!-- x_1 -->\n",
       "<g id=\"node2\" class=\"node\">\n",
       "<title>x_1</title>\n",
       "<ellipse fill=\"none\" stroke=\"black\" cx=\"72\" cy=\"-90\" rx=\"18\" ry=\"18\"/>\n",
       "<text text-anchor=\"middle\" x=\"72\" y=\"-85.33\" font-family=\"Times,serif\" font-size=\"14.00\">1</text>\n",
       "</g>\n",
       "<!-- x_1&#45;&gt;x_0 -->\n",
       "<g id=\"edge1\" class=\"edge\">\n",
       "<title>x_1&#45;&gt;x_0</title>\n",
       "<path fill=\"none\" stroke=\"black\" d=\"M72,-71.7C72,-64.24 72,-55.32 72,-46.97\"/>\n",
       "<polygon fill=\"black\" stroke=\"black\" points=\"75.5,-47.1 72,-37.1 68.5,-47.1 75.5,-47.1\"/>\n",
       "</g>\n",
       "<!-- x_2 -->\n",
       "<g id=\"node3\" class=\"node\">\n",
       "<title>x_2</title>\n",
       "<ellipse fill=\"none\" stroke=\"black\" cx=\"18\" cy=\"-162\" rx=\"18\" ry=\"18\"/>\n",
       "<text text-anchor=\"middle\" x=\"18\" y=\"-157.32\" font-family=\"Times,serif\" font-size=\"14.00\">2</text>\n",
       "</g>\n",
       "<!-- x_2&#45;&gt;x_1 -->\n",
       "<g id=\"edge2\" class=\"edge\">\n",
       "<title>x_2&#45;&gt;x_1</title>\n",
       "<path fill=\"none\" stroke=\"black\" d=\"M28.67,-147.17C36.14,-137.49 46.28,-124.34 54.87,-113.2\"/>\n",
       "<polygon fill=\"black\" stroke=\"black\" points=\"58.02,-115.86 61.35,-105.8 52.47,-111.58 58.02,-115.86\"/>\n",
       "</g>\n",
       "<!-- x_3 -->\n",
       "<g id=\"node4\" class=\"node\">\n",
       "<title>x_3</title>\n",
       "<ellipse fill=\"none\" stroke=\"black\" cx=\"72\" cy=\"-162\" rx=\"18\" ry=\"18\"/>\n",
       "<text text-anchor=\"middle\" x=\"72\" y=\"-157.32\" font-family=\"Times,serif\" font-size=\"14.00\">3</text>\n",
       "</g>\n",
       "<!-- x_3&#45;&gt;x_1 -->\n",
       "<g id=\"edge3\" class=\"edge\">\n",
       "<title>x_3&#45;&gt;x_1</title>\n",
       "<path fill=\"none\" stroke=\"black\" d=\"M72,-143.7C72,-136.24 72,-127.32 72,-118.97\"/>\n",
       "<polygon fill=\"black\" stroke=\"black\" points=\"75.5,-119.1 72,-109.1 68.5,-119.1 75.5,-119.1\"/>\n",
       "</g>\n",
       "<!-- x_4 -->\n",
       "<g id=\"node5\" class=\"node\">\n",
       "<title>x_4</title>\n",
       "<ellipse fill=\"none\" stroke=\"black\" cx=\"126\" cy=\"-162\" rx=\"18\" ry=\"18\"/>\n",
       "<text text-anchor=\"middle\" x=\"126\" y=\"-157.32\" font-family=\"Times,serif\" font-size=\"14.00\">4</text>\n",
       "</g>\n",
       "<!-- x_4&#45;&gt;x_1 -->\n",
       "<g id=\"edge4\" class=\"edge\">\n",
       "<title>x_4&#45;&gt;x_1</title>\n",
       "<path fill=\"none\" stroke=\"black\" d=\"M115.33,-147.17C107.86,-137.49 97.72,-124.34 89.13,-113.2\"/>\n",
       "<polygon fill=\"black\" stroke=\"black\" points=\"91.53,-111.58 82.65,-105.8 85.98,-115.86 91.53,-111.58\"/>\n",
       "</g>\n",
       "<!-- x_5 -->\n",
       "<g id=\"node6\" class=\"node\">\n",
       "<title>x_5</title>\n",
       "<ellipse fill=\"none\" stroke=\"black\" cx=\"72\" cy=\"-234\" rx=\"18\" ry=\"18\"/>\n",
       "<text text-anchor=\"middle\" x=\"72\" y=\"-229.32\" font-family=\"Times,serif\" font-size=\"14.00\">5</text>\n",
       "</g>\n",
       "<!-- x_5&#45;&gt;x_2 -->\n",
       "<g id=\"edge5\" class=\"edge\">\n",
       "<title>x_5&#45;&gt;x_2</title>\n",
       "<path fill=\"none\" stroke=\"gray\" stroke-dasharray=\"5,2\" d=\"M61.33,-219.17C53.57,-209.1 42.91,-195.29 34.11,-183.89\"/>\n",
       "<ellipse fill=\"gray\" stroke=\"gray\" cx=\"31.4\" cy=\"-180.36\" rx=\"4\" ry=\"4\"/>\n",
       "</g>\n",
       "<!-- x_5&#45;&gt;x_3 -->\n",
       "<g id=\"edge6\" class=\"edge\">\n",
       "<title>x_5&#45;&gt;x_3</title>\n",
       "<path fill=\"none\" stroke=\"gray\" stroke-dasharray=\"5,2\" d=\"M72,-215.7C72,-207.64 72,-197.89 72,-188.98\"/>\n",
       "<ellipse fill=\"gray\" stroke=\"gray\" cx=\"72\" cy=\"-184.6\" rx=\"4\" ry=\"4\"/>\n",
       "</g>\n",
       "<!-- x_6 -->\n",
       "<g id=\"node7\" class=\"node\">\n",
       "<title>x_6</title>\n",
       "<ellipse fill=\"none\" stroke=\"black\" cx=\"126\" cy=\"-234\" rx=\"18\" ry=\"18\"/>\n",
       "<text text-anchor=\"middle\" x=\"126\" y=\"-229.32\" font-family=\"Times,serif\" font-size=\"14.00\">6</text>\n",
       "</g>\n",
       "<!-- x_6&#45;&gt;x_4 -->\n",
       "<g id=\"edge7\" class=\"edge\">\n",
       "<title>x_6&#45;&gt;x_4</title>\n",
       "<path fill=\"none\" stroke=\"gray\" stroke-dasharray=\"5,2\" d=\"M126,-215.7C126,-207.64 126,-197.89 126,-188.98\"/>\n",
       "<ellipse fill=\"gray\" stroke=\"gray\" cx=\"126\" cy=\"-184.6\" rx=\"4\" ry=\"4\"/>\n",
       "</g>\n",
       "<!-- x_7 -->\n",
       "<g id=\"node8\" class=\"node\">\n",
       "<title>x_7</title>\n",
       "<ellipse fill=\"none\" stroke=\"black\" cx=\"99\" cy=\"-306\" rx=\"18\" ry=\"18\"/>\n",
       "<text text-anchor=\"middle\" x=\"99\" y=\"-301.32\" font-family=\"Times,serif\" font-size=\"14.00\">7</text>\n",
       "</g>\n",
       "<!-- x_7&#45;&gt;x_5 -->\n",
       "<g id=\"edge8\" class=\"edge\">\n",
       "<title>x_7&#45;&gt;x_5</title>\n",
       "<path fill=\"none\" stroke=\"black\" d=\"M92.74,-288.76C89.6,-280.64 85.73,-270.59 82.18,-261.39\"/>\n",
       "<polygon fill=\"black\" stroke=\"black\" points=\"85.09,-260.22 78.23,-252.15 78.56,-262.74 85.09,-260.22\"/>\n",
       "</g>\n",
       "<!-- x_7&#45;&gt;x_6 -->\n",
       "<g id=\"edge9\" class=\"edge\">\n",
       "<title>x_7&#45;&gt;x_6</title>\n",
       "<path fill=\"none\" stroke=\"black\" d=\"M105.26,-288.76C108.4,-280.64 112.27,-270.59 115.82,-261.39\"/>\n",
       "<polygon fill=\"black\" stroke=\"black\" points=\"119.44,-262.74 119.77,-252.15 112.91,-260.22 119.44,-262.74\"/>\n",
       "</g>\n",
       "</g>\n",
       "</svg>\n"
      ],
      "text/plain": [
       "<graphviz.sources.Source at 0x7f08f6437d60>"
      ]
     },
     "execution_count": 4,
     "metadata": {},
     "output_type": "execute_result"
    }
   ],
   "source": [
    "custom_hgf = (\n",
    "    HGF(model_type=None)\n",
    "    .add_input_node(kind=\"continuous\")\n",
    "    .add_value_parent(children_idxs=[0])\n",
    "    .add_value_parent(children_idxs=[1])\n",
    "    .add_value_parent(children_idxs=[1])\n",
    "    .add_value_parent(children_idxs=[1])\n",
    "    .add_volatility_parent(children_idxs=[2, 3])\n",
    "    .add_volatility_parent(children_idxs=[4])\n",
    "    .add_value_parent(children_idxs=[5, 6])\n",
    ")\n",
    "custom_hgf.plot_network()"
   ]
  },
  {
   "cell_type": "code",
   "execution_count": 5,
   "id": "0288572e-7ea0-4bbe-838e-eb04280bc5a2",
   "metadata": {},
   "outputs": [
    {
     "data": {
      "image/svg+xml": [
       "<?xml version=\"1.0\" encoding=\"UTF-8\" standalone=\"no\"?>\n",
       "<!DOCTYPE svg PUBLIC \"-//W3C//DTD SVG 1.1//EN\"\n",
       " \"http://www.w3.org/Graphics/SVG/1.1/DTD/svg11.dtd\">\n",
       "<!-- Generated by graphviz version 8.0.5 (20230506.1012)\n",
       " -->\n",
       "<!-- Title: hgf&#45;nodes Pages: 1 -->\n",
       "<svg width=\"290pt\" height=\"188pt\"\n",
       " viewBox=\"0.00 0.00 290.38 188.00\" xmlns=\"http://www.w3.org/2000/svg\" xmlns:xlink=\"http://www.w3.org/1999/xlink\">\n",
       "<g id=\"graph0\" class=\"graph\" transform=\"scale(1 1) rotate(0) translate(4 184)\">\n",
       "<title>hgf&#45;nodes</title>\n",
       "<polygon fill=\"white\" stroke=\"none\" points=\"-4,4 -4,-184 286.38,-184 286.38,4 -4,4\"/>\n",
       "<!-- x_0 -->\n",
       "<g id=\"node1\" class=\"node\">\n",
       "<title>x_0</title>\n",
       "<polygon fill=\"lightgrey\" stroke=\"black\" points=\"82.38,-10.54 82.38,-25.46 58.25,-36 24.13,-36 0,-25.46 0,-10.54 24.13,0 58.25,0 82.38,-10.54\"/>\n",
       "<text text-anchor=\"middle\" x=\"41.19\" y=\"-13.32\" font-family=\"Times,serif\" font-size=\"14.00\">CI &#45; 0</text>\n",
       "</g>\n",
       "<!-- x_1 -->\n",
       "<g id=\"node2\" class=\"node\">\n",
       "<title>x_1</title>\n",
       "<polygon fill=\"lightgrey\" stroke=\"black\" points=\"182.38,-10.54 182.38,-25.46 158.25,-36 124.13,-36 100,-25.46 100,-10.54 124.13,0 158.25,0 182.38,-10.54\"/>\n",
       "<text text-anchor=\"middle\" x=\"141.19\" y=\"-13.32\" font-family=\"Times,serif\" font-size=\"14.00\">CI &#45; 1</text>\n",
       "</g>\n",
       "<!-- x_2 -->\n",
       "<g id=\"node3\" class=\"node\">\n",
       "<title>x_2</title>\n",
       "<polygon fill=\"lightgrey\" stroke=\"black\" points=\"282.38,-10.54 282.38,-25.46 258.25,-36 224.13,-36 200,-25.46 200,-10.54 224.13,0 258.25,0 282.38,-10.54\"/>\n",
       "<text text-anchor=\"middle\" x=\"241.19\" y=\"-13.32\" font-family=\"Times,serif\" font-size=\"14.00\">CI &#45; 2</text>\n",
       "</g>\n",
       "<!-- x_3 -->\n",
       "<g id=\"node4\" class=\"node\">\n",
       "<title>x_3</title>\n",
       "<ellipse fill=\"none\" stroke=\"black\" cx=\"64.19\" cy=\"-90\" rx=\"18\" ry=\"18\"/>\n",
       "<text text-anchor=\"middle\" x=\"64.19\" y=\"-85.33\" font-family=\"Times,serif\" font-size=\"14.00\">3</text>\n",
       "</g>\n",
       "<!-- x_3&#45;&gt;x_0 -->\n",
       "<g id=\"edge1\" class=\"edge\">\n",
       "<title>x_3&#45;&gt;x_0</title>\n",
       "<path fill=\"none\" stroke=\"black\" d=\"M58.74,-72.41C56.21,-64.71 53.13,-55.34 50.26,-46.62\"/>\n",
       "<polygon fill=\"black\" stroke=\"black\" points=\"53.37,-45.85 46.92,-37.45 46.72,-48.04 53.37,-45.85\"/>\n",
       "</g>\n",
       "<!-- x_4 -->\n",
       "<g id=\"node5\" class=\"node\">\n",
       "<title>x_4</title>\n",
       "<ellipse fill=\"none\" stroke=\"black\" cx=\"141.19\" cy=\"-90\" rx=\"18\" ry=\"18\"/>\n",
       "<text text-anchor=\"middle\" x=\"141.19\" y=\"-85.33\" font-family=\"Times,serif\" font-size=\"14.00\">4</text>\n",
       "</g>\n",
       "<!-- x_4&#45;&gt;x_1 -->\n",
       "<g id=\"edge2\" class=\"edge\">\n",
       "<title>x_4&#45;&gt;x_1</title>\n",
       "<path fill=\"none\" stroke=\"black\" d=\"M141.19,-71.7C141.19,-64.24 141.19,-55.32 141.19,-46.97\"/>\n",
       "<polygon fill=\"black\" stroke=\"black\" points=\"144.69,-47.1 141.19,-37.1 137.69,-47.1 144.69,-47.1\"/>\n",
       "</g>\n",
       "<!-- x_5 -->\n",
       "<g id=\"node6\" class=\"node\">\n",
       "<title>x_5</title>\n",
       "<ellipse fill=\"none\" stroke=\"black\" cx=\"218.19\" cy=\"-90\" rx=\"18\" ry=\"18\"/>\n",
       "<text text-anchor=\"middle\" x=\"218.19\" y=\"-85.33\" font-family=\"Times,serif\" font-size=\"14.00\">5</text>\n",
       "</g>\n",
       "<!-- x_5&#45;&gt;x_2 -->\n",
       "<g id=\"edge3\" class=\"edge\">\n",
       "<title>x_5&#45;&gt;x_2</title>\n",
       "<path fill=\"none\" stroke=\"black\" d=\"M223.64,-72.41C226.17,-64.71 229.25,-55.34 232.12,-46.62\"/>\n",
       "<polygon fill=\"black\" stroke=\"black\" points=\"235.66,-48.04 235.46,-37.45 229.01,-45.85 235.66,-48.04\"/>\n",
       "</g>\n",
       "<!-- x_6 -->\n",
       "<g id=\"node7\" class=\"node\">\n",
       "<title>x_6</title>\n",
       "<ellipse fill=\"none\" stroke=\"black\" cx=\"141.19\" cy=\"-162\" rx=\"18\" ry=\"18\"/>\n",
       "<text text-anchor=\"middle\" x=\"141.19\" y=\"-157.32\" font-family=\"Times,serif\" font-size=\"14.00\">6</text>\n",
       "</g>\n",
       "<!-- x_6&#45;&gt;x_3 -->\n",
       "<g id=\"edge4\" class=\"edge\">\n",
       "<title>x_6&#45;&gt;x_3</title>\n",
       "<path fill=\"none\" stroke=\"gray\" stroke-dasharray=\"5,2\" d=\"M128.13,-149.13C115.96,-138.06 97.66,-121.42 83.75,-108.78\"/>\n",
       "<ellipse fill=\"gray\" stroke=\"gray\" cx=\"80.65\" cy=\"-105.96\" rx=\"4\" ry=\"4\"/>\n",
       "</g>\n",
       "<!-- x_6&#45;&gt;x_4 -->\n",
       "<g id=\"edge5\" class=\"edge\">\n",
       "<title>x_6&#45;&gt;x_4</title>\n",
       "<path fill=\"none\" stroke=\"gray\" stroke-dasharray=\"5,2\" d=\"M141.19,-143.7C141.19,-135.64 141.19,-125.89 141.19,-116.98\"/>\n",
       "<ellipse fill=\"gray\" stroke=\"gray\" cx=\"141.19\" cy=\"-112.6\" rx=\"4\" ry=\"4\"/>\n",
       "</g>\n",
       "<!-- x_6&#45;&gt;x_5 -->\n",
       "<g id=\"edge6\" class=\"edge\">\n",
       "<title>x_6&#45;&gt;x_5</title>\n",
       "<path fill=\"none\" stroke=\"gray\" stroke-dasharray=\"5,2\" d=\"M154.25,-149.13C166.42,-138.06 184.73,-121.42 198.64,-108.78\"/>\n",
       "<ellipse fill=\"gray\" stroke=\"gray\" cx=\"201.73\" cy=\"-105.96\" rx=\"4\" ry=\"4\"/>\n",
       "</g>\n",
       "</g>\n",
       "</svg>\n"
      ],
      "text/plain": [
       "<graphviz.sources.Source at 0x7f097c32e8e0>"
      ]
     },
     "execution_count": 5,
     "metadata": {},
     "output_type": "execute_result"
    }
   ],
   "source": [
    "custom_hgf = (\n",
    "    HGF(model_type=None)\n",
    "    .add_input_node(kind=\"continuous\", input_idx=0)\n",
    "    .add_input_node(kind=\"continuous\", input_idx=1)\n",
    "    .add_input_node(kind=\"continuous\", input_idx=2)\n",
    "    .add_value_parent(children_idxs=[0])\n",
    "    .add_value_parent(children_idxs=[1])\n",
    "    .add_value_parent(children_idxs=[2])\n",
    "    .add_volatility_parent(children_idxs=[3, 4, 5])\n",
    ")\n",
    "custom_hgf.plot_network()"
   ]
  },
  {
   "cell_type": "markdown",
   "id": "ad39ecf5-483e-418d-8b87-2a38a49a9339",
   "metadata": {},
   "source": [
    "The structure of the probabilistic network is stored in the `node_structure` variable which consists of a tuple of `Indexes` that store the indexes of value/volatility parents/children for each node. For example, accessing the nodes connected to node `4` in the example above is done with:"
   ]
  },
  {
   "cell_type": "code",
   "execution_count": 6,
   "id": "c44221d2-6870-4c30-8845-0978bc5ce213",
   "metadata": {},
   "outputs": [
    {
     "data": {
      "text/plain": [
       "Indexes(value_parents=None, volatility_parents=(6,), value_children=(1,), volatility_children=None)"
      ]
     },
     "execution_count": 6,
     "metadata": {},
     "output_type": "execute_result"
    }
   ],
   "source": [
    "# the node structure\n",
    "custom_hgf.node_structure[4]"
   ]
  },
  {
   "cell_type": "markdown",
   "id": "2be24a23-dedd-42d7-be4a-1dc7aced1c50",
   "metadata": {},
   "source": [
    "```{tip} Different types of coupling\n",
    "Contrary to standard graph networks, the directed connection between nodes can have multiple forms. The standard HGF is built on combinations of *value coupling* and *volatility coupling* bindings, but this can be extended to an arbitrary number of types.\n",
    "```"
   ]
  },
  {
   "cell_type": "markdown",
   "id": "9d6de360-7594-409c-971d-2bf50392cd0d",
   "metadata": {},
   "source": [
    "### Multivariate coupling\n",
    "\n",
    "As we can see in the examples above, nodes in a valid HGF network can be influenced by multiple parents (either value or volatility parents). Similarly, a single node can be influenced by multiple children. This feature is termed *multivariate descendency* and *multivariate ascendency* (respectively) and is a central addition to the generalization of the HGF {cite:p}`weber:2023` that was implemented in this package, as well as in the [Julia counterpart](https://github.com/ilabcode/HierarchicalGaussianFiltering.jl)."
   ]
  },
  {
   "cell_type": "markdown",
   "id": "927a3427-8410-47f7-804b-817bc6fc2349",
   "metadata": {},
   "source": [
    "```{note}\n",
    "Hierarchical Gaussian Filters have often been described in terms of levels. For example, the two-level and three-level HGFs are specific instances of  node structures designed to track the volatility and meta-volatility of binary or continuous processes, respectively. While such models can easily be implemented in this framework, the notion of level itself is now less informative. This is a consequence of the multivariate control and influence properties, which can result in structures in which some nodes have a position in the hierarchy that cannot be clearly disambiguated.\n",
    "```"
   ]
  },
  {
   "cell_type": "markdown",
   "id": "fcfc28e3-d4bb-42e1-923c-1e996715552d",
   "metadata": {},
   "source": [
    "#### The case of *multivariate descendency*\n",
    "\n",
    "*Multivariate descendency* refers to situations where a node exerts a predictive influence (and is updated backwards through prediction errors) on multiple children nodes, either via value or volatility coupling.\n",
    "\n",
    "##### Value coupling"
   ]
  },
  {
   "cell_type": "code",
   "execution_count": 7,
   "id": "861f35b3-1ea3-4075-9fd9-e3d849778d9b",
   "metadata": {},
   "outputs": [],
   "source": [
    "import numpy as np"
   ]
  },
  {
   "cell_type": "code",
   "execution_count": 8,
   "id": "cfa74480-1b8b-43d2-80be-415661cfacd9",
   "metadata": {},
   "outputs": [],
   "source": [
    "# simulate some time series - sampling from N(0, 1) sometime shifted by 5\n",
    "u_0 = np.random.normal(0, 1, size=100)\n",
    "u_1 = np.random.normal(0, 1, size=100)\n",
    "\n",
    "u_0[20:50] += 5\n",
    "u_0[90:] += 5\n",
    "\n",
    "u_1[50:70] += 5\n",
    "u_1[70:] += 5\n",
    "\n",
    "input_data = np.array([u_0, u_1]).T"
   ]
  },
  {
   "cell_type": "code",
   "execution_count": 9,
   "id": "bdfdb935-4b1e-4bc6-93e9-efdc80d2c9b5",
   "metadata": {},
   "outputs": [
    {
     "data": {
      "image/svg+xml": [
       "<?xml version=\"1.0\" encoding=\"UTF-8\" standalone=\"no\"?>\n",
       "<!DOCTYPE svg PUBLIC \"-//W3C//DTD SVG 1.1//EN\"\n",
       " \"http://www.w3.org/Graphics/SVG/1.1/DTD/svg11.dtd\">\n",
       "<!-- Generated by graphviz version 8.0.5 (20230506.1012)\n",
       " -->\n",
       "<!-- Title: hgf&#45;nodes Pages: 1 -->\n",
       "<svg width=\"159pt\" height=\"260pt\"\n",
       " viewBox=\"0.00 0.00 159.38 260.00\" xmlns=\"http://www.w3.org/2000/svg\" xmlns:xlink=\"http://www.w3.org/1999/xlink\">\n",
       "<g id=\"graph0\" class=\"graph\" transform=\"scale(1 1) rotate(0) translate(4 256)\">\n",
       "<title>hgf&#45;nodes</title>\n",
       "<polygon fill=\"white\" stroke=\"none\" points=\"-4,4 -4,-256 155.38,-256 155.38,4 -4,4\"/>\n",
       "<!-- x_0 -->\n",
       "<g id=\"node1\" class=\"node\">\n",
       "<title>x_0</title>\n",
       "<polygon fill=\"lightgrey\" stroke=\"black\" points=\"82.38,-82.54 82.38,-97.46 58.25,-108 24.13,-108 0,-97.46 0,-82.54 24.13,-72 58.25,-72 82.38,-82.54\"/>\n",
       "<text text-anchor=\"middle\" x=\"41.19\" y=\"-85.33\" font-family=\"Times,serif\" font-size=\"14.00\">CI &#45; 0</text>\n",
       "</g>\n",
       "<!-- x_1 -->\n",
       "<g id=\"node2\" class=\"node\">\n",
       "<title>x_1</title>\n",
       "<polygon fill=\"lightgrey\" stroke=\"black\" points=\"151.38,-10.54 151.38,-25.46 127.25,-36 93.13,-36 69,-25.46 69,-10.54 93.13,0 127.25,0 151.38,-10.54\"/>\n",
       "<text text-anchor=\"middle\" x=\"110.19\" y=\"-13.32\" font-family=\"Times,serif\" font-size=\"14.00\">CI &#45; 1</text>\n",
       "</g>\n",
       "<!-- x_2 -->\n",
       "<g id=\"node3\" class=\"node\">\n",
       "<title>x_2</title>\n",
       "<ellipse fill=\"none\" stroke=\"black\" cx=\"75.19\" cy=\"-162\" rx=\"18\" ry=\"18\"/>\n",
       "<text text-anchor=\"middle\" x=\"75.19\" y=\"-157.32\" font-family=\"Times,serif\" font-size=\"14.00\">2</text>\n",
       "</g>\n",
       "<!-- x_2&#45;&gt;x_0 -->\n",
       "<g id=\"edge1\" class=\"edge\">\n",
       "<title>x_2&#45;&gt;x_0</title>\n",
       "<path fill=\"none\" stroke=\"black\" d=\"M67.65,-145.46C63.74,-137.42 58.85,-127.36 54.35,-118.09\"/>\n",
       "<polygon fill=\"black\" stroke=\"black\" points=\"57.19,-116.93 49.67,-109.46 50.89,-119.99 57.19,-116.93\"/>\n",
       "</g>\n",
       "<!-- x_2&#45;&gt;x_1 -->\n",
       "<g id=\"edge2\" class=\"edge\">\n",
       "<title>x_2&#45;&gt;x_1</title>\n",
       "<path fill=\"none\" stroke=\"black\" d=\"M80.59,-144.39C83.88,-133.99 88.03,-120.29 91.19,-108 96.39,-87.79 101.28,-64.75 104.8,-47.17\"/>\n",
       "<polygon fill=\"black\" stroke=\"black\" points=\"108.4,-47.98 106.9,-37.49 101.53,-46.63 108.4,-47.98\"/>\n",
       "</g>\n",
       "<!-- x_3 -->\n",
       "<g id=\"node4\" class=\"node\">\n",
       "<title>x_3</title>\n",
       "<ellipse fill=\"none\" stroke=\"black\" cx=\"75.19\" cy=\"-234\" rx=\"18\" ry=\"18\"/>\n",
       "<text text-anchor=\"middle\" x=\"75.19\" y=\"-229.32\" font-family=\"Times,serif\" font-size=\"14.00\">3</text>\n",
       "</g>\n",
       "<!-- x_3&#45;&gt;x_2 -->\n",
       "<g id=\"edge3\" class=\"edge\">\n",
       "<title>x_3&#45;&gt;x_2</title>\n",
       "<path fill=\"none\" stroke=\"gray\" stroke-dasharray=\"5,2\" d=\"M75.19,-215.7C75.19,-207.64 75.19,-197.89 75.19,-188.98\"/>\n",
       "<ellipse fill=\"gray\" stroke=\"gray\" cx=\"75.19\" cy=\"-184.6\" rx=\"4\" ry=\"4\"/>\n",
       "</g>\n",
       "</g>\n",
       "</svg>\n"
      ],
      "text/plain": [
       "<graphviz.sources.Source at 0x7f08f64374c0>"
      ]
     },
     "execution_count": 9,
     "metadata": {},
     "output_type": "execute_result"
    }
   ],
   "source": [
    "# creating a network that contains many child nodes are value coupled to one parent node\n",
    "many_value_children_hgf = (\n",
    "    HGF(model_type=None)\n",
    "    .add_input_node(kind=\"continuous\")\n",
    "    .add_input_node(kind=\"continuous\", input_idx=1)\n",
    "    .add_value_parent(children_idxs=[0, 1])\n",
    "    .add_volatility_parent(children_idxs=[2])\n",
    ")\n",
    "\n",
    "# plot the network\n",
    "many_value_children_hgf.plot_network()"
   ]
  },
  {
   "cell_type": "code",
   "execution_count": 10,
   "id": "4ca59b3a-edb9-4190-9f85-dc7f8149eae5",
   "metadata": {},
   "outputs": [
    {
     "name": "stderr",
     "output_type": "stream",
     "text": [
      "No GPU/TPU found, falling back to CPU. (Set TF_CPP_MIN_LOG_LEVEL=0 and rerun for more info.)\n"
     ]
    },
    {
     "name": "stdout",
     "output_type": "stream",
     "text": [
      "Adding 100 new observations.\n"
     ]
    },
    {
     "data": {
      "text/plain": [
       "<pyhgf.model.HGF at 0x7f08f6437d30>"
      ]
     },
     "execution_count": 10,
     "metadata": {},
     "output_type": "execute_result"
    }
   ],
   "source": [
    "many_value_children_hgf.input_data(input_data=input_data)"
   ]
  },
  {
   "cell_type": "code",
   "execution_count": 11,
   "id": "58777e01-5db1-473f-8164-1559fc68e908",
   "metadata": {},
   "outputs": [],
   "source": [
    "# many_children_hgf.plot_nodes([0, 1, 2], figsize=(12, 9))"
   ]
  },
  {
   "cell_type": "code",
   "execution_count": 12,
   "id": "620f1dc4-7b39-46a5-ad5a-c751df94dd98",
   "metadata": {},
   "outputs": [],
   "source": [
    "#plt.plot(many_children_hgf.to_pandas().observation_input_0, label=\"Input-0\")\n",
    "#plt.plot(many_children_hgf.to_pandas().observation_input_1, label=\"Input-1\")\n",
    "#plt.plot(many_children_hgf.to_pandas().x_2_mu, label=\"mu_x2\")\n",
    "#plt.plot(many_children_hgf.to_pandas().x_3_mu, label=\"mu_x3\")\n",
    "#plt.legend()"
   ]
  },
  {
   "cell_type": "markdown",
   "id": "2b7618b9-1507-482f-8d59-8168f12d6028",
   "metadata": {},
   "source": [
    "##### Volatility coupling"
   ]
  },
  {
   "cell_type": "code",
   "execution_count": 13,
   "id": "8929c3c2-328e-44b0-8806-d906f9099255",
   "metadata": {},
   "outputs": [],
   "source": [
    "# simulate some time series - sampling from N(0, 1) sometime multiplied by 5\n",
    "u_0 = np.random.normal(0, 1, size=1000)\n",
    "u_1 = np.random.normal(0, 1, size=1000)\n",
    "\n",
    "u_0[200:500] *= 5\n",
    "u_0[900:] *= 5\n",
    "\n",
    "u_1[800:] *= 5\n",
    "\n",
    "input_data = np.array([u_0, u_1]).T"
   ]
  },
  {
   "cell_type": "code",
   "execution_count": 14,
   "id": "9bcb84e0-45f2-464a-adca-a596c91a4ec4",
   "metadata": {},
   "outputs": [
    {
     "data": {
      "image/svg+xml": [
       "<?xml version=\"1.0\" encoding=\"UTF-8\" standalone=\"no\"?>\n",
       "<!DOCTYPE svg PUBLIC \"-//W3C//DTD SVG 1.1//EN\"\n",
       " \"http://www.w3.org/Graphics/SVG/1.1/DTD/svg11.dtd\">\n",
       "<!-- Generated by graphviz version 8.0.5 (20230506.1012)\n",
       " -->\n",
       "<!-- Title: hgf&#45;nodes Pages: 1 -->\n",
       "<svg width=\"190pt\" height=\"188pt\"\n",
       " viewBox=\"0.00 0.00 190.38 188.00\" xmlns=\"http://www.w3.org/2000/svg\" xmlns:xlink=\"http://www.w3.org/1999/xlink\">\n",
       "<g id=\"graph0\" class=\"graph\" transform=\"scale(1 1) rotate(0) translate(4 184)\">\n",
       "<title>hgf&#45;nodes</title>\n",
       "<polygon fill=\"white\" stroke=\"none\" points=\"-4,4 -4,-184 186.38,-184 186.38,4 -4,4\"/>\n",
       "<!-- x_0 -->\n",
       "<g id=\"node1\" class=\"node\">\n",
       "<title>x_0</title>\n",
       "<polygon fill=\"lightgrey\" stroke=\"black\" points=\"82.38,-10.54 82.38,-25.46 58.25,-36 24.13,-36 0,-25.46 0,-10.54 24.13,0 58.25,0 82.38,-10.54\"/>\n",
       "<text text-anchor=\"middle\" x=\"41.19\" y=\"-13.32\" font-family=\"Times,serif\" font-size=\"14.00\">CI &#45; 0</text>\n",
       "</g>\n",
       "<!-- x_1 -->\n",
       "<g id=\"node2\" class=\"node\">\n",
       "<title>x_1</title>\n",
       "<polygon fill=\"lightgrey\" stroke=\"black\" points=\"182.38,-10.54 182.38,-25.46 158.25,-36 124.13,-36 100,-25.46 100,-10.54 124.13,0 158.25,0 182.38,-10.54\"/>\n",
       "<text text-anchor=\"middle\" x=\"141.19\" y=\"-13.32\" font-family=\"Times,serif\" font-size=\"14.00\">CI &#45; 1</text>\n",
       "</g>\n",
       "<!-- x_2 -->\n",
       "<g id=\"node3\" class=\"node\">\n",
       "<title>x_2</title>\n",
       "<ellipse fill=\"none\" stroke=\"black\" cx=\"52.19\" cy=\"-90\" rx=\"18\" ry=\"18\"/>\n",
       "<text text-anchor=\"middle\" x=\"52.19\" y=\"-85.33\" font-family=\"Times,serif\" font-size=\"14.00\">2</text>\n",
       "</g>\n",
       "<!-- x_2&#45;&gt;x_0 -->\n",
       "<g id=\"edge1\" class=\"edge\">\n",
       "<title>x_2&#45;&gt;x_0</title>\n",
       "<path fill=\"none\" stroke=\"black\" d=\"M49.53,-72.05C48.34,-64.52 46.92,-55.44 45.58,-46.94\"/>\n",
       "<polygon fill=\"black\" stroke=\"black\" points=\"48.92,-46.61 43.91,-37.28 42,-47.7 48.92,-46.61\"/>\n",
       "</g>\n",
       "<!-- x_3 -->\n",
       "<g id=\"node4\" class=\"node\">\n",
       "<title>x_3</title>\n",
       "<ellipse fill=\"none\" stroke=\"black\" cx=\"129.19\" cy=\"-90\" rx=\"18\" ry=\"18\"/>\n",
       "<text text-anchor=\"middle\" x=\"129.19\" y=\"-85.33\" font-family=\"Times,serif\" font-size=\"14.00\">3</text>\n",
       "</g>\n",
       "<!-- x_3&#45;&gt;x_1 -->\n",
       "<g id=\"edge2\" class=\"edge\">\n",
       "<title>x_3&#45;&gt;x_1</title>\n",
       "<path fill=\"none\" stroke=\"black\" d=\"M132.1,-72.05C133.39,-64.52 134.94,-55.44 136.4,-46.94\"/>\n",
       "<polygon fill=\"black\" stroke=\"black\" points=\"139.99,-47.72 138.23,-37.28 133.09,-46.54 139.99,-47.72\"/>\n",
       "</g>\n",
       "<!-- x_4 -->\n",
       "<g id=\"node5\" class=\"node\">\n",
       "<title>x_4</title>\n",
       "<ellipse fill=\"none\" stroke=\"black\" cx=\"90.19\" cy=\"-162\" rx=\"18\" ry=\"18\"/>\n",
       "<text text-anchor=\"middle\" x=\"90.19\" y=\"-157.32\" font-family=\"Times,serif\" font-size=\"14.00\">4</text>\n",
       "</g>\n",
       "<!-- x_4&#45;&gt;x_2 -->\n",
       "<g id=\"edge3\" class=\"edge\">\n",
       "<title>x_4&#45;&gt;x_2</title>\n",
       "<path fill=\"none\" stroke=\"gray\" stroke-dasharray=\"5,2\" d=\"M81.95,-145.81C76.87,-136.45 70.26,-124.28 64.56,-113.79\"/>\n",
       "<ellipse fill=\"gray\" stroke=\"gray\" cx=\"62.57\" cy=\"-110.11\" rx=\"4\" ry=\"4\"/>\n",
       "</g>\n",
       "<!-- x_4&#45;&gt;x_3 -->\n",
       "<g id=\"edge4\" class=\"edge\">\n",
       "<title>x_4&#45;&gt;x_3</title>\n",
       "<path fill=\"none\" stroke=\"gray\" stroke-dasharray=\"5,2\" d=\"M98.65,-145.81C103.87,-136.45 110.65,-124.28 116.5,-113.79\"/>\n",
       "<ellipse fill=\"gray\" stroke=\"gray\" cx=\"118.55\" cy=\"-110.09\" rx=\"4\" ry=\"4\"/>\n",
       "</g>\n",
       "</g>\n",
       "</svg>\n"
      ],
      "text/plain": [
       "<graphviz.sources.Source at 0x7f094d80ac40>"
      ]
     },
     "execution_count": 14,
     "metadata": {},
     "output_type": "execute_result"
    }
   ],
   "source": [
    "# creating a network that contains many child nodes are volatility coupled to one parent node\n",
    "many_volatility_children_hgf = (\n",
    "    HGF(model_type=None)\n",
    "    .add_input_node(kind=\"continuous\")\n",
    "    .add_input_node(kind=\"continuous\", input_idx=1)\n",
    "    .add_value_parent(children_idxs=[0])\n",
    "    .add_value_parent(children_idxs=[1])\n",
    "    .add_volatility_parent(children_idxs=[2, 3])\n",
    ")\n",
    "\n",
    "# plot the network\n",
    "many_volatility_children_hgf.plot_network()"
   ]
  },
  {
   "cell_type": "code",
   "execution_count": 15,
   "id": "7adac38e-9b67-44f6-81ad-b188e19bb77f",
   "metadata": {},
   "outputs": [
    {
     "name": "stdout",
     "output_type": "stream",
     "text": [
      "Adding 1000 new observations.\n"
     ]
    },
    {
     "data": {
      "text/plain": [
       "<pyhgf.model.HGF at 0x7f094d80a940>"
      ]
     },
     "execution_count": 15,
     "metadata": {},
     "output_type": "execute_result"
    }
   ],
   "source": [
    "many_volatility_children_hgf.input_data(input_data=input_data)"
   ]
  },
  {
   "cell_type": "code",
   "execution_count": 16,
   "id": "7acd738f-ce76-4a5d-a74e-ab1aeff8e663",
   "metadata": {},
   "outputs": [],
   "source": [
    "# many_volatility_children_hgf.plot_nodes([2, 3, 4])"
   ]
  },
  {
   "cell_type": "code",
   "execution_count": 17,
   "id": "671b5282-962d-47d1-bfec-a6ab3727b9a0",
   "metadata": {},
   "outputs": [],
   "source": [
    "#plt.plot(many_volatility_children_hgf.to_pandas().observation_input_0, label=\"Input-0\")\n",
    "#plt.plot(many_volatility_children_hgf.to_pandas().observation_input_1, label=\"Input-1\")\n",
    "#plt.legend()"
   ]
  },
  {
   "cell_type": "code",
   "execution_count": 18,
   "id": "7e0d98e8-a6fe-4886-b191-3116335ab846",
   "metadata": {},
   "outputs": [],
   "source": [
    "#plt.plot(many_volatility_children_hgf.to_pandas().x_2_mu, label=\"mu_x2\")\n",
    "#plt.plot(many_volatility_children_hgf.to_pandas().x_3_mu, label=\"mu_x3\")\n",
    "#plt.legend()"
   ]
  },
  {
   "cell_type": "code",
   "execution_count": 19,
   "id": "b6155dd6-18cd-43a3-8ddf-6ef3525948d7",
   "metadata": {},
   "outputs": [],
   "source": [
    "#plt.plot(many_volatility_children_hgf.to_pandas().x_4_pi, label=\"pi_x4\")"
   ]
  },
  {
   "cell_type": "code",
   "execution_count": 20,
   "id": "48430180-bafa-418c-bb95-3edb7f997e94",
   "metadata": {},
   "outputs": [],
   "source": [
    "#plt.plot(many_volatility_children_hgf.to_pandas().x_4_mu, label=\"mu_x4\")"
   ]
  },
  {
   "cell_type": "markdown",
   "id": "b6d84893-b45f-49e9-a767-64a2568b637c",
   "metadata": {},
   "source": [
    "#### The case of *multivariate ascendency*\n",
    "\n",
    "*Multivariate ascendency* refers to situations where a node is influenced (and updates backwards through prediction errors) multiple value or volatility parents.\n",
    "\n",
    "#### Value coupling\n",
    "\n",
    "```{warning}\n",
    "Work in progress\n",
    "```\n",
    "\n",
    "#### Volatility coupling\n",
    "\n",
    "```{warning}\n",
    "Work in progress\n",
    "```"
   ]
  },
  {
   "cell_type": "markdown",
   "id": "ca9de6a9-985e-4d23-9509-6c8f2a56231b",
   "metadata": {},
   "source": [
    "## Creating custom update functions\n",
    "\n",
    "Models that are created with parameter structures and node structures only represent static configuration of the HGF, they are not yet filtering new observation or acting in response to specific input. To add a dynamic and responsive layer, we need two additional components:\n",
    "\n",
    "- update functions $\\mathcal{F} = \\{f_1, ..., f_n\\}$\n",
    "- update sequences $\\Sigma = [f_1(n_1), ..., f_i(n_j), f \\in \\mathcal{F}, n \\in 1, ..., k ]$,\n",
    "\n",
    "\n",
    "### Update functions\n",
    "\n",
    "Update functions are the heart of the HGF filtering procedure, these functions implement the message passing and parameters updating steps between node. An update function in its simplier form is a fuction defined as\n",
    "\n",
    "```python\n",
    "parameters_structure = update_fn(node_idx, parameters_structure, node_structure)\n",
    "```\n",
    "\n",
    "In other words, it is updating the parameters structure by applying certain transformation using the node $i$ as reference. This usually means that an observation has reached node $i$ and we want to send prediction-error to the parent nodes and update their sufficient statistics. The function has acess to the entire parameters and nodes structure, which mean that it can retrive parameters from parents, children, grand-parents etc... But in practice, pessage passing updates only use information found in the [Markov blanket](https://en.wikipedia.org/wiki/Markov_blanket) of the given node."
   ]
  },
  {
   "cell_type": "markdown",
   "id": "735bf0a2-455b-4445-914a-e9e7634daaab",
   "metadata": {},
   "source": [
    "## Creating custom update sequences\n",
    "\n",
    "Update sequences define the dynamics of beliefs propagation through the probabilistic network. In its simpler form, an update sequence is a sequence of update functions pointing to a node index such as:\n",
    "\n",
    "```python\n",
    "update_sequence = (\n",
    "    (update_fn1, 0),\n",
    "    (update_fn2, 1),\n",
    ")\n",
    "```\n",
    "\n",
    "The HGF class include a built-in {ref}`pyhgf.modeal.HGF.get_update_sequence` method to automatically generate the update sequence from the network structure, assuming that we want to propagate the beliefs from the lower part of the tree (the input nodes) to its upper part (nodes that do not have parents)."
   ]
  },
  {
   "cell_type": "markdown",
   "id": "84e2267d-82ee-47fb-b05f-ed8a5fa27c87",
   "metadata": {},
   "source": [
    "## Time-varying update sequences\n",
    "\n",
    "### Static assignation of update sequences\n",
    "\n",
    "### Dynamic assignation of update sequences\n",
    "\n",
    "```{warning}\n",
    "Work in progress\n",
    "```"
   ]
  },
  {
   "cell_type": "code",
   "execution_count": null,
   "id": "87db2be8-bda2-4419-982c-a48674c13108",
   "metadata": {},
   "outputs": [],
   "source": []
  }
 ],
 "metadata": {
  "jupytext": {
   "formats": "ipynb,md:myst"
  },
  "kernelspec": {
   "display_name": "Python 3 (ipykernel)",
   "language": "python",
   "name": "python3"
  },
  "language_info": {
   "codemirror_mode": {
    "name": "ipython",
    "version": 3
   },
   "file_extension": ".py",
   "mimetype": "text/x-python",
   "name": "python",
   "nbconvert_exporter": "python",
   "pygments_lexer": "ipython3",
   "version": "3.9.16"
  }
 },
 "nbformat": 4,
 "nbformat_minor": 5
}
