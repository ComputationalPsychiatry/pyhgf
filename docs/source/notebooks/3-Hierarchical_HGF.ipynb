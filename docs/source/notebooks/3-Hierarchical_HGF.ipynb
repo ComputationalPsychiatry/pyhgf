{
 "cells": [
  {
   "cell_type": "markdown",
   "id": "3d531da8-f5e7-4979-9c95-a2dd12c8298e",
   "metadata": {},
   "source": [
    "(hierarchical_hgf)=\n",
    "# Group-level parameters"
   ]
  },
  {
   "cell_type": "code",
   "execution_count": 2,
   "id": "58f804e8-e559-4a46-a637-64f13d295677",
   "metadata": {},
   "outputs": [],
   "source": []
  },
  {
   "cell_type": "markdown",
   "id": "d31ae464",
   "metadata": {},
   "source": [
    "## Loading the USD/CHF time series"
   ]
  },
  {
   "cell_type": "code",
   "execution_count": 3,
   "id": "84ce7d8d-88b1-4873-ab73-6dc5fe7fe465",
   "metadata": {},
   "outputs": [],
   "source": []
  },
  {
   "cell_type": "markdown",
   "id": "1f6d7216",
   "metadata": {},
   "source": [
    "## Fitting the HGF model with fixed parameters"
   ]
  },
  {
   "cell_type": "code",
   "execution_count": null,
   "id": "a91c60f7",
   "metadata": {},
   "outputs": [],
   "source": []
  },
  {
   "cell_type": "code",
   "execution_count": null,
   "id": "5b45cfcd-4883-445c-a57f-bc9006a1a8a0",
   "metadata": {},
   "outputs": [],
   "source": []
  }
 ],
 "metadata": {
  "interpreter": {
   "hash": "40d3a090f54c6569ab1632332b64b2c03c39dcf918b08424e98f38b5ae0af88f"
  },
  "jupytext": {
   "formats": "ipynb,md:myst"
  },
  "kernelspec": {
   "display_name": "Python 3 (ipykernel)",
   "language": "python",
   "name": "python3"
  },
  "language_info": {
   "codemirror_mode": {
    "name": "ipython",
    "version": 3
   },
   "file_extension": ".py",
   "mimetype": "text/x-python",
   "name": "python",
   "nbconvert_exporter": "python",
   "pygments_lexer": "ipython3",
   "version": "3.8.8"
  }
 },
 "nbformat": 4,
 "nbformat_minor": 5
}
