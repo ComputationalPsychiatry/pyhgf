{
 "cells": [
  {
   "cell_type": "markdown",
   "id": "c651fabf-bccd-42eb-87fd-6ad774b0b937",
   "metadata": {
    "editable": true,
    "slideshow": {
     "slide_type": ""
    },
    "tags": []
   },
   "source": [
    "(generalised_filtering)=\n",
    "# Generalised Bayesian Filtering of exponential family distributions"
   ]
  },
  {
   "cell_type": "markdown",
   "id": "fe6b34cf-2de5-4763-af6a-785b2930e679",
   "metadata": {},
   "source": [
    "[![Open In Colab](https://colab.research.google.com/assets/colab-badge.svg)](https://colab.research.google.com/github/ComputationalPsychiatry/pyhgf/blob/master/docs/source/notebooks/0.3-Generalised_filtering.ipynb)"
   ]
  },
  {
   "cell_type": "code",
   "execution_count": 1,
   "id": "31b80846",
   "metadata": {
    "editable": true,
    "execution": {
     "iopub.execute_input": "2025-01-10T13:53:59.914472Z",
     "iopub.status.busy": "2025-01-10T13:53:59.913668Z",
     "iopub.status.idle": "2025-01-10T13:53:59.921214Z",
     "shell.execute_reply": "2025-01-10T13:53:59.919815Z"
    },
    "slideshow": {
     "slide_type": ""
    },
    "tags": [
     "hide-cell"
    ]
   },
   "outputs": [],
   "source": [
    "import sys\n",
    "\n",
    "from IPython.utils import io\n",
    "\n",
    "if 'google.colab' in sys.modules:\n",
    "\n",
    "  with io.capture_output() as captured:\n",
    "      ! pip install pyhgf watermark"
   ]
  },
  {
   "cell_type": "code",
   "execution_count": 2,
   "id": "6e337fd3-5a3e-4e0f-ab4f-e055cebfb7ff",
   "metadata": {
    "editable": true,
    "execution": {
     "iopub.execute_input": "2025-01-10T13:53:59.930368Z",
     "iopub.status.busy": "2025-01-10T13:53:59.924990Z",
     "iopub.status.idle": "2025-01-10T13:54:02.194691Z",
     "shell.execute_reply": "2025-01-10T13:54:02.193859Z"
    },
    "slideshow": {
     "slide_type": ""
    },
    "tags": []
   },
   "outputs": [
    {
     "name": "stderr",
     "output_type": "stream",
     "text": [
      "An NVIDIA GPU may be present on this machine, but a CUDA-enabled jaxlib is not installed. Falling back to cpu.\n"
     ]
    }
   ],
   "source": [
    "import jax.numpy as jnp\n",
    "import matplotlib.pyplot as plt\n",
    "import numpy as np\n",
    "import seaborn as sns\n",
    "from matplotlib.ticker import MultipleLocator\n",
    "from scipy.stats import norm, t\n",
    "\n",
    "from pyhgf.math import MultivariateNormal, Normal, gaussian_predictive_distribution\n",
    "from pyhgf.model import Network\n",
    "from pyhgf.utils import beliefs_propagation\n",
    "\n",
    "np.random.seed(123)\n",
    "plt.rcParams[\"figure.constrained_layout.use\"] = True"
   ]
  },
  {
   "cell_type": "markdown",
   "id": "c9cfc583-b824-4495-8b41-e1a12da04831",
   "metadata": {
    "editable": true,
    "slideshow": {
     "slide_type": ""
    },
    "tags": []
   },
   "source": [
    "Hierarchical Gaussian filters can receive one-dimensional continuous and binary inputs by default, but they in practice be extended to a much broader class of distributions. Here, we use the approach described in {cite:p}`mathys:2020` to demonstrate that the Hierarchical Gaussian Filter can be generalized to any probability distribution that belongs to the [exponential family](https://en.wikipedia.org/wiki/Exponential_family). This is the sample principle that underpins the {ref}`categorical_hgf`, in which case the implied distribution is a Dirichlet distribution. However, by abstracting the specificity of each distribution away, we can implement probabilistic nodes that can flexibly filter any distribution from the exponential family, as an input node or as a state node, which greatly enlarges the range of possible models.\n",
    "\n",
    "Generalised Bayesian filtering in this context requires first expressing the Bayesian update of an exponential family distribution as a simple update over hyperparameters. Exponential families of probability distributions are those which can be written in the form:\n",
    "\n",
    "$$\n",
    "p(x|\\vartheta) = f_x(\\vartheta) := h(x) exp(\\eta(\\vartheta) · t(x) − b(\\vartheta))\n",
    "$$\n",
    "\n",
    "where:\n",
    "- $x$ is a vector-valued observation\n",
    "- $\\vartheta$ is a parameter vector\n",
    "- $h(x)$ is a normalization constant\n",
    "- $\\eta(\\vartheta)$ is the natural parameter vector\n",
    "- $t(x)$ is the sufficient statistic vector\n",
    "- $b(\\vartheta)$ is a scalar function\n",
    "\n",
    "It has been shown in {cite:p}`mathys:2020` that, when chosing as prior:\n",
    "\n",
    "$$\n",
    "p(\\vartheta|\\xi, \\nu) = g_{\\xi, \\nu}(\\vartheta) := z(\\xi, \\nu) \\exp (\\nu(\\eta(\\vartheta)·\\xi−b(\\vartheta)))\n",
    "$$\n",
    "\n",
    "with the variable\n",
    "\n",
    "$$\n",
    "z(\\xi, \\nu) := (\\int \\exp(\\nu(\\eta(\\vartheta) · \\xi−b(\\vartheta)))d\\vartheta)^{−1}\n",
    "$$\n",
    "\n",
    "as normalization constant, then the posterior is a simple update of the hyperparameters in the form:\n",
    "\n",
    "$$\n",
    "\\begin{align*}\n",
    "& \\nu \\leftarrow \\nu + 1 \\\\\n",
    "& \\xi \\leftarrow \\xi + \\frac{1}{\\nu + 1}(t(x)-\\xi)\n",
    "\\end{align*}\n",
    "$$"
   ]
  },
  {
   "cell_type": "markdown",
   "id": "98b19008-9ec3-41e2-9fc5-fbb77c5e682e",
   "metadata": {
    "editable": true,
    "slideshow": {
     "slide_type": ""
    },
    "tags": []
   },
   "source": [
    "## Filtering the Sufficient Statistics of a Stationary Distribution\n",
    "\n",
    "We start applying this update steps to the estimation of the parameters from a stationary normal distribution."
   ]
  },
  {
   "cell_type": "code",
   "execution_count": 3,
   "id": "f0be17ad-5611-4c89-80a2-9e45b1ddffc4",
   "metadata": {
    "editable": true,
    "execution": {
     "iopub.execute_input": "2025-01-10T13:54:02.197152Z",
     "iopub.status.busy": "2025-01-10T13:54:02.196883Z",
     "iopub.status.idle": "2025-01-10T13:54:02.200982Z",
     "shell.execute_reply": "2025-01-10T13:54:02.200133Z"
    },
    "slideshow": {
     "slide_type": ""
    },
    "tags": []
   },
   "outputs": [],
   "source": [
    "x = np.arange(-7, 7, 0.01)  # x axis\n",
    "xi, nu = np.array([0, 1 / 8]), 1.0  # initial hyperparameters\n",
    "xs = np.random.normal(5, 1 / 4, 1000)  # input observations"
   ]
  },
  {
   "cell_type": "code",
   "execution_count": 4,
   "id": "ba318975-ce19-4b47-9934-bd02c0130e10",
   "metadata": {
    "editable": true,
    "execution": {
     "iopub.execute_input": "2025-01-10T13:54:02.203128Z",
     "iopub.status.busy": "2025-01-10T13:54:02.202914Z",
     "iopub.status.idle": "2025-01-10T13:54:02.823804Z",
     "shell.execute_reply": "2025-01-10T13:54:02.822473Z"
    },
    "slideshow": {
     "slide_type": ""
    },
    "tags": []
   },
   "outputs": [
    {
     "data": {
      "image/png": "[encoded data removed]",
      "text/plain": [
       "<Figure size 1200x300 with 1 Axes>"
      ]
     },
     "metadata": {},
     "output_type": "display_data"
    }
   ],
   "source": [
    "plt.figure(figsize=(12, 3))\n",
    "plt.plot(\n",
    "    x,\n",
    "    gaussian_predictive_distribution(x, xi=xi, nu=nu),\n",
    "    color=\"k\",\n",
    "    label=\"Prior\",\n",
    "    linestyle=\"--\",\n",
    ")\n",
    "for i, x_i in enumerate(xs):\n",
    "    xi = xi + (1 / (1 + nu)) * (\n",
    "        Normal().sufficient_statistics_from_observations(x=x_i) - xi\n",
    "    )\n",
    "    nu += 1\n",
    "\n",
    "    if i in [2, 4, 8, 16, 32, 64, 128, 256, 512, 999]:\n",
    "        plt.plot(\n",
    "            x,\n",
    "            gaussian_predictive_distribution(x, xi=xi, nu=nu),\n",
    "            color=\"grey\",\n",
    "            linewidth=1.0,\n",
    "        )\n",
    "plt.plot(\n",
    "    x, norm.pdf(x, loc=5.0, scale=1 / 4), color=\"#582766\", label=\"Target distribution\"\n",
    ")\n",
    "plt.xlim(-2, 7)\n",
    "plt.legend()\n",
    "plt.grid(linestyle=\"--\")\n",
    "sns.despine()"
   ]
  },
  {
   "cell_type": "markdown",
   "id": "a8f5b053-5bf8-4fd6-b909-c4b08e0e08d3",
   "metadata": {
    "editable": true,
    "slideshow": {
     "slide_type": ""
    },
    "tags": []
   },
   "source": [
    "The vizualisation of the predictive distribution over new observations require integrating the joint probability of the prior $g_{\\xi, \\nu}(\\vartheta)$ and the posterior $f_x(\\vartheta)$. In the case of a univariate normal, the *Gaussian-predictive* distribution is given by:\n",
    "\n",
    "$$\n",
    "\\mathcal{NP}(x, \\xi, \\nu) := \\sqrt{\\frac{1}{\\pi(\\nu+1)(\\xi_{x^2}-\\xi_{x}^2)}}\\frac{\\Gamma(\\frac{\\nu+2}{2})}{\\Gamma(\\frac{\\nu+1}{2})} \\left( 1+\\frac{(x-\\xi_{x})^2}{(\\nu+1)(\\xi_{x^2}-\\xi_x^2)} \\right) ^{-\\frac{\\nu+2}{2}}\n",
    "$$\n",
    "\n",
    "When $\\xi = 0, 1$, this corresponds to the Student's-t distribution with $\\nu + 1$ degrees of freedom, as evidenced here:"
   ]
  },
  {
   "cell_type": "code",
   "execution_count": 5,
   "id": "add927a3-4233-484d-ad01-74ad03b87b5b",
   "metadata": {
    "editable": true,
    "execution": {
     "iopub.execute_input": "2025-01-10T13:54:02.826901Z",
     "iopub.status.busy": "2025-01-10T13:54:02.826428Z",
     "iopub.status.idle": "2025-01-10T13:54:03.406849Z",
     "shell.execute_reply": "2025-01-10T13:54:03.406071Z"
    },
    "scrolled": true,
    "slideshow": {
     "slide_type": ""
    },
    "tags": [
     "hide-input"
    ]
   },
   "outputs": [
    {
     "data": {
      "image/png": "[encoded data removed]",
      "text/plain": [
       "<Figure size 700x300 with 1 Axes>"
      ]
     },
     "metadata": {},
     "output_type": "display_data"
    }
   ],
   "source": [
    "_, ax = plt.subplots(figsize=(7, 3))\n",
    "ax.plot(\n",
    "    x,\n",
    "    gaussian_predictive_distribution(x, xi=np.array([0, 1]), nu=10),\n",
    "    linestyle=\"--\",\n",
    "    label=r\"Gaussian-predictive $\\mathcal{NP}, (\\nu = 10)$\",\n",
    ")\n",
    "\n",
    "ax.plot(x, t.pdf(x, 11), linestyle=\":\", label=r\"Student's t, $(df = 11)$\")\n",
    "ax.xaxis.set_minor_locator(MultipleLocator(1))\n",
    "ax.yaxis.set_minor_locator(MultipleLocator(0.02))\n",
    "ax.set_title(\"Predictive distribution for a univariate Normal\")\n",
    "ax.legend()\n",
    "ax.grid(linestyle=\"--\")\n",
    "sns.despine()"
   ]
  },
  {
   "cell_type": "markdown",
   "id": "a0b38681-6bcb-4c73-a985-4c961e7870f0",
   "metadata": {
    "editable": true,
    "slideshow": {
     "slide_type": ""
    },
    "tags": []
   },
   "source": [
    "## Filtering the Sufficient Statistics of a Non-Stationary Distribution\n",
    "Real-world applications of Bayesian filtering imply non-stationary distributions, in which cases the agent cannot rely anymore on distant observation and has to weigh down their evidence proportional to their distance from the current time point. In the current framework, this suggests that $\\nu$, the pseudo-count vector, cannot linearly increase with the number of new observations but has to be limited. The most straightforward way is then to fix it to some values.\n",
    "\n",
    "### Using a fixed $\\nu$: The Generalised Bayesian Filtering approach\n",
    "\n",
    "This operation can be achieved using an exponential family state node, using the following parameters:\n",
    "- Setting `kind=\"ef-state\"`. We also set `learning=\"generalised-filtering\"` to explicitly inform the node it should use the general filtering approach\n",
    "- using a 1-dimensional Gaussian distribution by setting `dimension=\"normal\"`\n",
    "- using `nus=3.0`, this parameter will behave as the inverse of a learning rate, informing how much in the past we are looking to update the current sufficient statistics.\n",
    "- setting `xis=np.array([0, 1 / 8])`, this is our starting point and first guess for the expected sufficient statistics.\n",
    "\n",
    "Some of these steps were not necessary as this is the default behaviour for the toolbox, but we added them here for clarity."
   ]
  },
  {
   "cell_type": "code",
   "execution_count": 6,
   "id": "528427f1-5b70-4fa4-8bc1-ef8ebcf62bbc",
   "metadata": {
    "execution": {
     "iopub.execute_input": "2025-01-10T13:54:03.410164Z",
     "iopub.status.busy": "2025-01-10T13:54:03.409350Z",
     "iopub.status.idle": "2025-01-10T13:54:03.414735Z",
     "shell.execute_reply": "2025-01-10T13:54:03.413777Z"
    }
   },
   "outputs": [],
   "source": [
    "generalised_filter = Network().add_nodes(\n",
    "    kind=\"ef-state\", distribution=\"normal\", nus=3.0, xis=np.array([0, 1 / 8])\n",
    ")"
   ]
  },
  {
   "cell_type": "markdown",
   "id": "87760ecd-821e-458d-903a-594018610d1d",
   "metadata": {},
   "source": [
    "````{note} From sufficient statistics to distribution parameters and backwards\n",
    "When using a 1-dimensional Gaussian distribution, Setting $\\xi = [0, \\frac{1}{8}]$ is equivalent to a mean $\\mu = 0.0$ and a variance $\\sigma^2 = \\frac{1}{8}$. You can convert between distribution parameters and expected sufficient statistics using the distribution classes from PyHGF (when implemented):\n",
    "\n",
    "```{code-cell} python\n",
    "from pyhgf.math import Normal\n",
    "\n",
    "# from an observation to sufficient statistics\n",
    "Normal.sufficient_statistics_from_observations(x=1.5)\n",
    "```\n",
    "> Array([1.5 , 2.25], dtype=float32)\n",
    "```{code-cell} python\n",
    "# from distribution parameters to sufficient statistics\n",
    "Normal.sufficient_statistics_from_parameters(mean=0.0, variance=4.0)\n",
    "```\n",
    "> Array([0., 4.], dtype=float32)\n",
    "```{code-cell} python\n",
    "# from sufficient statistics to distribution parameters\n",
    "Normal.parameters_from_sufficient_statistics(xis=[0.0, 4.0])\n",
    "```\n",
    "> (0.0, 4.0)\n",
    "\n",
    "````"
   ]
  },
  {
   "cell_type": "markdown",
   "id": "594c726c-bfee-41df-a72b-7cbbac89aaa6",
   "metadata": {},
   "source": [
    "The resulting network consists in a single node that encapsulate all computation and do not depends on other nodes. Nodes supporting exponential family distribution can therefore support inputs of various shapes whithout requiring multiple input nodes."
   ]
  },
  {
   "cell_type": "code",
   "execution_count": 7,
   "id": "1798765e-3d65-4bfd-964b-7f9b6b0902be",
   "metadata": {
    "execution": {
     "iopub.execute_input": "2025-01-10T13:54:03.418432Z",
     "iopub.status.busy": "2025-01-10T13:54:03.417963Z",
     "iopub.status.idle": "2025-01-10T13:54:03.454413Z",
     "shell.execute_reply": "2025-01-10T13:54:03.453224Z"
    }
   },
   "outputs": [
    {
     "data": {
      "image/svg+xml": [
       "<?xml version=\"1.0\" encoding=\"UTF-8\" standalone=\"no\"?>\n",
       "<!DOCTYPE svg PUBLIC \"-//W3C//DTD SVG 1.1//EN\"\n",
       " \"http://www.w3.org/Graphics/SVG/1.1/DTD/svg11.dtd\">\n",
       "<!-- Generated by graphviz version 9.0.0 (20231125.0833)\n",
       " -->\n",
       "<!-- Title: hgf&#45;nodes Pages: 1 -->\n",
       "<svg width=\"77pt\" height=\"77pt\"\n",
       " viewBox=\"0.00 0.00 76.75 76.75\" xmlns=\"http://www.w3.org/2000/svg\" xmlns:xlink=\"http://www.w3.org/1999/xlink\">\n",
       "<g id=\"graph0\" class=\"graph\" transform=\"scale(1 1) rotate(0) translate(4 72.75)\">\n",
       "<title>hgf&#45;nodes</title>\n",
       "<polygon fill=\"white\" stroke=\"none\" points=\"-4,4 -4,-72.75 72.75,-72.75 72.75,4 -4,4\"/>\n",
       "<!-- x_0 -->\n",
       "<g id=\"node1\" class=\"node\">\n",
       "<title>x_0</title>\n",
       "<ellipse fill=\"#ced6e4\" stroke=\"black\" cx=\"34.37\" cy=\"-34.37\" rx=\"34.37\" ry=\"34.37\"/>\n",
       "<text text-anchor=\"middle\" x=\"34.37\" y=\"-29.7\" font-family=\"Times,serif\" font-size=\"14.00\">EF&#45;0</text>\n",
       "</g>\n",
       "</g>\n",
       "</svg>\n"
      ],
      "text/plain": [
       "<graphviz.sources.Source at 0x7ff434589e50>"
      ]
     },
     "execution_count": 7,
     "metadata": {},
     "output_type": "execute_result"
    }
   ],
   "source": [
    "generalised_filter.plot_network()"
   ]
  },
  {
   "cell_type": "markdown",
   "id": "4eae7839-7024-43e6-899b-2b9e75e3d47c",
   "metadata": {},
   "source": [
    "We then create a time series to filter and pass it to the network using different values for the parameter $\\nu$, representing how much past values should influence the Bayesian update."
   ]
  },
  {
   "cell_type": "code",
   "execution_count": 8,
   "id": "2d921e51-a940-42b2-88f2-e25bd7ab5a01",
   "metadata": {
    "editable": true,
    "execution": {
     "iopub.execute_input": "2025-01-10T13:54:03.458489Z",
     "iopub.status.busy": "2025-01-10T13:54:03.457995Z",
     "iopub.status.idle": "2025-01-10T13:54:03.462879Z",
     "shell.execute_reply": "2025-01-10T13:54:03.462074Z"
    },
    "slideshow": {
     "slide_type": ""
    },
    "tags": []
   },
   "outputs": [],
   "source": [
    "x = np.arange(0, 1000)  # time points\n",
    "\n",
    "# create noisy input time series with switching means\n",
    "y = np.random.normal(0, 1 / 8, 1000)\n",
    "y[200:400] += 0.5\n",
    "y[600:800] -= 0.5"
   ]
  },
  {
   "cell_type": "code",
   "execution_count": 9,
   "id": "9176ddfd-df3f-4733-bb97-81deb71aa1b8",
   "metadata": {},
   "outputs": [
    {
     "ename": "TypeError",
     "evalue": "Scanned function carry input and carry output must have equal types (e.g. shapes and dtypes of arrays), but they differ:\n  * the input carry component attributes[0]['mean'] has type float32[] but the corresponding output carry component has type float32[1], so the shapes do not match\n\n  * the input carry component attributes[0]['observation_ss'] has type float32[2] but the corresponding output carry component has type float32[2,1], so the shapes do not match\n\n  * the input carry component attributes[0]['xis'] has type float32[2] but the corresponding output carry component has type float32[2,2], so the shapes do not match\n\nRevise the scanned function so that all output types (e.g. shapes and dtypes) match the corresponding input types.",
     "output_type": "error",
     "traceback": [
      "\u001b[0;31m---------------------------------------------------------------------------\u001b[0m",
      "\u001b[0;31mTypeError\u001b[0m                                 Traceback (most recent call last)",
      "Cell \u001b[0;32mIn[9], line 10\u001b[0m\n\u001b[1;32m      6\u001b[0m generalised_filter\u001b[38;5;241m.\u001b[39mattributes[\u001b[38;5;241m0\u001b[39m][\u001b[38;5;124m\"\u001b[39m\u001b[38;5;124mnus\u001b[39m\u001b[38;5;124m\"\u001b[39m] \u001b[38;5;241m=\u001b[39m nu\n\u001b[1;32m      8\u001b[0m \u001b[38;5;66;03m# fit to new data and convert the sufficient statistics into distribution parameters\u001b[39;00m\n\u001b[1;32m      9\u001b[0m mean, variance \u001b[38;5;241m=\u001b[39m Normal\u001b[38;5;241m.\u001b[39mparameters_from_sufficient_statistics(\n\u001b[0;32m---> 10\u001b[0m     xis\u001b[38;5;241m=\u001b[39m\u001b[43mgeneralised_filter\u001b[49m\u001b[38;5;241;43m.\u001b[39;49m\u001b[43minput_data\u001b[49m\u001b[43m(\u001b[49m\u001b[43minput_data\u001b[49m\u001b[38;5;241;43m=\u001b[39;49m\u001b[43my\u001b[49m\u001b[43m)\u001b[49m\u001b[38;5;241m.\u001b[39mnode_trajectories[\u001b[38;5;241m0\u001b[39m][\u001b[38;5;124m\"\u001b[39m\u001b[38;5;124mxis\u001b[39m\u001b[38;5;124m\"\u001b[39m]\u001b[38;5;241m.\u001b[39mT\n\u001b[1;32m     11\u001b[0m )\n\u001b[1;32m     13\u001b[0m \u001b[38;5;66;03m# save distribution parameters    \u001b[39;00m\n\u001b[1;32m     14\u001b[0m means\u001b[38;5;241m.\u001b[39mappend(mean)\n",
      "File \u001b[0;32m~/git/pyhgf/pyhgf/model/network.py:197\u001b[0m, in \u001b[0;36mNetwork.input_data\u001b[0;34m(self, input_data, time_steps, observed, input_idxs)\u001b[0m\n\u001b[1;32m    192\u001b[0m inputs \u001b[38;5;241m=\u001b[39m values, observed, time_steps\n\u001b[1;32m    194\u001b[0m \u001b[38;5;66;03m# this is where the model loops over the whole input time series\u001b[39;00m\n\u001b[1;32m    195\u001b[0m \u001b[38;5;66;03m# at each time point, the node structure is traversed and beliefs are updated\u001b[39;00m\n\u001b[1;32m    196\u001b[0m \u001b[38;5;66;03m# using precision-weighted prediction errors\u001b[39;00m\n\u001b[0;32m--> 197\u001b[0m last_attributes, node_trajectories \u001b[38;5;241m=\u001b[39m \u001b[43mscan\u001b[49m\u001b[43m(\u001b[49m\n\u001b[1;32m    198\u001b[0m \u001b[43m    \u001b[49m\u001b[38;5;28;43mself\u001b[39;49m\u001b[38;5;241;43m.\u001b[39;49m\u001b[43mscan_fn\u001b[49m\u001b[43m,\u001b[49m\u001b[43m \u001b[49m\u001b[38;5;28;43mself\u001b[39;49m\u001b[38;5;241;43m.\u001b[39;49m\u001b[43mattributes\u001b[49m\u001b[43m,\u001b[49m\u001b[43m \u001b[49m\u001b[43minputs\u001b[49m\n\u001b[1;32m    199\u001b[0m \u001b[43m\u001b[49m\u001b[43m)\u001b[49m\n\u001b[1;32m    201\u001b[0m \u001b[38;5;66;03m# belief trajectories\u001b[39;00m\n\u001b[1;32m    202\u001b[0m \u001b[38;5;28mself\u001b[39m\u001b[38;5;241m.\u001b[39mnode_trajectories \u001b[38;5;241m=\u001b[39m node_trajectories\n",
      "    \u001b[0;31m[... skipping hidden 2 frame]\u001b[0m\n",
      "File \u001b[0;32m~/mambaforge/envs/pyhgf_dev/lib/python3.12/site-packages/jax/_src/lax/control_flow/loops.py:375\u001b[0m, in \u001b[0;36m_check_scan_carry_type\u001b[0;34m(body_fun, in_carry, out_carry_tree, out_avals)\u001b[0m\n\u001b[1;32m    368\u001b[0m \u001b[38;5;28;01mif\u001b[39;00m \u001b[38;5;129;01mnot\u001b[39;00m \u001b[38;5;28mall\u001b[39m(_map(core\u001b[38;5;241m.\u001b[39mtypematch, in_avals, out_avals)):\n\u001b[1;32m    369\u001b[0m   differences \u001b[38;5;241m=\u001b[39m \u001b[38;5;124m'\u001b[39m\u001b[38;5;130;01m\\n\u001b[39;00m\u001b[38;5;124m'\u001b[39m\u001b[38;5;241m.\u001b[39mjoin(\n\u001b[1;32m    370\u001b[0m       \u001b[38;5;124mf\u001b[39m\u001b[38;5;124m'\u001b[39m\u001b[38;5;124m  * \u001b[39m\u001b[38;5;132;01m{\u001b[39;00mcomponent(path)\u001b[38;5;132;01m}\u001b[39;00m\u001b[38;5;124m has type \u001b[39m\u001b[38;5;132;01m{\u001b[39;00min_aval\u001b[38;5;241m.\u001b[39mstr_short()\u001b[38;5;132;01m}\u001b[39;00m\u001b[38;5;124m'\u001b[39m\n\u001b[1;32m    371\u001b[0m       \u001b[38;5;124m'\u001b[39m\u001b[38;5;124m but the corresponding output carry component has type \u001b[39m\u001b[38;5;124m'\u001b[39m\n\u001b[1;32m    372\u001b[0m       \u001b[38;5;124mf\u001b[39m\u001b[38;5;124m'\u001b[39m\u001b[38;5;132;01m{\u001b[39;00mout_aval\u001b[38;5;241m.\u001b[39mstr_short()\u001b[38;5;132;01m}\u001b[39;00m\u001b[38;5;132;01m{\u001b[39;00m_aval_mismatch_extra(in_aval,\u001b[38;5;250m \u001b[39mout_aval)\u001b[38;5;132;01m}\u001b[39;00m\u001b[38;5;130;01m\\n\u001b[39;00m\u001b[38;5;124m'\u001b[39m\n\u001b[1;32m    373\u001b[0m       \u001b[38;5;28;01mfor\u001b[39;00m path, in_aval, out_aval \u001b[38;5;129;01min\u001b[39;00m \u001b[38;5;28mzip\u001b[39m(paths, in_avals, out_avals)\n\u001b[1;32m    374\u001b[0m       \u001b[38;5;28;01mif\u001b[39;00m \u001b[38;5;129;01mnot\u001b[39;00m core\u001b[38;5;241m.\u001b[39mtypematch(in_aval, out_aval))\n\u001b[0;32m--> 375\u001b[0m   \u001b[38;5;28;01mraise\u001b[39;00m \u001b[38;5;167;01mTypeError\u001b[39;00m(\n\u001b[1;32m    376\u001b[0m       \u001b[38;5;124m\"\u001b[39m\u001b[38;5;124mScanned function carry input and carry output must have equal types \u001b[39m\u001b[38;5;124m\"\u001b[39m\n\u001b[1;32m    377\u001b[0m       \u001b[38;5;124m\"\u001b[39m\u001b[38;5;124m(e.g. shapes and dtypes of arrays), \u001b[39m\u001b[38;5;124m\"\u001b[39m\n\u001b[1;32m    378\u001b[0m       \u001b[38;5;124m\"\u001b[39m\u001b[38;5;124mbut they differ:\u001b[39m\u001b[38;5;130;01m\\n\u001b[39;00m\u001b[38;5;124m\"\u001b[39m\n\u001b[1;32m    379\u001b[0m       \u001b[38;5;124mf\u001b[39m\u001b[38;5;124m\"\u001b[39m\u001b[38;5;132;01m{\u001b[39;00mdifferences\u001b[38;5;132;01m}\u001b[39;00m\u001b[38;5;130;01m\\n\u001b[39;00m\u001b[38;5;124m\"\u001b[39m\n\u001b[1;32m    380\u001b[0m       \u001b[38;5;124m\"\u001b[39m\u001b[38;5;124mRevise the scanned function so that all output types (e.g. shapes \u001b[39m\u001b[38;5;124m\"\u001b[39m\n\u001b[1;32m    381\u001b[0m       \u001b[38;5;124m\"\u001b[39m\u001b[38;5;124mand dtypes) match the corresponding input types.\u001b[39m\u001b[38;5;124m\"\u001b[39m\n\u001b[1;32m    382\u001b[0m   )\n",
      "\u001b[0;31mTypeError\u001b[0m: Scanned function carry input and carry output must have equal types (e.g. shapes and dtypes of arrays), but they differ:\n  * the input carry component attributes[0]['mean'] has type float32[] but the corresponding output carry component has type float32[1], so the shapes do not match\n\n  * the input carry component attributes[0]['observation_ss'] has type float32[2] but the corresponding output carry component has type float32[2,1], so the shapes do not match\n\n  * the input carry component attributes[0]['xis'] has type float32[2] but the corresponding output carry component has type float32[2,2], so the shapes do not match\n\nRevise the scanned function so that all output types (e.g. shapes and dtypes) match the corresponding input types."
     ]
    }
   ],
   "source": [
    "means, variances = [], []\n",
    "nus = [3, 9, 35]\n",
    "for nu in nus:\n",
    "\n",
    "    # set a new learning rate\n",
    "    generalised_filter.attributes[0][\"nus\"] = nu\n",
    "\n",
    "    # fit to new data and convert the sufficient statistics into distribution parameters\n",
    "    mean, variance = Normal.parameters_from_sufficient_statistics(\n",
    "        xis=generalised_filter.input_data(input_data=y).node_trajectories[0][\"xis\"].T\n",
    "    )\n",
    "\n",
    "    # save distribution parameters    \n",
    "    means.append(mean)\n",
    "    variances.append(variance)"
   ]
  },
  {
   "cell_type": "code",
   "execution_count": null,
   "id": "1b2ecfcd-abc2-4f64-a877-b45a0731569c",
   "metadata": {},
   "outputs": [],
   "source": [
    "np.ones(100).ndim"
   ]
  },
  {
   "cell_type": "code",
   "execution_count": null,
   "id": "bc3af535-b2d5-47d5-856c-54db9794b47a",
   "metadata": {},
   "outputs": [],
   "source": [
    "generalised_filter.attributes"
   ]
  },
  {
   "cell_type": "code",
   "execution_count": null,
   "id": "0754380d-87d0-430e-a533-540c5f252091",
   "metadata": {
    "editable": true,
    "execution": {
     "iopub.execute_input": "2025-01-10T13:54:03.672185Z",
     "iopub.status.busy": "2025-01-10T13:54:03.671465Z",
     "iopub.status.idle": "2025-01-10T13:54:03.946934Z",
     "shell.execute_reply": "2025-01-10T13:54:03.946361Z"
    },
    "slideshow": {
     "slide_type": ""
    },
    "tags": [
     "hide-input"
    ]
   },
   "outputs": [],
   "source": [
    "_, axs = plt.subplots(figsize=(12, 5), nrows=2, sharex=True)\n",
    "axs[0].scatter(x, y, color=\"grey\", alpha=0.6, s=10)\n",
    "for mean, nu in zip(means, nus):\n",
    "    axs[0].plot(x, mean, label=rf\"$\\nu = {nu}$\")\n",
    "axs[0].grid(linestyle=\"--\")\n",
    "axs[0].set_title(r\"Filtering sufficient statistics using a fixed $\\nu$\")\n",
    "axs[0].set_ylabel(\"Mean\")\n",
    "axs[0].legend()\n",
    "\n",
    "for variance, nu in zip(variances, nus):\n",
    "    axs[1].plot(x, jnp.sqrt(variance), label=rf\"$\\nu = {nu}$\")\n",
    "axs[1].grid(linestyle=\"--\")\n",
    "axs[1].set_xlabel(\"Observations\")\n",
    "axs[1].set_ylabel(\"Standard deviation\")\n",
    "axs[1].legend()\n",
    "\n",
    "sns.despine()"
   ]
  },
  {
   "cell_type": "markdown",
   "id": "c0150462-c035-47c4-9f08-8eadad2f8d25",
   "metadata": {},
   "source": [
    "We can see that larger values for $\\nu$ correspond to a lower learning rate, and therefore smoother transition between states."
   ]
  },
  {
   "cell_type": "markdown",
   "id": "fa04c2b1-afde-466d-ba48-b19705032d14",
   "metadata": {
    "editable": true,
    "slideshow": {
     "slide_type": ""
    },
    "tags": [
     "hide-input"
    ]
   },
   "source": [
    "### Using a dynamically adapted $\\nu$ through a collection of Hierarchical Gaussian Filters\n",
    "\n",
    "Limiting the number of past observations weighting in the predictive distribution comes with the difficult question of how to choose the correct value for such a parameter. Here, one solution to handle this is to let this parameter vary across time as a function of the volatility of the observations. Large unexpected variations should increase the learning rate, while limited, expected variations should increase the posterior precision. Interestingly, this is the kind of dynamic adaptation that reinforcement learning models are implementing, including the Hierarchical Gaussian Filter in this category. Here, we can derive the implied $\\nu$ from a ratio of prediction and observation differentials such as:\n",
    "\n",
    "$$\n",
    "\\nu \\leftarrow \\frac{\\delta}{\\Delta}\n",
    "$$\n",
    "\n",
    "with $\\delta$ the prediction error at time $k$ and $\\Delta$ the differential of expectations (before and after observing the new value).\n",
    "\n",
    "#### Univariate normal distribution"
   ]
  },
  {
   "cell_type": "code",
   "execution_count": null,
   "id": "baf6e2fc-dc8d-46bb-896b-ff5c45a944ee",
   "metadata": {
    "editable": true,
    "execution": {
     "iopub.execute_input": "2025-01-10T13:54:03.949485Z",
     "iopub.status.busy": "2025-01-10T13:54:03.948882Z",
     "iopub.status.idle": "2025-01-10T13:54:04.636554Z",
     "shell.execute_reply": "2025-01-10T13:54:04.635183Z"
    },
    "slideshow": {
     "slide_type": ""
    },
    "tags": []
   },
   "outputs": [],
   "source": [
    "univariate_hgf =  Network().add_nodes(kind=\"ef-state\", learning=\"hgf-1\")\n",
    "univariate_hgf.attributes[1][\"precision\"] = 100.0\n",
    "univariate_hgf.attributes[4][\"precision\"] = 100.0\n",
    "\n"
   ]
  },
  {
   "cell_type": "code",
   "execution_count": null,
   "id": "2f56c8e2-125e-4099-b511-ef8160d1aa56",
   "metadata": {},
   "outputs": [],
   "source": [
    "univariate_hgf.plot_network()"
   ]
  },
  {
   "cell_type": "code",
   "execution_count": null,
   "id": "2cc62622-0709-41f3-8ccd-d7024099de7a",
   "metadata": {
    "execution": {
     "iopub.execute_input": "2025-01-10T13:54:04.639360Z",
     "iopub.status.busy": "2025-01-10T13:54:04.639144Z",
     "iopub.status.idle": "2025-01-10T13:54:04.674265Z",
     "shell.execute_reply": "2025-01-10T13:54:04.673450Z"
    },
    "scrolled": true
   },
   "outputs": [],
   "source": [
    "univariate_hgf.input_data(input_data=y);"
   ]
  },
  {
   "cell_type": "code",
   "execution_count": null,
   "id": "29be24f4-f22d-449b-8605-433dba502715",
   "metadata": {},
   "outputs": [],
   "source": [
    "univariate_hgf.node_trajectories[0][\"nus\"]"
   ]
  },
  {
   "cell_type": "code",
   "execution_count": null,
   "id": "3ad5511c-c735-4945-aa09-c2e9f8eceb80",
   "metadata": {},
   "outputs": [],
   "source": [
    "univariate_hgf.node_trajectories[0][\"xis\"][205, :]"
   ]
  },
  {
   "cell_type": "code",
   "execution_count": null,
   "id": "58045c5d-51c6-46b8-a51c-d80a3e5c9f1a",
   "metadata": {},
   "outputs": [],
   "source": [
    "Normal().parameters_from_sufficient_statistics(univariate_hgf.node_trajectories[0][\"xis\"][205, :])"
   ]
  },
  {
   "cell_type": "code",
   "execution_count": null,
   "id": "a1ba6482-29b2-4a96-9e4e-76c3f9ea5620",
   "metadata": {},
   "outputs": [],
   "source": [
    "univariate_hgf.node_trajectories[0][\"nus\"]"
   ]
  },
  {
   "cell_type": "code",
   "execution_count": null,
   "id": "4a37b874-2085-4028-9358-6897f33dbda6",
   "metadata": {},
   "outputs": [],
   "source": [
    "# get the sufficient statistics from the first observation to parametrize the model\n",
    "mean, variance = jnp.apply_along_axis(\n",
    "    Normal().parameters_from_sufficient_statistics, 1, univariate_hgf.node_trajectories[0][\"xis\"]\n",
    ")"
   ]
  },
  {
   "cell_type": "code",
   "execution_count": null,
   "id": "45cdf250-5a7c-4dc3-b5e7-46055cb35adf",
   "metadata": {
    "editable": true,
    "execution": {
     "iopub.execute_input": "2025-01-10T13:54:04.676756Z",
     "iopub.status.busy": "2025-01-10T13:54:04.676453Z",
     "iopub.status.idle": "2025-01-10T13:54:04.897442Z",
     "shell.execute_reply": "2025-01-10T13:54:04.896519Z"
    },
    "slideshow": {
     "slide_type": ""
    },
    "tags": []
   },
   "outputs": [],
   "source": [
    "_, axs = plt.subplots(figsize=(12, 5), nrows=2, sharex=True)\n",
    "axs[0].scatter(x, y, color=\"grey\", alpha=0.6, s=10)\n",
    "axs[0].plot(x, mean, label=\"Mean\")\n",
    "axs[0].grid(linestyle=\"--\")\n",
    "axs[0].set_title(r\"Filtering sufficient statistics using a HGF informed learning rate\")\n",
    "axs[0].set_ylabel(\"Mean\")\n",
    "axs[0].legend()\n",
    "\n",
    "axs[1].plot(x, jnp.sqrt(variance), label=\"Standard deviation\")\n",
    "axs[1].grid(linestyle=\"--\")\n",
    "axs[1].set_xlabel(\"Observations\")\n",
    "axs[1].set_ylabel(\"Standard deviation\")\n",
    "axs[1].legend()\n",
    "\n",
    "sns.despine()"
   ]
  },
  {
   "cell_type": "markdown",
   "id": "a74a4730-0811-4d77-a698-aeb73a80d185",
   "metadata": {
    "editable": true,
    "slideshow": {
     "slide_type": ""
    },
    "tags": []
   },
   "source": [
    "#### Bivariate normal distribution"
   ]
  },
  {
   "cell_type": "code",
   "execution_count": null,
   "id": "c16026ce-fab5-4753-82ef-39eb7a136fa8",
   "metadata": {},
   "outputs": [],
   "source": [
    "bivariate_hgf = Network().add_nodes(\n",
    "    kind=\"ef-state\", \n",
    "    learning=\"hgf-2\", \n",
    "    distribution=\"multivariate-normal\", \n",
    "    dimension=2\n",
    ")\n",
    "\n",
    "bivariate_hgf.attributes[2][\"tonic_volatility\"] = -6.0\n",
    "bivariate_hgf.attributes[5][\"tonic_volatility\"] = -6.0\n",
    "bivariate_hgf.attributes[8][\"tonic_volatility\"] = -6.0\n",
    "bivariate_hgf.attributes[11][\"tonic_volatility\"] = -6.0\n",
    "bivariate_hgf.attributes[14][\"tonic_volatility\"] = -6.0"
   ]
  },
  {
   "cell_type": "code",
   "execution_count": null,
   "id": "39a4137d-e549-4b21-ab25-1ae2abfe9475",
   "metadata": {},
   "outputs": [],
   "source": [
    "bivariate_hgf.plot_network()"
   ]
  },
  {
   "cell_type": "code",
   "execution_count": null,
   "id": "781b08fc-a2c7-4856-a103-beffd7787325",
   "metadata": {
    "editable": true,
    "execution": {
     "iopub.execute_input": "2025-01-10T13:54:04.900348Z",
     "iopub.status.busy": "2025-01-10T13:54:04.899801Z",
     "iopub.status.idle": "2025-01-10T13:54:04.911618Z",
     "shell.execute_reply": "2025-01-10T13:54:04.911004Z"
    },
    "slideshow": {
     "slide_type": ""
    },
    "tags": []
   },
   "outputs": [],
   "source": [
    "# simulate an ordered spiral data set\n",
    "N = 1000\n",
    "theta = np.sort(np.sqrt(np.random.rand(N)) * 5 * np.pi)\n",
    "r_a = -2 * theta - np.pi\n",
    "spiral_data = np.array([np.cos(theta) * r_a, np.sin(theta) * r_a]).T\n",
    "spiral_data = spiral_data + np.random.randn(N, 2) * 2"
   ]
  },
  {
   "cell_type": "code",
   "execution_count": null,
   "id": "ea1ce29f-dd89-44cb-aabd-6d93ecbf128b",
   "metadata": {
    "editable": true,
    "execution": {
     "iopub.execute_input": "2025-01-10T13:54:04.914018Z",
     "iopub.status.busy": "2025-01-10T13:54:04.913348Z",
     "iopub.status.idle": "2025-01-10T13:54:05.570842Z",
     "shell.execute_reply": "2025-01-10T13:54:05.568629Z"
    },
    "slideshow": {
     "slide_type": ""
    },
    "tags": []
   },
   "outputs": [],
   "source": [
    "# get the sufficient statistics from the first observation to parametrize the model\n",
    "sufficient_statistics = jnp.apply_along_axis(\n",
    "    MultivariateNormal().sufficient_statistics, 1, input_data\n",
    ")"
   ]
  },
  {
   "cell_type": "markdown",
   "id": "edc7c5e6-57bb-4965-b0b1-ab656af86273",
   "metadata": {
    "editable": true,
    "slideshow": {
     "slide_type": ""
    },
    "tags": []
   },
   "source": [
    "Filtering the sufficient statistics of a two dimensional multivariate normal distribution requires tracking the values of 5 parameters in paralell. Our model therefore consist in 5 independent two-level continuous HGF."
   ]
  },
  {
   "cell_type": "markdown",
   "id": "b63f1702-7b2c-466a-a23e-ca2f5e64334b",
   "metadata": {
    "editable": true,
    "slideshow": {
     "slide_type": ""
    },
    "tags": []
   },
   "source": [
    "For us to compute the hyperparameter after each update, we need to *manually* call the belief propagation sequence."
   ]
  },
  {
   "cell_type": "code",
   "execution_count": 17,
   "id": "5afba8ab-ee69-4747-9fa0-4c12e4d09d8f",
   "metadata": {
    "editable": true,
    "execution": {
     "iopub.execute_input": "2025-01-10T13:54:05.667871Z",
     "iopub.status.busy": "2025-01-10T13:54:05.667323Z",
     "iopub.status.idle": "2025-01-10T13:54:05.673401Z",
     "shell.execute_reply": "2025-01-10T13:54:05.672425Z"
    },
    "slideshow": {
     "slide_type": ""
    },
    "tags": [
     "hide-cell"
    ]
   },
   "outputs": [],
   "source": [
    "# run this code to create the animation\n",
    "\n",
    "# fig, ax = plt.subplots(figsize=(5, 5))\n",
    "# scat = ax.scatter(\n",
    "#     input_data[0, 0],\n",
    "#     input_data[0, 1],\n",
    "#     edgecolor=\"k\",\n",
    "#     alpha=0.4,\n",
    "#     s=10\n",
    "# )\n",
    "# scat2 = ax.scatter(\n",
    "#     means[0, 1],\n",
    "#     means[0, 0],\n",
    "#     edgecolor=\"#c44e52\",\n",
    "#     s=25\n",
    "# )\n",
    "# plot = ax.plot(\n",
    "#     means[0, 1],\n",
    "#     means[0, 0],\n",
    "#     color=\"#c44e52\",\n",
    "#     linestyle=\"--\",\n",
    "#     label=\"Belief trajectory\"\n",
    "# )[0]\n",
    "# ax.grid(linestyle=\"--\")\n",
    "# ax.set(\n",
    "#     xlim=[-35, 35],\n",
    "#     ylim=[-35, 35],\n",
    "#     xlabel=r\"$x_1$\",\n",
    "#     ylabel=r\"$x_2$\",\n",
    "#     title=r\"Filtering a bivariate stochastic process\",\n",
    "# )\n",
    "# plt.tight_layout()\n",
    "#\n",
    "#\n",
    "# def update(frame):\n",
    "#     # update the scatter plot\n",
    "#     data = np.stack([input_data[:frame, 0], input_data[:frame, 1]]).T\n",
    "#     scat.set_offsets(data)\n",
    "#\n",
    "#     data2 = np.stack([means[frame, 0], means[frame, 1]]).T\n",
    "#     scat2.set_offsets(data2)\n",
    "#\n",
    "#     # update the belief trajectory\n",
    "#     plot.set_ydata(means[:frame, 1])\n",
    "#     plot.set_xdata(means[:frame, 0])\n",
    "#     return scat, scat2, plot\n",
    "#\n",
    "# ani = animation.FuncAnimation(fig=fig, func=update, frames=1000, interval=30)\n",
    "# ani.save(\"anim.gif\")"
   ]
  },
  {
   "cell_type": "markdown",
   "id": "a6909d46-2fe0-4c5b-8914-2469c65ac701",
   "metadata": {
    "editable": true,
    "slideshow": {
     "slide_type": ""
    },
    "tags": []
   },
   "source": [
    "![multivariate_hgf](../images/multivariate_hgf.gif)"
   ]
  },
  {
   "cell_type": "markdown",
   "id": "fa3af903-9f8d-4d4f-9e8a-e2ae3a67d429",
   "metadata": {
    "editable": true,
    "slideshow": {
     "slide_type": ""
    },
    "tags": []
   },
   "source": [
    "```{note}\n",
    "The animation above displays the mean tracking of a bivariate normal distribution. This is equivalent to tracking the mean of the x and y axis using two separate HGFs. However, the generalized filtering process does more than that under the hood by tracking the whole sufficient statistic vector, which incorporates information about the covariance of the implied multivariate distribution. The full visualization of this distribution requires derivating the posterior predictive distribution of the multivariate normal, as parametrized by the vectors $\\nu$ and $\\xi$.\n",
    "```"
   ]
  },
  {
   "cell_type": "markdown",
   "id": "ef848ca4-3492-4b45-81d9-14e4133f23ae",
   "metadata": {},
   "source": [
    "# System configuration"
   ]
  },
  {
   "cell_type": "code",
   "execution_count": 18,
   "id": "98fb7497-1284-42cf-930e-5c318cbacb6b",
   "metadata": {
    "execution": {
     "iopub.execute_input": "2025-01-10T13:54:05.677157Z",
     "iopub.status.busy": "2025-01-10T13:54:05.676059Z",
     "iopub.status.idle": "2025-01-10T13:54:05.694163Z",
     "shell.execute_reply": "2025-01-10T13:54:05.693269Z"
    }
   },
   "outputs": [
    {
     "name": "stdout",
     "output_type": "stream",
     "text": [
      "Last updated: Fri Jan 10 2025\n",
      "\n",
      "Python implementation: CPython\n",
      "Python version       : 3.12.3\n",
      "IPython version      : 8.31.0\n",
      "\n",
      "pyhgf : 0.2.1.post4.dev0+d49aafe9\n",
      "jax   : 0.4.31\n",
      "jaxlib: 0.4.31\n",
      "\n",
      "matplotlib: 3.10.0\n",
      "pyhgf     : 0.2.1.post4.dev0+d49aafe9\n",
      "seaborn   : 0.13.2\n",
      "numpy     : 1.26.0\n",
      "sys       : 3.12.3 | packaged by conda-forge | (main, Apr 15 2024, 18:38:13) [GCC 12.3.0]\n",
      "IPython   : 8.31.0\n",
      "jax       : 0.4.31\n",
      "\n",
      "Watermark: 2.5.0\n",
      "\n"
     ]
    }
   ],
   "source": [
    "%load_ext watermark\n",
    "%watermark -n -u -v -iv -w -p pyhgf,jax,jaxlib"
   ]
  },
  {
   "cell_type": "code",
   "execution_count": null,
   "id": "65bcd439-2583-4c2e-8db0-b845cc6ba201",
   "metadata": {},
   "outputs": [],
   "source": []
  }
 ],
 "metadata": {
  "kernelspec": {
   "display_name": "pyhgf_dev",
   "language": "python",
   "name": "python3"
  },
  "language_info": {
   "codemirror_mode": {
    "name": "ipython",
    "version": 3
   },
   "file_extension": ".py",
   "mimetype": "text/x-python",
   "name": "python",
   "nbconvert_exporter": "python",
   "pygments_lexer": "ipython3",
   "version": "3.12.3"
  }
 },
 "nbformat": 4,
 "nbformat_minor": 5
}
