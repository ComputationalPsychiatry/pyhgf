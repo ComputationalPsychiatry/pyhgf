{
 "cells": [
  {
   "cell_type": "markdown",
   "id": "3aebaca2-f14e-4b6f-9d68-8ff7ea3c7b71",
   "metadata": {
    "editable": true,
    "slideshow": {
     "slide_type": ""
    },
    "tags": []
   },
   "source": [
    "(custom_response_functions)=\n",
    "# Using custom response models"
   ]
  },
  {
   "cell_type": "markdown",
   "id": "1a9a9835-a027-4c14-9649-e7b51545b83d",
   "metadata": {
    "editable": true,
    "slideshow": {
     "slide_type": ""
    },
    "tags": []
   },
   "source": [
    "[![Open In Colab](https://colab.research.google.com/assets/colab-badge.svg)](https://colab.research.google.com/github/ilabcode/pyhgf/blob/master/docs/source/notebooks/2-Using_custom_response_functions.ipynb)"
   ]
  },
  {
   "cell_type": "code",
   "execution_count": 1,
   "id": "6522fb9d-5799-4fe4-848e-a711bd3c2e15",
   "metadata": {
    "editable": true,
    "execution": {
     "iopub.execute_input": "2024-09-26T13:12:09.992711Z",
     "iopub.status.busy": "2024-09-26T13:12:09.992423Z",
     "iopub.status.idle": "2024-09-26T13:12:09.997826Z",
     "shell.execute_reply": "2024-09-26T13:12:09.996865Z"
    },
    "slideshow": {
     "slide_type": ""
    },
    "tags": [
     "hide-cell"
    ]
   },
   "outputs": [],
   "source": [
    "import sys\n",
    "from IPython.utils import io\n",
    "if 'google.colab' in sys.modules:\n",
    "\n",
    "  with io.capture_output() as captured:\n",
    "      ! pip install pyhgf watermark"
   ]
  },
  {
   "cell_type": "code",
   "execution_count": 2,
   "id": "96efb544-a8f7-44af-8345-ab6af53aaaf5",
   "metadata": {
    "editable": true,
    "execution": {
     "iopub.execute_input": "2024-09-26T13:12:10.000377Z",
     "iopub.status.busy": "2024-09-26T13:12:10.000183Z",
     "iopub.status.idle": "2024-09-26T13:12:12.790398Z",
     "shell.execute_reply": "2024-09-26T13:12:12.789202Z"
    },
    "slideshow": {
     "slide_type": ""
    },
    "tags": []
   },
   "outputs": [
    {
     "name": "stderr",
     "output_type": "stream",
     "text": [
      "An NVIDIA GPU may be present on this machine, but a CUDA-enabled jaxlib is not installed. Falling back to cpu.\n"
     ]
    }
   ],
   "source": [
    "import arviz as az\n",
    "import jax.numpy as jnp\n",
    "import matplotlib.pyplot as plt\n",
    "import numpy as np\n",
    "import pymc as pm\n",
    "\n",
    "from pyhgf import load_data\n",
    "from pyhgf.distribution import HGFDistribution\n",
    "from pyhgf.model import HGF\n",
    "\n",
    "plt.rcParams[\"figure.constrained_layout.use\"] = True"
   ]
  },
  {
   "cell_type": "markdown",
   "id": "d55938bd-cc60-4c6f-8f69-959b340042d7",
   "metadata": {
    "editable": true,
    "slideshow": {
     "slide_type": ""
    },
    "tags": []
   },
   "source": [
    "The probabilistic networks we have been creating so far with the continuous and the binary Hierarchical Gaussian Filter (HGF) are often referred to as {term}`Perceptual model`. This branch of the model acts as a [Bayesian filter](https://en.wikipedia.org/wiki/Recursive_Bayesian_estimation) as it tries to predict the next observation(s) given current and past observations (often noted $u$). In that sense, the HGF is sometimes described as a generalization of Bayesian filters (e.g. a one-level continuous HGF is equivalent to a Kalman filter). Complex probabilistic networks can handle more complex environments for example with nested volatility, with multiple inputs, or with time-varying inputs that dynamically change how beliefs propagate through the structure (see {ref}`probabilistic_networks` for a tutorial on probabilistic networks). \n",
    "\n",
    "But no matter how complex those networks are, they are only the *perceptual* side of the model. If we want our agent to be able to act according to the beliefs he/she is having about the environment and evaluate its performances from these actions, we need  what is traditionally called a {term}`Response model` (also sometimes referred to as *decision model* or *observation model*). In a nutshell, a {term}`Response model` describe how we think the agent decide to perform some action at time $t$, and how we can measure the \"goodness of fit\" of our perceptual model given the observed actions. It critically incorporates a {term}`Decision rule`, which is the function that, given the sufficient statistics of the network's beliefs sample an action from the possible actions at hand.\n",
    "\n",
    "Being able to write and modify such {term}`Response model` is critical for practical applications of the HGF as it allows users to adapt the models to their specific experimental designs. In this notebook, we will demonstrate how it is possible to write custom response models for a given probabilistic network.\n",
    "\n",
    "```{figure} ../images/response_models.png\n",
    "---\n",
    "name: response-models-fig\n",
    "---\n",
    "**The {term}`Perceptual model` and the {term}`Response model` of a Hierarchical Gaussian Filter (HGF)**. The left panel represents the {term}`Perceptual model`. The beliefs that the agent holds on state of the world are updated in the probabilistic network (blue circles) as the agent makes new observations (often noted $u$, e.g. the association between a stimulus and an outcome at time $t$). Using these beliefs, the {term}`Response model` (right panel) selects which decision/action $y$ to perform. Critically here, the {term}`Response model` only operates one-way (i.e. taking beliefs to generate action), but the actions are not modulating the way beliefs are updated (the model does not perform active inference - this point is, however, an active line of researches and new iterations of the model will try to *fusion* the two branch using active inference principles).\n",
    "```"
   ]
  },
  {
   "cell_type": "markdown",
   "id": "fedbe1d8-3f35-47ce-9cf6-0b40054f8cc7",
   "metadata": {
    "editable": true,
    "slideshow": {
     "slide_type": ""
    },
    "tags": []
   },
   "source": [
    "## Creating a new response function: the binary surprise\n",
    "To illustrate the creation of new response functions, we are going to use the same binary input vector from the decision task described in {cite:p}`Iglesias2021`."
   ]
  },
  {
   "cell_type": "code",
   "execution_count": 3,
   "id": "2fe26152-d746-4bda-872d-9a3e55ffc586",
   "metadata": {
    "editable": true,
    "execution": {
     "iopub.execute_input": "2024-09-26T13:12:12.793250Z",
     "iopub.status.busy": "2024-09-26T13:12:12.792901Z",
     "iopub.status.idle": "2024-09-26T13:12:12.801173Z",
     "shell.execute_reply": "2024-09-26T13:12:12.800121Z"
    },
    "slideshow": {
     "slide_type": ""
    },
    "tags": []
   },
   "outputs": [],
   "source": [
    "u, _ = load_data(\"binary\")"
   ]
  },
  {
   "cell_type": "markdown",
   "id": "8d0e3852-b46e-48a9-8b7c-349382785cad",
   "metadata": {
    "editable": true,
    "slideshow": {
     "slide_type": ""
    },
    "tags": []
   },
   "source": [
    "For the sake of example here, we will consider that the participant underwent a *one-armed bandit task*, which consisted of the presentations of two stimuli ($S_0$ and $S_1$) that could be associated with two types of outcomes ($O_{+}$ and $O_{-}$). On each trial, the participant was presented with the two stimuli, chose one of them and get an outcome. The underlying contingencies of stimuli associated with positive outcomes are changing over time, in a way that can be more or less volatile. The {term}`Perceptual model` tries to track these contingencies by observing the previous associations. We have already been using this {term}`Perceptual model` model before in the tutorial on the binary HGF ({ref}`binary_hgf`). Here the input data $u$ is the observed association between e.g. $S_0$ and $O_{+}$. In order to incorporate a {term}`Response model` on top of that, we need first to define:\n",
    "1. a range of possible actions $y$. In this case, the participant has only two alternatives so $y$ can be either `0` or `1`.\n",
    "2. a {term}`Decision rule` stating how the agent selects between the two actions given the beliefs of the probabilistic network at time $t$. \n",
    "In this situation, it is trivial to write such a decision function and generate actions as new inputs are coming in, for simulation purposes for example. We start by setting a {term}`Perceptual model` (i.e. a network of probabilistic nodes updated by observations). Here this is a standard two-level binary HGF, and the inputs are the binary observations (the association between one of the stimuli and the positive reward)."
   ]
  },
  {
   "cell_type": "code",
   "execution_count": 4,
   "id": "f543569f-234c-42a0-b23e-18b6379413ee",
   "metadata": {
    "editable": true,
    "execution": {
     "iopub.execute_input": "2024-09-26T13:12:12.804328Z",
     "iopub.status.busy": "2024-09-26T13:12:12.804103Z",
     "iopub.status.idle": "2024-09-26T13:12:12.984790Z",
     "shell.execute_reply": "2024-09-26T13:12:12.983919Z"
    },
    "slideshow": {
     "slide_type": ""
    },
    "tags": []
   },
   "outputs": [],
   "source": [
    "agent = HGF(\n",
    "    n_levels=2,\n",
    "    model_type=\"binary\",\n",
    "    initial_mean={\"1\": .0, \"2\": .5},\n",
    "    initial_precision={\"1\": .0, \"2\": 1e4},\n",
    "    tonic_volatility={\"2\": -4.0},\n",
    ").input_data(input_data=u)"
   ]
  },
  {
   "cell_type": "markdown",
   "id": "4a8f9ff3-e127-4bd2-b4f2-4c986129bc61",
   "metadata": {
    "editable": true,
    "slideshow": {
     "slide_type": ""
    },
    "tags": []
   },
   "source": [
    "This perceptual model has observed the input sequence, meaning that we now have beliefs trajectories for all nodes in the network. The beliefs are stored in the variable `node_trajectories` in the model class, but can also be exported to Pandas using the `to_pandas` method like:"
   ]
  },
  {
   "cell_type": "code",
   "execution_count": 5,
   "id": "a579cfa3-d00c-4cf3-b1e7-278d732aee37",
   "metadata": {
    "editable": true,
    "execution": {
     "iopub.execute_input": "2024-09-26T13:12:12.988468Z",
     "iopub.status.busy": "2024-09-26T13:12:12.987578Z",
     "iopub.status.idle": "2024-09-26T13:12:13.193446Z",
     "shell.execute_reply": "2024-09-26T13:12:13.192630Z"
    },
    "slideshow": {
     "slide_type": ""
    },
    "tags": []
   },
   "outputs": [
    {
     "data": {
      "text/html": [
       "<div>\n",
       "<style scoped>\n",
       "    .dataframe tbody tr th:only-of-type {\n",
       "        vertical-align: middle;\n",
       "    }\n",
       "\n",
       "    .dataframe tbody tr th {\n",
       "        vertical-align: top;\n",
       "    }\n",
       "\n",
       "    .dataframe thead th {\n",
       "        text-align: right;\n",
       "    }\n",
       "</style>\n",
       "<table border=\"1\" class=\"dataframe\">\n",
       "  <thead>\n",
       "    <tr style=\"text-align: right;\">\n",
       "      <th></th>\n",
       "      <th>time_steps</th>\n",
       "      <th>time</th>\n",
       "      <th>x_0_expected_mean</th>\n",
       "      <th>x_0_expected_precision</th>\n",
       "      <th>x_0_mean</th>\n",
       "      <th>x_0_precision</th>\n",
       "      <th>x_1_expected_mean</th>\n",
       "      <th>x_1_expected_precision</th>\n",
       "      <th>x_1_mean</th>\n",
       "      <th>x_1_precision</th>\n",
       "      <th>x_0_surprise</th>\n",
       "      <th>x_1_surprise</th>\n",
       "      <th>total_surprise</th>\n",
       "    </tr>\n",
       "  </thead>\n",
       "  <tbody>\n",
       "    <tr>\n",
       "      <th>0</th>\n",
       "      <td>1.0</td>\n",
       "      <td>1.0</td>\n",
       "      <td>0.622459</td>\n",
       "      <td>0.235004</td>\n",
       "      <td>1.0</td>\n",
       "      <td>0.235004</td>\n",
       "      <td>0.500000</td>\n",
       "      <td>54.301674</td>\n",
       "      <td>0.506923</td>\n",
       "      <td>54.536678</td>\n",
       "      <td>0.474077</td>\n",
       "      <td>-1.077038</td>\n",
       "      <td>-0.602961</td>\n",
       "    </tr>\n",
       "    <tr>\n",
       "      <th>1</th>\n",
       "      <td>1.0</td>\n",
       "      <td>2.0</td>\n",
       "      <td>0.624085</td>\n",
       "      <td>0.234603</td>\n",
       "      <td>1.0</td>\n",
       "      <td>0.234603</td>\n",
       "      <td>0.506923</td>\n",
       "      <td>27.283697</td>\n",
       "      <td>0.520583</td>\n",
       "      <td>27.518301</td>\n",
       "      <td>0.471469</td>\n",
       "      <td>-0.731660</td>\n",
       "      <td>-0.260191</td>\n",
       "    </tr>\n",
       "    <tr>\n",
       "      <th>2</th>\n",
       "      <td>1.0</td>\n",
       "      <td>3.0</td>\n",
       "      <td>0.627284</td>\n",
       "      <td>0.233799</td>\n",
       "      <td>1.0</td>\n",
       "      <td>0.233799</td>\n",
       "      <td>0.520583</td>\n",
       "      <td>18.296556</td>\n",
       "      <td>0.540697</td>\n",
       "      <td>18.530355</td>\n",
       "      <td>0.466356</td>\n",
       "      <td>-0.530717</td>\n",
       "      <td>-0.064361</td>\n",
       "    </tr>\n",
       "    <tr>\n",
       "      <th>3</th>\n",
       "      <td>1.0</td>\n",
       "      <td>4.0</td>\n",
       "      <td>0.631975</td>\n",
       "      <td>0.232583</td>\n",
       "      <td>1.0</td>\n",
       "      <td>0.232583</td>\n",
       "      <td>0.540697</td>\n",
       "      <td>13.834867</td>\n",
       "      <td>0.566859</td>\n",
       "      <td>14.067450</td>\n",
       "      <td>0.458906</td>\n",
       "      <td>-0.389923</td>\n",
       "      <td>0.068983</td>\n",
       "    </tr>\n",
       "    <tr>\n",
       "      <th>4</th>\n",
       "      <td>1.0</td>\n",
       "      <td>5.0</td>\n",
       "      <td>0.638038</td>\n",
       "      <td>0.230946</td>\n",
       "      <td>0.0</td>\n",
       "      <td>0.230946</td>\n",
       "      <td>0.566859</td>\n",
       "      <td>11.185465</td>\n",
       "      <td>0.510971</td>\n",
       "      <td>11.416410</td>\n",
       "      <td>1.016216</td>\n",
       "      <td>-0.270900</td>\n",
       "      <td>0.745316</td>\n",
       "    </tr>\n",
       "  </tbody>\n",
       "</table>\n",
       "</div>"
      ],
      "text/plain": [
       "   time_steps  time  x_0_expected_mean  x_0_expected_precision  x_0_mean  \\\n",
       "0         1.0   1.0           0.622459                0.235004       1.0   \n",
       "1         1.0   2.0           0.624085                0.234603       1.0   \n",
       "2         1.0   3.0           0.627284                0.233799       1.0   \n",
       "3         1.0   4.0           0.631975                0.232583       1.0   \n",
       "4         1.0   5.0           0.638038                0.230946       0.0   \n",
       "\n",
       "   x_0_precision  x_1_expected_mean  x_1_expected_precision  x_1_mean  \\\n",
       "0       0.235004           0.500000               54.301674  0.506923   \n",
       "1       0.234603           0.506923               27.283697  0.520583   \n",
       "2       0.233799           0.520583               18.296556  0.540697   \n",
       "3       0.232583           0.540697               13.834867  0.566859   \n",
       "4       0.230946           0.566859               11.185465  0.510971   \n",
       "\n",
       "   x_1_precision  x_0_surprise  x_1_surprise  total_surprise  \n",
       "0      54.536678      0.474077     -1.077038       -0.602961  \n",
       "1      27.518301      0.471469     -0.731660       -0.260191  \n",
       "2      18.530355      0.466356     -0.530717       -0.064361  \n",
       "3      14.067450      0.458906     -0.389923        0.068983  \n",
       "4      11.416410      1.016216     -0.270900        0.745316  "
      ]
     },
     "execution_count": 5,
     "metadata": {},
     "output_type": "execute_result"
    }
   ],
   "source": [
    "agent.to_pandas().head()"
   ]
  },
  {
   "cell_type": "markdown",
   "id": "7f4cc804-fb04-44d5-bfbf-b62b4e2c2ceb",
   "metadata": {
    "editable": true,
    "slideshow": {
     "slide_type": ""
    },
    "tags": []
   },
   "source": [
    "### Creating the decision rule"
   ]
  },
  {
   "cell_type": "markdown",
   "id": "6530129d-af70-4e3d-98e6-8e0ec06a410e",
   "metadata": {
    "editable": true,
    "slideshow": {
     "slide_type": ""
    },
    "tags": []
   },
   "source": [
    "The next step is to use these beliefs to generate the corresponding decisions at each time point. We can work on the simplest {term}`Decision rule`, which is probably to use the expected value of the first level a time $t$ to sample from a [binomial distribution](https://en.wikipedia.org/wiki/Binomial_distribution) and generate a binary decision. Intuitively, this just means that the agent is more likely to select a given stimulus when the beliefs that is is associated with a positive outcome are close to `1.0`."
   ]
  },
  {
   "cell_type": "code",
   "execution_count": 6,
   "id": "2558d4fe-448b-4d9c-8944-93087f01feda",
   "metadata": {
    "editable": true,
    "execution": {
     "iopub.execute_input": "2024-09-26T13:12:13.195862Z",
     "iopub.status.busy": "2024-09-26T13:12:13.195673Z",
     "iopub.status.idle": "2024-09-26T13:12:13.199582Z",
     "shell.execute_reply": "2024-09-26T13:12:13.198820Z"
    },
    "slideshow": {
     "slide_type": ""
    },
    "tags": []
   },
   "outputs": [],
   "source": [
    "# a simple decision rule using the first level of the HGF\n",
    "np.random.seed(1)\n",
    "responses = np.random.binomial(p=agent.node_trajectories[0][\"expected_mean\"], n=1)"
   ]
  },
  {
   "cell_type": "markdown",
   "id": "214a4f52-ff3f-4d7c-8c43-f0fd9b9d6782",
   "metadata": {
    "editable": true,
    "slideshow": {
     "slide_type": ""
    },
    "tags": []
   },
   "source": [
    "This gives us a binary vector of responses $y$ that can be related to observations and underlying beliefs."
   ]
  },
  {
   "cell_type": "code",
   "execution_count": 7,
   "id": "d4391036-ddb1-42a0-ba66-6e9db3054656",
   "metadata": {
    "editable": true,
    "execution": {
     "iopub.execute_input": "2024-09-26T13:12:13.201662Z",
     "iopub.status.busy": "2024-09-26T13:12:13.201470Z",
     "iopub.status.idle": "2024-09-26T13:12:13.627215Z",
     "shell.execute_reply": "2024-09-26T13:12:13.626408Z"
    },
    "slideshow": {
     "slide_type": ""
    },
    "tags": [
     "hide-input"
    ]
   },
   "outputs": [
    {
     "data": {
      "text/plain": [
       "Text(0.5, 0, 'Trials')"
      ]
     },
     "execution_count": 7,
     "metadata": {},
     "output_type": "execute_result"
    },
    {
     "data": {
      "image/png": "[encoded data removed]",
      "text/plain": [
       "<Figure size 1200x300 with 1 Axes>"
      ]
     },
     "metadata": {},
     "output_type": "display_data"
    }
   ],
   "source": [
    "plt.figure(figsize=(12, 3))\n",
    "jitter = responses * .1 + (1-responses) * -.1\n",
    "plt.scatter(np.arange(len(u)), u, label=\"Observations\", color=\"#4c72b0\", edgecolor=\"k\", alpha=.2)\n",
    "plt.scatter(np.arange(len(responses)), responses + jitter, label=\"Responses\", color=\"#c44e52\", alpha=.2, edgecolor=\"k\")\n",
    "plt.plot(agent.node_trajectories[0][\"expected_mean\"], label=\"Beliefs\", linestyle=\"--\")\n",
    "plt.legend()\n",
    "plt.xlabel(\"Trials\")"
   ]
  },
  {
   "cell_type": "markdown",
   "id": "558452b8-3d7c-484e-a59a-933f0fcf52f5",
   "metadata": {
    "editable": true,
    "slideshow": {
     "slide_type": ""
    },
    "tags": []
   },
   "source": [
    "We now have the two ingredients required to create a response model:\n",
    "- the vector `observations` ($u$) that encode the current association between the stimuli and the outcomes.\n",
    "- the vector `responses` ($y$) that encode the inferred association by the participant, using the expected value at time $t$ at the first level.\n",
    "\n",
    "```{note}\n",
    "We started by simulation the responses from an agent for the sake of demonstration and parameter recovery, but in the context of an experiment, the user already has access to the vectors $y$ and $u$ and could start from her.\n",
    "```"
   ]
  },
  {
   "cell_type": "markdown",
   "id": "6055eef2-8e7b-4a13-991e-394895f66391",
   "metadata": {
    "editable": true,
    "slideshow": {
     "slide_type": ""
    },
    "tags": []
   },
   "source": [
    "### Creating a new response function\n",
    "\n",
    "Let's now consider that the two vectors of observations $u$ and responses $y$ were obtained from a real participant undergoing a real experiment. In this situation, we assume that this participant internally used a {term}`Perceptual model` and a {term}`Decision rule` that might resemble what we defined previously, and we want to infer what are the most likely values for critical parameters in the model (e.g. the evolution rate $\\omega_2$). To do so, we are going to use our dataset (both $u$ and $y$), and try many models. We are going to fix the values of all HGF parameters to reasonable estimates (here, using the exact same values as in the simulation), except for $\\omega_2$. For this last parameter, we will assume a prior set at $\\mathcal{N}(-2.0, 2.0)$. The idea is that we want to sample many $\\omega_2$ values from this distribution and see if the model is performing better with some values.\n",
    "\n",
    "But here, we need a clear definition of what this means *to perform better* for a given model. And this is exactly what a {term}`Response model` does, it is a way for us to evaluate how likely the behaviours $y$ for a given {term}`Perceptual model`, and assuming that the participants use this specific {term}`Decision rule`. In [pyhgf](https://github.com/ilabcode/pyhgf), this step is performed by creating the corresponding {term}`Response function`, which is the Python function that will return the surprise $S$ of getting these behaviours from the participant under this decision rule.\n",
    "\n",
    "````{hint} What is a *response function*?\n",
    "Most of the work around HGFs consists in creating and adapting {term}`Response model` to work with a given experimental design. There is no limit in terms of what can be used as a {term}`Response model`, provided that the {term}`Perceptual model` and the {term}`Decision rule` are clearly defined.\n",
    "\n",
    "In [pyhgf](https://github.com/ilabcode/pyhgf), the {term}`Perceptual model` is the probabilistic network created with the main {py:class}`pyhgf.model.HGF` and {py:class}`pyhgf.distribution.HGFDistribution` classes. The {term}`Response model` is something that is implicitly defined when we create the {term}`Response function`, a Python function that computes the negative of the log-likelihood of the actions given the perceptual model. This {term}`Response function` can be passed as an argument to the main classes using the keywords arguments `response_function`, `response_function_inputs` and `response_function_parameters`. The `response_function` can be any callable that returns the surprise $S$ of observing action $y$ given this model, and the {term}`Decision rule`. The `response_function_inputs` are the additional data to the response function (optional) while `response_function_parameters` are the additional parameters (optional). The `response_function_inputs` is where the actions $y$ should be provided.\n",
    "\n",
    "```{important}\n",
    "A *response function* should not return the actions given perceptual inputs $y | u$ (this is what the {term}`Decision rule` does), but the [surprise](https://en.wikipedia.org/wiki/Information_content) $S$ associated with the observation of actions given the perceptual inputs $S(y | u)$, which is defined by:\n",
    "\n",
    "$$\n",
    "\\begin{align}\n",
    "S(y | u) = -\\log[Pr(y | u)]\n",
    "\\end{align}\n",
    "$$\n",
    "```\n",
    "\n",
    "If you are already familiar with using HGFs in the Julia equivalent of [pyhgf](https://github.com/ilabcode/pyhgf), you probably noted that the toolbox is split into a **perceptual** package [HierarchicalGaussianFiltering.jl](https://github.com/ilabcode/HierarchicalGaussianFiltering.jl) and a **response** package [ActionModels.jl](https://github.com/ilabcode/ActionModels.jl). This was made to make the difference between the two parts of the HGF clear and be explicit that you can use a perceptual model without any action model. In [pyhgf](https://github.com/ilabcode/pyhgf) however, everything happens in the same package, the response function is merely an optional, additional argument that can be passed to describe how surprise is computed.\n",
    "````"
   ]
  },
  {
   "cell_type": "markdown",
   "id": "22f83493-de32-4b95-b79d-e93b116712e4",
   "metadata": {
    "editable": true,
    "slideshow": {
     "slide_type": ""
    },
    "tags": []
   },
   "source": [
    "Therefore, we want a {term}`Response function` that returns the surprise for observing the response $y$, which is:\n",
    "\n",
    "$$\n",
    "\\begin{align}\n",
    "surprise | y & = \\sum_{t=1}^{t} - \\log(p(y^t | \\hat{\\mu}_1)) \\\\\n",
    "& = \\sum_{t=1}^{t} - \\log(\\hat{\\mu}_1^y(1 - \\hat{\\mu}_1)^{1-y}) \\\\\n",
    "\\end{align}\n",
    "$$\n",
    "We can write such a response function in Python as:"
   ]
  },
  {
   "cell_type": "code",
   "execution_count": 8,
   "id": "9ffe8ee2-1b36-400b-8f71-09e9f097ba2a",
   "metadata": {
    "editable": true,
    "execution": {
     "iopub.execute_input": "2024-09-26T13:12:13.629785Z",
     "iopub.status.busy": "2024-09-26T13:12:13.629558Z",
     "iopub.status.idle": "2024-09-26T13:12:13.634023Z",
     "shell.execute_reply": "2024-09-26T13:12:13.633133Z"
    },
    "slideshow": {
     "slide_type": ""
    },
    "tags": []
   },
   "outputs": [],
   "source": [
    "def response_function(hgf, response_function_inputs, response_function_parameters=None):\n",
    "    \"\"\"A simple response function returning the binary surprise.\"\"\"\n",
    "\n",
    "    # response_function_parameters can be used to parametrize the response function (e.g. inverse temperature)\n",
    "    # ...<\n",
    "\n",
    "    # the expected values at the first level of the HGF\n",
    "    beliefs = hgf.node_trajectories[0][\"expected_mean\"]\n",
    "\n",
    "    # get the decision from the inputs to the response function\n",
    "    return jnp.sum(jnp.where(response_function_inputs, -jnp.log(beliefs), -jnp.log(1.0 - beliefs)))"
   ]
  },
  {
   "cell_type": "markdown",
   "id": "a9be33b8-8fcc-4acb-b151-7007f516044d",
   "metadata": {},
   "source": [
    "This function takes the expected probability from the binary node and uses it to predict the participant's decision. The surprise is computed using the binary surprise (see {py:func}`pyhgf.update.binary.binary_surprise`). This corresponds to the standard binary softmax response function that is also accessible from the {py:func}`pyhgf.response.binary_softmax` function."
   ]
  },
  {
   "cell_type": "markdown",
   "id": "6a564169-3fe2-4f7f-8fbe-7ac7b9bf8a9b",
   "metadata": {
    "editable": true,
    "slideshow": {
     "slide_type": ""
    },
    "tags": []
   },
   "source": [
    "```{note}\n",
    "Note here that our {term}`Response function` has a structure that is the standard way to write response functions in [pyhgf](https://github.com/ilabcode/pyhgf), that is with two input arguments:\n",
    "- the HGF model on which the response function applies (i.e. the {term}`Perceptual model`)\n",
    "- the additional parameters provided to the response function. This can include additional parameters that can be part of the equation of the model, or the input data used by this model. We then provide the `response` vector ($y$) here.\n",
    "\n",
    "Note that the operation inside the function should be compatible with [JAX's core transformations](https://github.com/google/jax#transformations).\n",
    "```"
   ]
  },
  {
   "cell_type": "code",
   "execution_count": 9,
   "id": "8abe91c5-7748-4445-826c-e52dff35094c",
   "metadata": {
    "editable": true,
    "execution": {
     "iopub.execute_input": "2024-09-26T13:12:13.636803Z",
     "iopub.status.busy": "2024-09-26T13:12:13.636561Z",
     "iopub.status.idle": "2024-09-26T13:12:13.674437Z",
     "shell.execute_reply": "2024-09-26T13:12:13.673639Z"
    },
    "slideshow": {
     "slide_type": ""
    },
    "tags": []
   },
   "outputs": [
    {
     "data": {
      "text/plain": [
       "Array(205.87854, dtype=float32)"
      ]
     },
     "execution_count": 9,
     "metadata": {},
     "output_type": "execute_result"
    }
   ],
   "source": [
    "# return the overall surprise\n",
    "response_function(hgf=agent, response_function_inputs=responses)"
   ]
  },
  {
   "cell_type": "markdown",
   "id": "369ac58b-1a9a-4799-8d2d-a928f1154739",
   "metadata": {
    "editable": true,
    "slideshow": {
     "slide_type": ""
    },
    "tags": []
   },
   "source": [
    "We now have a response function that returns the surprise associated with the observation of the agent's action. Conveniently, this is by definition the negative of the log-likelihood of our model, which means that we can easily interface this with other Python packages used for optimisation and Bayesian inference like [PyMC](https://www.pymc.io/projects/docs/en/stable/learn.html) or [BlackJAX](https://blackjax-devs.github.io/blackjax/). We use the surprise as a default output, however, as this metric is more commonly used in computational psychiatry and is more easily connected to psychological functioning."
   ]
  },
  {
   "cell_type": "markdown",
   "id": "5d76e61b-ea8b-452d-a7c9-b2f50fd33f2d",
   "metadata": {
    "editable": true,
    "slideshow": {
     "slide_type": ""
    },
    "tags": []
   },
   "source": [
    "## Recovering HGF parameters from the observed behaviors"
   ]
  },
  {
   "cell_type": "markdown",
   "id": "1e1b18b6-dad1-4d95-8835-e994c53259c1",
   "metadata": {},
   "source": [
    "Now that we have created our {term}`Response function`, and that we made sure it complies with the standard ways of writing responses functions (see above), we can use it to perform inference over the most likely values of some parameters. We know that the agent used to simulate behaviour had an *evolution rate* set at `-4.0`. In the code below, we create a new HGF distribution using the same values, but setting the $\\omega_2$ parameter free so we can estimate the most likely value, given the observed behaviours."
   ]
  },
  {
   "cell_type": "code",
   "execution_count": 10,
   "id": "edb96ba7-6824-4d60-9dcf-8511066f2853",
   "metadata": {
    "execution": {
     "iopub.execute_input": "2024-09-26T13:12:13.676763Z",
     "iopub.status.busy": "2024-09-26T13:12:13.676562Z",
     "iopub.status.idle": "2024-09-26T13:12:13.681760Z",
     "shell.execute_reply": "2024-09-26T13:12:13.681056Z"
    }
   },
   "outputs": [],
   "source": [
    "hgf_logp_op = HGFDistribution(\n",
    "    n_levels=2,\n",
    "    model_type=\"binary\",\n",
    "    input_data=u[jnp.newaxis, :],\n",
    "    response_function=response_function,\n",
    "    response_function_inputs=responses[jnp.newaxis, :]\n",
    ")"
   ]
  },
  {
   "cell_type": "markdown",
   "id": "1d03b46e-bf4d-4934-964f-eb683fcc1f4a",
   "metadata": {},
   "source": [
    "```{note}\n",
    "The response function that we created above is passed as an argument directly to the HGF distribution, together with the additional parameters. The additional parameters should be a list of tuples that has the same length as the number of models created.\n",
    "```"
   ]
  },
  {
   "cell_type": "code",
   "execution_count": 11,
   "id": "c27b15f5-0b79-448f-8b27-024e417fb462",
   "metadata": {
    "execution": {
     "iopub.execute_input": "2024-09-26T13:12:13.684159Z",
     "iopub.status.busy": "2024-09-26T13:12:13.683957Z",
     "iopub.status.idle": "2024-09-26T13:12:13.696450Z",
     "shell.execute_reply": "2024-09-26T13:12:13.695652Z"
    }
   },
   "outputs": [],
   "source": [
    "with pm.Model() as sigmoid_hgf:\n",
    "\n",
    "    # prior over the evolution rate at the second level\n",
    "    tonic_volatility_2 = pm.Normal(\"tonic_volatility_2\", -2.0, 2.0)\n",
    "\n",
    "    # the main HGF distribution\n",
    "    pm.Potential(\"hgf_loglike\", hgf_logp_op(tonic_volatility_2=tonic_volatility_2))"
   ]
  },
  {
   "cell_type": "code",
   "execution_count": 12,
   "id": "e80e247a-7450-42f3-b4e7-352f965f63f4",
   "metadata": {
    "execution": {
     "iopub.execute_input": "2024-09-26T13:12:13.698997Z",
     "iopub.status.busy": "2024-09-26T13:12:13.698685Z",
     "iopub.status.idle": "2024-09-26T13:12:18.737231Z",
     "shell.execute_reply": "2024-09-26T13:12:18.736288Z"
    }
   },
   "outputs": [
    {
     "name": "stderr",
     "output_type": "stream",
     "text": [
      "Auto-assigning NUTS sampler...\n"
     ]
    },
    {
     "name": "stderr",
     "output_type": "stream",
     "text": [
      "Initializing NUTS using jitter+adapt_diag...\n"
     ]
    },
    {
     "name": "stderr",
     "output_type": "stream",
     "text": [
      "Sequential sampling (2 chains in 1 job)\n"
     ]
    },
    {
     "name": "stderr",
     "output_type": "stream",
     "text": [
      "NUTS: [tonic_volatility_2]\n"
     ]
    },
    {
     "data": {
      "application/vnd.jupyter.widget-view+json": {
       "model_id": "4152cbcafece48a09ce242d49c390adb",
       "version_major": 2,
       "version_minor": 0
      },
      "text/plain": [
       "Output()"
      ]
     },
     "metadata": {},
     "output_type": "display_data"
    },
    {
     "data": {
      "text/html": [
       "<pre style=\"white-space:pre;overflow-x:auto;line-height:normal;font-family:Menlo,'DejaVu Sans Mono',consolas,'Courier New',monospace\"></pre>\n"
      ],
      "text/plain": []
     },
     "metadata": {},
     "output_type": "display_data"
    },
    {
     "data": {
      "text/html": [
       "<pre style=\"white-space:pre;overflow-x:auto;line-height:normal;font-family:Menlo,'DejaVu Sans Mono',consolas,'Courier New',monospace\">\n",
       "</pre>\n"
      ],
      "text/plain": [
       "\n"
      ]
     },
     "metadata": {},
     "output_type": "display_data"
    },
    {
     "data": {
      "application/vnd.jupyter.widget-view+json": {
       "model_id": "276037451f5d445abfa0f73975339cc6",
       "version_major": 2,
       "version_minor": 0
      },
      "text/plain": [
       "Output()"
      ]
     },
     "metadata": {},
     "output_type": "display_data"
    },
    {
     "data": {
      "text/html": [
       "<pre style=\"white-space:pre;overflow-x:auto;line-height:normal;font-family:Menlo,'DejaVu Sans Mono',consolas,'Courier New',monospace\"></pre>\n"
      ],
      "text/plain": []
     },
     "metadata": {},
     "output_type": "display_data"
    },
    {
     "data": {
      "text/html": [
       "<pre style=\"white-space:pre;overflow-x:auto;line-height:normal;font-family:Menlo,'DejaVu Sans Mono',consolas,'Courier New',monospace\">\n",
       "</pre>\n"
      ],
      "text/plain": [
       "\n"
      ]
     },
     "metadata": {},
     "output_type": "display_data"
    },
    {
     "name": "stderr",
     "output_type": "stream",
     "text": [
      "Sampling 2 chains for 1_000 tune and 1_000 draw iterations (2_000 + 2_000 draws total) took 4 seconds.\n"
     ]
    },
    {
     "name": "stderr",
     "output_type": "stream",
     "text": [
      "We recommend running at least 4 chains for robust computation of convergence diagnostics\n"
     ]
    }
   ],
   "source": [
    "with sigmoid_hgf:\n",
    "    sigmoid_hgf_idata = pm.sample(chains=2, cores=1)"
   ]
  },
  {
   "cell_type": "code",
   "execution_count": 13,
   "id": "4fe53229-92ef-473e-b3c1-4f9c147c3a32",
   "metadata": {
    "execution": {
     "iopub.execute_input": "2024-09-26T13:12:18.823100Z",
     "iopub.status.busy": "2024-09-26T13:12:18.822945Z",
     "iopub.status.idle": "2024-09-26T13:12:19.053547Z",
     "shell.execute_reply": "2024-09-26T13:12:19.052922Z"
    }
   },
   "outputs": [
    {
     "data": {
      "text/html": [
       "<div>\n",
       "<style scoped>\n",
       "    .dataframe tbody tr th:only-of-type {\n",
       "        vertical-align: middle;\n",
       "    }\n",
       "\n",
       "    .dataframe tbody tr th {\n",
       "        vertical-align: top;\n",
       "    }\n",
       "\n",
       "    .dataframe thead th {\n",
       "        text-align: right;\n",
       "    }\n",
       "</style>\n",
       "<table border=\"1\" class=\"dataframe\">\n",
       "  <thead>\n",
       "    <tr style=\"text-align: right;\">\n",
       "      <th></th>\n",
       "      <th>mean</th>\n",
       "      <th>sd</th>\n",
       "      <th>hdi_3%</th>\n",
       "      <th>hdi_97%</th>\n",
       "      <th>mcse_mean</th>\n",
       "      <th>mcse_sd</th>\n",
       "      <th>ess_bulk</th>\n",
       "      <th>ess_tail</th>\n",
       "      <th>r_hat</th>\n",
       "    </tr>\n",
       "  </thead>\n",
       "  <tbody>\n",
       "    <tr>\n",
       "      <th>tonic_volatility_2</th>\n",
       "      <td>-3.943</td>\n",
       "      <td>0.485</td>\n",
       "      <td>-4.864</td>\n",
       "      <td>-3.056</td>\n",
       "      <td>0.017</td>\n",
       "      <td>0.012</td>\n",
       "      <td>861.0</td>\n",
       "      <td>1248.0</td>\n",
       "      <td>1.0</td>\n",
       "    </tr>\n",
       "  </tbody>\n",
       "</table>\n",
       "</div>"
      ],
      "text/plain": [
       "                     mean     sd  hdi_3%  hdi_97%  mcse_mean  mcse_sd  \\\n",
       "tonic_volatility_2 -3.943  0.485  -4.864   -3.056      0.017    0.012   \n",
       "\n",
       "                    ess_bulk  ess_tail  r_hat  \n",
       "tonic_volatility_2     861.0    1248.0    1.0  "
      ]
     },
     "execution_count": 13,
     "metadata": {},
     "output_type": "execute_result"
    },
    {
     "data": {
      "image/png": "[encoded data removed]",
      "text/plain": [
       "<Figure size 1200x200 with 2 Axes>"
      ]
     },
     "metadata": {},
     "output_type": "display_data"
    }
   ],
   "source": [
    "az.plot_trace(sigmoid_hgf_idata, var_names=[\"tonic_volatility_2\"]);\n",
    "az.summary(sigmoid_hgf_idata, var_names=[\"tonic_volatility_2\"])"
   ]
  },
  {
   "cell_type": "markdown",
   "id": "bc1052c7-6278-4e98-9532-768be3c5edfe",
   "metadata": {},
   "source": [
    "The results above indicate that given the responses provided by the participant, the most likely values for the parameter $\\omega_2$ are between -4.9 and -3.1, with a mean at -3.9 (you can find slightly different values if you sample different actions from the decisions function). We can consider this as an excellent estimate given the sparsity of the data, and the complexity of the model."
   ]
  },
  {
   "cell_type": "markdown",
   "id": "1fb6a2e6-e5a5-42c0-a3bb-33569d390836",
   "metadata": {},
   "source": [
    "## Glossary\n",
    "\n",
    "```{glossary}\n",
    "\n",
    "Perceptual model\n",
    "    The perceptual model of a Hierarchical Gaussian Filter traditionally refers to the branch receiving observations $u$ about states of the world and that performs the updating of beliefs about these states. By generalisation, the perceptual model is any probabilistic network that can be created in [pyhgf](https://github.com/ilabcode/pyhgf), receiving an arbitrary number of inputs. An HGF that only consists of a perceptual model will act as a Bayesian filter.\n",
    "\n",
    "Response model\n",
    "    The response model of a Hierarchical Gaussian filter refers to the branch that uses the beliefs about the state of the world to generate actions using the {term}`Decision rule`. This branch is also sometimes referred to as the **decision model** or the **observation model**, depending on the fields. Critically, this part of the model can return the surprise ($-\\log[Pr(x)]$) associated with the observations (here, the observations include the inputs $u$ of the probabilistic network, but will also include the responses of the participant $y$ if there are some).\n",
    "\n",
    "Decision rule\n",
    "    The decision rule is a function stating how the agent selects among all possible actions, given the state of the beliefs in the perceptual model, and optionally additional parameters. Programmatically, this is a Python function taking a perceptual model as input (i.e. an instance of the HGF class), and returning a sequence of actions. This can be used for simulation. The decision rule should be clearly defined in order to write the {term}`Response function`.\n",
    "\n",
    "Response function\n",
    "    The response function is a term that we use specifically for this package ([pyhgf](https://github.com/ilabcode/pyhgf)). It refers to the Python function that, using a given HGF model and optional parameter, returns the surprise associated with the observed actions.\n",
    "\n",
    "```"
   ]
  },
  {
   "cell_type": "markdown",
   "id": "68510623-fdbd-468f-b67a-57faa51a439d",
   "metadata": {},
   "source": [
    "## System configuration"
   ]
  },
  {
   "cell_type": "code",
   "execution_count": 14,
   "id": "9fd93ecb-3ba2-4148-bb80-096027161404",
   "metadata": {
    "execution": {
     "iopub.execute_input": "2024-09-26T13:12:19.056166Z",
     "iopub.status.busy": "2024-09-26T13:12:19.055962Z",
     "iopub.status.idle": "2024-09-26T13:12:19.069696Z",
     "shell.execute_reply": "2024-09-26T13:12:19.068755Z"
    }
   },
   "outputs": [
    {
     "name": "stdout",
     "output_type": "stream",
     "text": [
      "Last updated: Thu Sep 26 2024\n",
      "\n",
      "Python implementation: CPython\n",
      "Python version       : 3.12.3\n",
      "IPython version      : 8.23.0\n",
      "\n",
      "pyhgf : 0.1.4\n",
      "jax   : 0.4.31\n",
      "jaxlib: 0.4.31\n",
      "\n",
      "arviz     : 0.19.0\n",
      "sys       : 3.12.3 | packaged by conda-forge | (main, Apr 15 2024, 18:38:13) [GCC 12.3.0]\n",
      "IPython   : 8.23.0\n",
      "pymc      : 5.16.2\n",
      "numpy     : 1.26.0\n",
      "matplotlib: 3.8.4\n",
      "jax       : 0.4.31\n",
      "\n",
      "Watermark: 2.4.3\n",
      "\n"
     ]
    }
   ],
   "source": [
    "%load_ext watermark\n",
    "%watermark -n -u -v -iv -w -p pyhgf,jax,jaxlib"
   ]
  },
  {
   "cell_type": "code",
   "execution_count": null,
   "id": "5aa8dbc2",
   "metadata": {
    "editable": true,
    "slideshow": {
     "slide_type": ""
    }
   },
   "outputs": [],
   "source": []
  }
 ],
 "metadata": {
  "kernelspec": {
   "display_name": "Python 3 (ipykernel)",
   "language": "python",
   "name": "python3"
  },
  "language_info": {
   "codemirror_mode": {
    "name": "ipython",
    "version": 3
   },
   "file_extension": ".py",
   "mimetype": "text/x-python",
   "name": "python",
   "nbconvert_exporter": "python",
   "pygments_lexer": "ipython3",
   "version": "3.12.3"
  },
  "widgets": {
   "application/vnd.jupyter.widget-state+json": {
    "state": {
     "1dcc99eee28c4ed6851b080de923b644": {
      "model_module": "@jupyter-widgets/base",
      "model_module_version": "2.0.0",
      "model_name": "LayoutModel",
      "state": {
       "_model_module": "@jupyter-widgets/base",
       "_model_module_version": "2.0.0",
       "_model_name": "LayoutModel",
       "_view_count": null,
       "_view_module": "@jupyter-widgets/base",
       "_view_module_version": "2.0.0",
       "_view_name": "LayoutView",
       "align_content": null,
       "align_items": null,
       "align_self": null,
       "border_bottom": null,
       "border_left": null,
       "border_right": null,
       "border_top": null,
       "bottom": null,
       "display": null,
       "flex": null,
       "flex_flow": null,
       "grid_area": null,
       "grid_auto_columns": null,
       "grid_auto_flow": null,
       "grid_auto_rows": null,
       "grid_column": null,
       "grid_gap": null,
       "grid_row": null,
       "grid_template_areas": null,
       "grid_template_columns": null,
       "grid_template_rows": null,
       "height": null,
       "justify_content": null,
       "justify_items": null,
       "left": null,
       "margin": null,
       "max_height": null,
       "max_width": null,
       "min_height": null,
       "min_width": null,
       "object_fit": null,
       "object_position": null,
       "order": null,
       "overflow": null,
       "padding": null,
       "right": null,
       "top": null,
       "visibility": null,
       "width": null
      }
     },
     "276037451f5d445abfa0f73975339cc6": {
      "model_module": "@jupyter-widgets/output",
      "model_module_version": "1.0.0",
      "model_name": "OutputModel",
      "state": {
       "_dom_classes": [],
       "_model_module": "@jupyter-widgets/output",
       "_model_module_version": "1.0.0",
       "_model_name": "OutputModel",
       "_view_count": null,
       "_view_module": "@jupyter-widgets/output",
       "_view_module_version": "1.0.0",
       "_view_name": "OutputView",
       "layout": "IPY_MODEL_59e1726f95c049008aace7fb1c497b82",
       "msg_id": "",
       "outputs": [
        {
         "data": {
          "text/html": "<pre style=\"white-space:pre;overflow-x:auto;line-height:normal;font-family:Menlo,'DejaVu Sans Mono',consolas,'Courier New',monospace\">Sampling chain 1, 0 divergences <span style=\"color: #008000; text-decoration-color: #008000\">━━━━━━━━━━━━━━━━━━━━━━━━━━━━━━━━━━━━━━━━</span> <span style=\"color: #800080; text-decoration-color: #800080\">100%</span> <span style=\"color: #008080; text-decoration-color: #008080\">0:00:00</span> / <span style=\"color: #808000; text-decoration-color: #808000\">0:00:01</span>\n</pre>\n",
          "text/plain": "Sampling chain 1, 0 divergences \u001b[32m━━━━━━━━━━━━━━━━━━━━━━━━━━━━━━━━━━━━━━━━\u001b[0m \u001b[35m100%\u001b[0m \u001b[36m0:00:00\u001b[0m / \u001b[33m0:00:01\u001b[0m\n"
         },
         "metadata": {},
         "output_type": "display_data"
        }
       ],
       "tabbable": null,
       "tooltip": null
      }
     },
     "4152cbcafece48a09ce242d49c390adb": {
      "model_module": "@jupyter-widgets/output",
      "model_module_version": "1.0.0",
      "model_name": "OutputModel",
      "state": {
       "_dom_classes": [],
       "_model_module": "@jupyter-widgets/output",
       "_model_module_version": "1.0.0",
       "_model_name": "OutputModel",
       "_view_count": null,
       "_view_module": "@jupyter-widgets/output",
       "_view_module_version": "1.0.0",
       "_view_name": "OutputView",
       "layout": "IPY_MODEL_1dcc99eee28c4ed6851b080de923b644",
       "msg_id": "",
       "outputs": [
        {
         "data": {
          "text/html": "<pre style=\"white-space:pre;overflow-x:auto;line-height:normal;font-family:Menlo,'DejaVu Sans Mono',consolas,'Courier New',monospace\">Sampling chain 0, 0 divergences <span style=\"color: #008000; text-decoration-color: #008000\">━━━━━━━━━━━━━━━━━━━━━━━━━━━━━━━━━━━━━━━━</span> <span style=\"color: #800080; text-decoration-color: #800080\">100%</span> <span style=\"color: #008080; text-decoration-color: #008080\">0:00:00</span> / <span style=\"color: #808000; text-decoration-color: #808000\">0:00:02</span>\n</pre>\n",
          "text/plain": "Sampling chain 0, 0 divergences \u001b[32m━━━━━━━━━━━━━━━━━━━━━━━━━━━━━━━━━━━━━━━━\u001b[0m \u001b[35m100%\u001b[0m \u001b[36m0:00:00\u001b[0m / \u001b[33m0:00:02\u001b[0m\n"
         },
         "metadata": {},
         "output_type": "display_data"
        }
       ],
       "tabbable": null,
       "tooltip": null
      }
     },
     "59e1726f95c049008aace7fb1c497b82": {
      "model_module": "@jupyter-widgets/base",
      "model_module_version": "2.0.0",
      "model_name": "LayoutModel",
      "state": {
       "_model_module": "@jupyter-widgets/base",
       "_model_module_version": "2.0.0",
       "_model_name": "LayoutModel",
       "_view_count": null,
       "_view_module": "@jupyter-widgets/base",
       "_view_module_version": "2.0.0",
       "_view_name": "LayoutView",
       "align_content": null,
       "align_items": null,
       "align_self": null,
       "border_bottom": null,
       "border_left": null,
       "border_right": null,
       "border_top": null,
       "bottom": null,
       "display": null,
       "flex": null,
       "flex_flow": null,
       "grid_area": null,
       "grid_auto_columns": null,
       "grid_auto_flow": null,
       "grid_auto_rows": null,
       "grid_column": null,
       "grid_gap": null,
       "grid_row": null,
       "grid_template_areas": null,
       "grid_template_columns": null,
       "grid_template_rows": null,
       "height": null,
       "justify_content": null,
       "justify_items": null,
       "left": null,
       "margin": null,
       "max_height": null,
       "max_width": null,
       "min_height": null,
       "min_width": null,
       "object_fit": null,
       "object_position": null,
       "order": null,
       "overflow": null,
       "padding": null,
       "right": null,
       "top": null,
       "visibility": null,
       "width": null
      }
     }
    },
    "version_major": 2,
    "version_minor": 0
   }
  }
 },
 "nbformat": 4,
 "nbformat_minor": 5
}
